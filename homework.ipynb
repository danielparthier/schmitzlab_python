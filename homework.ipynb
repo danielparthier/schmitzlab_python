{
 "cells": [
  {
   "cell_type": "markdown",
   "metadata": {},
   "source": [
    "# Homework"
   ]
  },
  {
   "cell_type": "markdown",
   "metadata": {},
   "source": [
    "## Assigning variables\n",
    "\n",
    "In the lecture you witnessed the most common ways of assigning variables."
   ]
  },
  {
   "cell_type": "code",
   "execution_count": null,
   "metadata": {
    "vscode": {
     "languageId": "plaintext"
    }
   },
   "outputs": [],
   "source": [
    "A = 300\n",
    "B = 450\n",
    "C = A * 2\n",
    "D = A / C"
   ]
  },
  {
   "cell_type": "code",
   "execution_count": null,
   "metadata": {
    "vscode": {
     "languageId": "plaintext"
    }
   },
   "outputs": [],
   "source": [
    "#  assign multiple values to multiple variables\n",
    "X, Y, Z, K = 100, 300, 450, Y * Z"
   ]
  },
  {
   "cell_type": "markdown",
   "metadata": {},
   "source": [
    "What do you expect the output to be?\n",
    "\n",
    "Y = ?\n",
    "K = ?\n",
    "K / Z = ?\n",
    "\n",
    "What are the types of those variables?"
   ]
  },
  {
   "cell_type": "code",
   "execution_count": null,
   "metadata": {
    "vscode": {
     "languageId": "plaintext"
    }
   },
   "outputs": [],
   "source": [
    "# Solution cell\n",
    "# print the values of the variable and check it your predictions were correct\n",
    "\n",
    "# print the types of the varaibles using hte type() function\n",
    "\n",
    "# transform floats to integers"
   ]
  },
  {
   "cell_type": "markdown",
   "metadata": {},
   "source": [
    "## Functions"
   ]
  },
  {
   "cell_type": "code",
   "execution_count": null,
   "metadata": {
    "vscode": {
     "languageId": "plaintext"
    }
   },
   "outputs": [],
   "source": []
  }
 ],
 "metadata": {
  "language_info": {
   "name": "python"
  }
 },
 "nbformat": 4,
 "nbformat_minor": 2
}
