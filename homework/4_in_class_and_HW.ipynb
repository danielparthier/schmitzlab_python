{
 "cells": [
  {
   "cell_type": "markdown",
   "metadata": {},
   "source": [
    "# First steps into NumPy and Matplotlib"
   ]
  },
  {
   "cell_type": "markdown",
   "metadata": {},
   "source": [
    "First brave dive into working with numbers and visualizing them\n",
    "\n",
    "Resources:\\\n",
    "NumPy Absolute beginner: https://numpy.org/doc/2.2/user/absolute_beginners.html\\\n",
    "NumPy User: https://numpy.org/doc/2.2/user/index.html#user\\\n",
    "Matplotlib : https://matplotlib.org/stable/ \n"
   ]
  },
  {
   "cell_type": "code",
   "execution_count": 3,
   "metadata": {},
   "outputs": [],
   "source": [
    "# importing librarises\n",
    "import numpy as np\n",
    "import matplotlib.pyplot as plt"
   ]
  },
  {
   "cell_type": "markdown",
   "metadata": {},
   "source": [
    "### Avoid for loops when working with NumPy\n",
    "\n",
    "Check the documentation for an alternative. Usually there's already a way so you don't need to reinvent the wheel."
   ]
  },
  {
   "cell_type": "markdown",
   "metadata": {},
   "source": [
    "NumPy allows for the substitution of for loops. This is important when working with huge data. Using NumPy will increase the processing speed significantly. Of course, you can't trust us blindly, so let's compare the performance of a for loop vs NumPy. We'll use the timeit module to measure the time it takes for the execution of the code."
   ]
  },
  {
   "cell_type": "markdown",
   "metadata": {},
   "source": [
    "Let's compare two of the solutions from last week's HW."
   ]
  },
  {
   "cell_type": "code",
   "execution_count": null,
   "metadata": {},
   "outputs": [],
   "source": [
    "RMPs = np.array([-68.93, -72.71, -55.55, -58.70, -44.18, -75.16, -43.82, -80.47, -63.30, -39.27, -46.08, -32.97])"
   ]
  },
  {
   "cell_type": "code",
   "execution_count": null,
   "metadata": {},
   "outputs": [],
   "source": [
    "%%timeit\n",
    "# solution 2.2 \n",
    "\n",
    "# find max \n",
    "max_RMP = np.amax(RMPs)\n",
    "# loop to find the index of max values\n",
    "for i, val in enumerate(RMPs):\n",
    "    # if the value is equal to found max \n",
    "    if val == max_RMP:\n",
    "        # update index of max value\n",
    "        indx_max = i\n",
    "\n",
    "# removing the max_val\n",
    "# if indx_max is last, then we keep RMPs from 0 to len(RMPs) - 1 - this is done like this RMPs[:-1]\n",
    "if indx_max + 1 == len(RMPs) - 1: # if last\n",
    "    RMPs_no_max = RMPs[:-1]\n",
    "elif indx_max == 0: # if the max value is in position 0\n",
    "    RMPs_no_max = RMPs[1:] # RMPs without first value\n",
    "else: # if max value is somewhere inside the array\n",
    "    RMPs_no_max = np.concat([RMPs[:indx_max], RMPs[indx_max+1:]]) # concatinate RMPs up to the max index and the ones after\n",
    "\n",
    "# print(RMPs_no_max)\n",
    "\n",
    "# do the same as before to find the max in RMPs_no_max\n",
    "max_RMP2 = np.amax(RMPs_no_max)\n",
    "for i, val in enumerate(RMPs_no_max):\n",
    "    if val == max_RMP2:\n",
    "        indx_max_2 = i\n",
    "\n",
    "# see whether we need to add 1 to the indx_max_2\n",
    "if indx_max < indx_max_2: # if the max_val is before max_val2, then to index max_val2 in the original array, \n",
    "    # we'd need to add 1 to it, correcting for the RMP_max val that we removed\n",
    "    indx_max_2 = indx_max_2 + 1"
   ]
  },
  {
   "cell_type": "code",
   "execution_count": null,
   "metadata": {},
   "outputs": [],
   "source": [
    "%%timeit\n",
    "# alternative and preffered way instead of a for loop\n",
    "# remember those are only exxercises in real life we would like to use functions that already exist\n",
    "# they are faster and there's no need for us to reinvent the wheel\n",
    "\n",
    "RMPs_sorted = sorted(RMPs) # sorts the list from smallest to biggest \n",
    "RMP_max, RMP_max2 = RMPs_sorted[-1], RMPs_sorted[-2]\n",
    "\n",
    "indx_max = np.where(RMPs == RMP_max)[0][0]\n",
    "indx_max_2 = np.where(RMPs == RMP_max2)[0][0]"
   ]
  },
  {
   "cell_type": "markdown",
   "metadata": {},
   "source": [
    "Are you now convinced that working with the built-in numpy functions is significantly faster?"
   ]
  },
  {
   "cell_type": "markdown",
   "metadata": {},
   "source": [
    "### Creating NumPy arrays\n",
    "\n",
    "- filled arrays \n",
    "    - with zeros\n",
    "    - with ones\n",
    "    - with consecutive numbers\n",
    "    - with random numbers\n",
    "- conversion from a list\n",
    "- with anything (probably useless)"
   ]
  },
  {
   "cell_type": "code",
   "execution_count": null,
   "metadata": {},
   "outputs": [],
   "source": [
    "simple_array = np.array([1, 2, 3])\n",
    "\n",
    "# check the shape\n",
    "np.shape(simple_array)"
   ]
  },
  {
   "cell_type": "code",
   "execution_count": null,
   "metadata": {},
   "outputs": [],
   "source": [
    "# filled array with zeros \n",
    "\n",
    "array_1d = np.zeros(10)\n",
    "array_2d = np.zeros((10, 10))\n",
    "array_3d = np.zeros((10, 10, 10))\n",
    "\n",
    "print(np.shape(array_1d))\n",
    "print(np.shape(array_2d))\n",
    "print(np.shape(array_3d))\n"
   ]
  },
  {
   "cell_type": "code",
   "execution_count": 34,
   "metadata": {},
   "outputs": [],
   "source": [
    "array_3d_ones = np.ones((10, 10, 10))"
   ]
  },
  {
   "cell_type": "code",
   "execution_count": null,
   "metadata": {},
   "outputs": [],
   "source": [
    "# arrawys with consequitve numbers\n",
    "\n",
    "array_aranged = np.arange(1, 13)\n",
    "print(array_aranged)"
   ]
  },
  {
   "cell_type": "code",
   "execution_count": 41,
   "metadata": {},
   "outputs": [],
   "source": [
    "# changing the shapes of arrays\n",
    "reshaped_array = array_aranged.reshape(3, 2, 2)"
   ]
  },
  {
   "cell_type": "code",
   "execution_count": null,
   "metadata": {},
   "outputs": [],
   "source": [
    "# generate an array from a list. Change the shape\n",
    "\n",
    "list1 = [1,3,5,7,9,11]\n",
    "array1 = np.array(list1)\n",
    "\n",
    "array_2D =  array1.reshape(2,3)\n",
    "\n",
    "print(list1)\n",
    "print(array1)\n",
    "print(np.shape(array1))\n",
    "\n",
    "print(array_2D)\n",
    "print(np.shape(array_2D))"
   ]
  },
  {
   "cell_type": "markdown",
   "metadata": {},
   "source": [
    "#### np.arange, np.linspace, np.logspace"
   ]
  },
  {
   "cell_type": "code",
   "execution_count": null,
   "metadata": {},
   "outputs": [],
   "source": [
    "# generate sequences from a starting number, to a end number, with a step of something\n",
    "\n",
    "V = np.arange(2, 10, 0.9)\n",
    "print(V)"
   ]
  },
  {
   "cell_type": "code",
   "execution_count": null,
   "metadata": {},
   "outputs": [],
   "source": [
    "# generate sequences from a starting number, to a end number, with length 11\n",
    "# the step is the calculated for you\n",
    "# very useful for plotting\n",
    "\n",
    "B = np.linspace(2, 10, 11)\n",
    "print(B)"
   ]
  },
  {
   "cell_type": "code",
   "execution_count": null,
   "metadata": {},
   "outputs": [],
   "source": [
    "# linspace and logspace in 1D and nD\n",
    "linear_space = np.linspace(start=1, stop=10, num=20)\n",
    "\n",
    "# where do you see the difference?\n",
    "log_space = np.logspace(start=1, stop=10, num=20)\n",
    "\n",
    "geom_space = np.geomspace(start=1, stop=10, num=20)\n",
    "\n",
    "plt.plot(linear_space, label='linear')\n",
    "plt.plot(geom_space, label='geom')\n",
    "plt.legend()\n",
    "plt.show()\n",
    "\n",
    "\n",
    "plt.plot(linear_space, label='linear')\n",
    "plt.plot(log_space, label='log')\n",
    "plt.legend()\n",
    "plt.show()"
   ]
  },
  {
   "cell_type": "markdown",
   "metadata": {},
   "source": [
    "### Use example of linspace\n",
    "\n",
    "We have a trace of datapoints with length 24000. We know that the sampling rate is 25 kHz. We want to plot the trace with ms on the x-axis and not datapoints. We'll use np.linspace to create an x variable with ms as unit.\n",
    "\n",
    "number of datapoints = sampling_rate (kHz) x time (ms)"
   ]
  },
  {
   "cell_type": "code",
   "execution_count": null,
   "metadata": {},
   "outputs": [],
   "source": [
    "# Use example\n",
    "np.random.seed(101)\n",
    "trace = np.random.random(240)\n",
    "\n",
    "sampling_rate  = 25\n",
    "len_recording = len(trace) / sampling_rate\n",
    "\n",
    "x = np.linspace(0, len_recording, len(trace))\n",
    "\n",
    "plt.plot(trace)\n",
    "plt.xlabel('datapoints')\n",
    "plt.show()\n",
    "plt.plot(x, trace)\n",
    "plt.xlabel('ms')\n",
    "plt.show()\n",
    "\n"
   ]
  },
  {
   "cell_type": "markdown",
   "metadata": {},
   "source": [
    "## Exercise 1:\n",
    "1. convert the list into a 3D numpy array with dimensions 2, 3, 4"
   ]
  },
  {
   "cell_type": "code",
   "execution_count": 33,
   "metadata": {},
   "outputs": [],
   "source": [
    "list1 = [0, 1, 2, 3, 4, 5, 6, 7, 8, 9, 10, 11, 12, 13, 14, 15, 16, 17, 18, 19, 20, 21, 22, 23]\n",
    "\n",
    "# your code here"
   ]
  },
  {
   "cell_type": "markdown",
   "metadata": {},
   "source": [
    "How can you create the same list using only numpy?"
   ]
  },
  {
   "cell_type": "code",
   "execution_count": 74,
   "metadata": {},
   "outputs": [],
   "source": [
    "# your code here"
   ]
  },
  {
   "cell_type": "markdown",
   "metadata": {},
   "source": [
    "2. You are given a calcium imaging trace. The sampling frequency is 27 Hz. You would like to plot your trace with seconds on the x-axis. How do you do that? Remember to do all the conversions.\n"
   ]
  },
  {
   "cell_type": "code",
   "execution_count": 95,
   "metadata": {},
   "outputs": [],
   "source": [
    "ca_trace = [ 0.67227856,  0.79859643,  1.41583187,  0.84323809,  1.76103887,\n",
    "        1.56558627,  1.24570934,  0.84916793,  1.56814855,  0.30229918,\n",
    "        0.75400679,  0.42128187, -0.22556617, -0.32676142, -0.02870508,\n",
    "       -0.60426559,  0.0310078 , -0.26853802, -0.47094859,  0.53295318,\n",
    "        0.24325534,  0.89471709,  0.90779236,  1.64596382,  1.79012193,\n",
    "        1.22079864,  1.58240985,  0.87841725,  0.96312475,  0.3620324 ,\n",
    "        0.09666801, -0.14297638, -0.15123182, -0.7609134 , -0.7312217 ,\n",
    "       -0.99192088, -0.03332394, -0.2210889 , -0.37067728,  0.67896522,\n",
    "        0.60519333,  0.41164382,  1.16497306,  1.48716657,  1.77086896,\n",
    "        1.8323965 ,  1.17876108,  1.73149182,  0.9910903 ,  0.49868767,\n",
    "        0.47052587, -0.00717205, -0.4484166 ,  0.06015276, -0.03473689,\n",
    "       -0.15873923, -0.48726942, -0.03681011,  0.33999438, -0.14017489,\n",
    "        0.50453834,  1.04060066,  1.64048247,  1.56867063,  1.6139952 ,\n",
    "        1.20012643,  1.20682448,  0.90245025,  0.80165283,  0.9222984 ,\n",
    "        0.8476965 , -0.39767361, -0.36315739, -0.82232696, -0.10582142,\n",
    "       -0.2992408 , -0.08067373,  0.18657588, -0.33084715,  0.28171695,\n",
    "        0.67222834,  0.94403098,  1.4077217 ,  1.70140503,  1.21883168,\n",
    "        1.09655022,  1.51435907,  0.96457828,  1.29703742,  0.6383136 ,\n",
    "        0.54942536, -0.08719068, -0.59521882, -0.58742168, -0.82308396,\n",
    "       -0.75595059, -0.34908398, -0.35498081,  0.28854809,  0.49094478,\n",
    "        0.92725167,  1.24643092,  1.23647836,  1.14979403,  1.98413962,\n",
    "        1.09291621,  1.30124236,  0.85330528,  0.94907321,  0.94848113,\n",
    "        0.30197818, -0.03594916, -0.3892185 , -0.82373065, -0.26678477,\n",
    "       -0.23221143, -0.26384047,  0.21487527, -0.29464201,  0.07469955,\n",
    "        1.03654435,  1.14508259,  1.2482088 ,  1.67981277,  1.76942179,\n",
    "        1.53545631,  1.56077125,  0.92488919,  1.11682069,  0.50974391,\n",
    "        0.41411688,  0.10306649, -0.13169683, -0.21066604, -0.91785081,\n",
    "       -0.76551722, -0.5649311 ,  0.30203939,  0.25858509,  0.07950122,\n",
    "        0.90098013,  1.35241252,  1.6529804 ,  1.12802864,  1.94378743,\n",
    "        1.20567556,  1.00908443,  1.28291117,  0.42107523,  0.87473845,\n",
    "       -0.0917925 , -0.43836114,  0.05576018,  0.037141  , -0.23645765,\n",
    "       -0.15075402,  0.089862  , -0.2262555 , -0.0509875 ,  0.64417727,\n",
    "        0.8777734 ,  1.22324446,  1.48645312,  1.64697376,  1.2204785 ,\n",
    "        1.04946945,  1.3389274 ,  1.56799058,  1.08964281,  0.21181736,\n",
    "       -0.19866036,  0.03159813, -0.1999462 , -0.26321047, -0.7568747 ,\n",
    "       -0.51295626, -0.13078883, -0.45691991, -0.15308531,  0.40725747,\n",
    "        0.53084641,  1.4840585 ,  0.98285323,  1.3426583 ,  1.81718985,\n",
    "        0.99605773,  1.48902548,  0.61704764,  1.25365185,  0.12998423,\n",
    "       -0.14359921,  0.03110387,  0.04478406, -0.51171472, -0.53458273,\n",
    "       -0.11667134, -0.30214555, -0.1296693 , -0.01688135,  0.36242167]"
   ]
  },
  {
   "cell_type": "code",
   "execution_count": null,
   "metadata": {},
   "outputs": [],
   "source": [
    "# your code here\n",
    "\n",
    "plt.plot(ca_trace)"
   ]
  },
  {
   "cell_type": "markdown",
   "metadata": {},
   "source": [
    "### Operations with NumPy arrays\n",
    "\n",
    "- Array operations \n",
    "- indexing\n",
    "- sorting\n",
    "- masking"
   ]
  },
  {
   "cell_type": "markdown",
   "metadata": {},
   "source": [
    "NumPy arrays can also be transposed and multilied:"
   ]
  },
  {
   "cell_type": "code",
   "execution_count": 26,
   "metadata": {},
   "outputs": [],
   "source": [
    "A = np.array([[4, 3], [2, 1]])\n",
    "B = np.array([[1, 2], [3, 4]])"
   ]
  },
  {
   "cell_type": "code",
   "execution_count": null,
   "metadata": {},
   "outputs": [],
   "source": [
    "# element-wise sum\n",
    "print('2D numpy array A\\n', A)\n",
    "print('2D numpy array B\\n', B)\n",
    "print('2D numpy array product (element-wise) multiplication) A*B\\n', A+B)"
   ]
  },
  {
   "cell_type": "code",
   "execution_count": null,
   "metadata": {},
   "outputs": [],
   "source": [
    "# 2D numpy array multiplication\n",
    "print('2D numpy array A\\n', A)\n",
    "print('2D numpy array B\\n', B)\n",
    "print('2D numpy array product (element-wise) multiplication) A*B\\n', A*B)"
   ]
  },
  {
   "cell_type": "code",
   "execution_count": null,
   "metadata": {},
   "outputs": [],
   "source": [
    "# dot product\n",
    "\n",
    "# 2D numpy array multiplication\n",
    "\n",
    "A = np.array([[4, 3], [2, 1]])\n",
    "B = np.array([[1, 2], [3, 4]])\n",
    "\n",
    "print('2D numpy array A\\n', A)\n",
    "print('2D numpy array B\\n', B)\n",
    "print('2D numpy array product (matrix multiplication) A*B\\n', np.dot(A,B)) # same as the matrix product"
   ]
  },
  {
   "cell_type": "code",
   "execution_count": null,
   "metadata": {},
   "outputs": [],
   "source": [
    "# transpose\n",
    "\n",
    "print('2D numpy array A\\n', A)\n",
    "print('A transposed \\n', A.T) # same as the matrix product"
   ]
  },
  {
   "cell_type": "markdown",
   "metadata": {},
   "source": [
    "### Indexing"
   ]
  },
  {
   "cell_type": "code",
   "execution_count": null,
   "metadata": {},
   "outputs": [],
   "source": [
    "A = np.arange(30)\n",
    "print(A)"
   ]
  },
  {
   "cell_type": "code",
   "execution_count": null,
   "metadata": {},
   "outputs": [],
   "source": [
    "# indexing single elements\n",
    "A[23]"
   ]
  },
  {
   "cell_type": "code",
   "execution_count": null,
   "metadata": {},
   "outputs": [],
   "source": [
    "# slicing \n",
    "print(A)\n",
    "# start, end, step\n",
    "print(A[2:20:3])"
   ]
  },
  {
   "cell_type": "code",
   "execution_count": null,
   "metadata": {},
   "outputs": [],
   "source": [
    "# reshape into a 2D array\n",
    "A_2D = A.reshape(6,5)\n",
    "print(A_2D)\n",
    "# get the diagonal\n",
    "\n",
    "diag = np.diag(A_2D)\n",
    "print('the diagonal of A is', diag)"
   ]
  },
  {
   "cell_type": "code",
   "execution_count": null,
   "metadata": {},
   "outputs": [],
   "source": [
    "# transpose and get the diagonal \n",
    "A_T = A_2D.T\n",
    "print(A_T)\n",
    "\n",
    "diag_T = np.diag(A_T)\n",
    "print('the diagonal of A is', diag_T)"
   ]
  },
  {
   "cell_type": "code",
   "execution_count": null,
   "metadata": {},
   "outputs": [],
   "source": [
    "# indexing based on (row, column)\n",
    "print(A_2D)\n",
    "# 3rd row, 2nd columns\n",
    "print('The item on 3rd row, 2nd columns is', A_2D[2,1])\n",
    "\n",
    "# remember we start counting from 0\n"
   ]
  },
  {
   "cell_type": "code",
   "execution_count": null,
   "metadata": {},
   "outputs": [],
   "source": [
    "# boolean indexing\n",
    "print(A)\n",
    "\n",
    "# find where  in A > 13\n",
    "mask = np.where(A > 13)\n",
    "print(A[mask])"
   ]
  },
  {
   "cell_type": "code",
   "execution_count": null,
   "metadata": {},
   "outputs": [],
   "source": [
    "# find values in A_2D > 13\n",
    "\n",
    "print(A_2D)\n",
    "# find values in A > 13\n",
    "mask_2D = np.where(A_2D > 13)\n",
    "print('we are using the following mask', mask_2D)\n",
    "print(A_2D[mask_2D])"
   ]
  },
  {
   "cell_type": "code",
   "execution_count": null,
   "metadata": {},
   "outputs": [],
   "source": [
    "A_3D = A.reshape(3,2,5)\n",
    "\n",
    "mask_3D = np.where(A_3D > 13)\n",
    "print('we are using the following mask', mask_3D)\n",
    "print('the mask has a shape', np.shape(mask_3D))\n",
    "print(A_3D[mask_3D])"
   ]
  },
  {
   "cell_type": "code",
   "execution_count": null,
   "metadata": {},
   "outputs": [],
   "source": [
    "# finding non zero elements\n",
    "\n",
    "mask_non_0 = np.nonzero(A_3D)\n",
    "A_3D[mask_non_0]"
   ]
  },
  {
   "cell_type": "markdown",
   "metadata": {},
   "source": [
    "### Sorting"
   ]
  },
  {
   "cell_type": "markdown",
   "metadata": {},
   "source": []
  },
  {
   "cell_type": "code",
   "execution_count": null,
   "metadata": {},
   "outputs": [],
   "source": []
  },
  {
   "cell_type": "markdown",
   "metadata": {},
   "source": []
  },
  {
   "cell_type": "markdown",
   "metadata": {},
   "source": [
    "# STILL IN PROGRESS\n",
    "\n",
    "### Exercise 2 - visualize indexing\n",
    "\n",
    "Recreate the following plots using the following procedure. \n",
    "- Make an array containing only zeros. That will be your 'canvas'. \n",
    "- Then change the values of some of the elements to 1. \n",
    "- Then plot the following patterns using `plt.matshow()`.\n",
    "\n",
    "![Alt text](../img/patterns.png)\n",
    "\n",
    "if the image is not shown, download the lecture it should be on the last slide."
   ]
  },
  {
   "cell_type": "code",
   "execution_count": null,
   "metadata": {},
   "outputs": [],
   "source": [
    "# Make sure that plots are displayed in the notebook\n",
    "%matplotlib inline\n",
    "from matplotlib import pyplot as plt # plotting library"
   ]
  },
  {
   "cell_type": "code",
   "execution_count": null,
   "metadata": {},
   "outputs": [],
   "source": [
    "# let's get you started\n",
    "e1 = np.zeros((11,11))\n",
    "\n",
    "plt.matshow(e1)"
   ]
  },
  {
   "cell_type": "code",
   "execution_count": null,
   "metadata": {},
   "outputs": [],
   "source": [
    "# solution cell\n",
    "e1 = np.zeros((11,11))\n",
    "e1[1,::2] = 1\n",
    "plt.matshow(e1)"
   ]
  },
  {
   "cell_type": "code",
   "execution_count": null,
   "metadata": {},
   "outputs": [],
   "source": [
    "# have yellow squares on the diagonal"
   ]
  },
  {
   "cell_type": "code",
   "execution_count": null,
   "metadata": {},
   "outputs": [],
   "source": [
    "# have yellow squares on both diagonals"
   ]
  },
  {
   "cell_type": "code",
   "execution_count": null,
   "metadata": {},
   "outputs": [],
   "source": [
    "# solution cell\n",
    "e2 = np.zeros((11,11))\n",
    "e2[:,::2] = 1\n",
    "plt.imshow(e2)"
   ]
  },
  {
   "cell_type": "code",
   "execution_count": null,
   "metadata": {},
   "outputs": [],
   "source": [
    "# solution cell\n",
    "e3 = np.zeros((11,11))\n",
    "e3[::2,::2] = 1\n",
    "plt.imshow(e3)"
   ]
  },
  {
   "cell_type": "code",
   "execution_count": null,
   "metadata": {},
   "outputs": [],
   "source": [
    "# solution cell\n",
    "e4 = np.zeros((11,11))\n",
    "e4[::2,1::2] = 1\n",
    "e4[1::2,::2] = 1\n",
    "plt.imshow(e4)"
   ]
  },
  {
   "cell_type": "code",
   "execution_count": null,
   "metadata": {},
   "outputs": [],
   "source": []
  }
 ],
 "metadata": {
  "kernelspec": {
   "display_name": ".lab_python",
   "language": "python",
   "name": "python3"
  },
  "language_info": {
   "codemirror_mode": {
    "name": "ipython",
    "version": 3
   },
   "file_extension": ".py",
   "mimetype": "text/x-python",
   "name": "python",
   "nbconvert_exporter": "python",
   "pygments_lexer": "ipython3",
   "version": "3.12.7"
  }
 },
 "nbformat": 4,
 "nbformat_minor": 2
}
