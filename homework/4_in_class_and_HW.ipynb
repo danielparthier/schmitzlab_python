{
 "cells": [
  {
   "cell_type": "markdown",
   "metadata": {},
   "source": [
    "# First steps into NumPy and Matplotlib"
   ]
  },
  {
   "cell_type": "markdown",
   "metadata": {},
   "source": [
    "First brave dive into working with numbers and visualizing them\n",
    "\n",
    "Resources:\\\n",
    "NumPy Absolute beginner: https://numpy.org/doc/2.2/user/absolute_beginners.html\\\n",
    "NumPy User: https://numpy.org/doc/2.2/user/index.html#user\\\n",
    "Matplotlib : https://matplotlib.org/stable/ \n"
   ]
  },
  {
   "cell_type": "code",
   "execution_count": null,
   "metadata": {},
   "outputs": [],
   "source": [
    "# importing librarises\n",
    "import numpy as np\n",
    "import matplotlib.pyplot as plt\n",
    "import json"
   ]
  },
  {
   "cell_type": "markdown",
   "metadata": {},
   "source": [
    "### Avoid for loops when working with NumPy\n",
    "\n",
    "Check the documentation for an alternative. Usually there's already a way so you don't need to reinvent the wheel."
   ]
  },
  {
   "cell_type": "markdown",
   "metadata": {},
   "source": [
    "NumPy allows for the substitution of for loops. This is important when working with huge data. Using NumPy will increase the processing speed significantly. Of course, you can't trust us blindly, so let's compare the performance of a for loop vs NumPy. We'll use the timeit module to measure the time it takes for the execution of the code.\n",
    "\n",
    "In a jupyter notebook, if you place the magic function %%timeit in the first line of a code block, it measures the time it takes for this block of code to be executed."
   ]
  },
  {
   "cell_type": "code",
   "execution_count": null,
   "metadata": {},
   "outputs": [],
   "source": [
    "RMPs = np.array([-68.93, -72.71, -55.55, -58.70, -44.18, -75.16, -43.82, -80.47, -63.30, -39.27, -46.08, -32.97])\n",
    "AP_THs = np.array([-47.45, -28.71, -36.14, -44.54, -38.67, -41.49, -41.99, -43.81, -44.21, -46.93, -42.58, -27.12])"
   ]
  },
  {
   "cell_type": "code",
   "execution_count": null,
   "metadata": {},
   "outputs": [],
   "source": [
    "%%timeit\n",
    "# solution 2.2 \n",
    "\n",
    "# find max \n",
    "max_RMP = np.amax(RMPs)\n",
    "# loop to find the index of max values\n",
    "for i, val in enumerate(RMPs):\n",
    "    # if the value is equal to found max \n",
    "    if val == max_RMP:\n",
    "        # update index of max value\n",
    "        indx_max = i\n",
    "\n",
    "# removing the max_val\n",
    "# if indx_max is last, then we keep RMPs from 0 to len(RMPs) - 1 - this is done like this RMPs[:-1]\n",
    "if indx_max + 1 == len(RMPs) - 1: # if last\n",
    "    RMPs_no_max = RMPs[:-1]\n",
    "elif indx_max == 0: # if the max value is in position 0\n",
    "    RMPs_no_max = RMPs[1:] # RMPs without first value\n",
    "else: # if max value is somewhere inside the array\n",
    "    RMPs_no_max = np.concat([RMPs[:indx_max], RMPs[indx_max+1:]]) # concatinate RMPs up to the max index and the ones after\n",
    "\n",
    "# print(RMPs_no_max)\n",
    "\n",
    "# do the same as before to find the max in RMPs_no_max\n",
    "max_RMP2 = np.amax(RMPs_no_max)\n",
    "for i, val in enumerate(RMPs_no_max):\n",
    "    if val == max_RMP2:\n",
    "        indx_max_2 = i\n",
    "\n",
    "# see whether we need to add 1 to the indx_max_2\n",
    "if indx_max < indx_max_2: # if the max_val is before max_val2, then to index max_val2 in the original array, \n",
    "    # we'd need to add 1 to it, correcting for the RMP_max val that we removed\n",
    "    indx_max_2 = indx_max_2 + 1\n",
    "\n",
    "TH1, TH2 = AP_THs[indx_max], AP_THs[indx_max_2]"
   ]
  },
  {
   "cell_type": "code",
   "execution_count": null,
   "metadata": {},
   "outputs": [],
   "source": [
    "%%timeit\n",
    "\n",
    "# alternative and preferred way instead of a for loop\n",
    "# remember those are only exercises. in real life we would like to use functions that already exist\n",
    "# they are faster and there's no need for us to reinvent the wheel\n",
    "\n",
    "RMPs_sorted = sorted(RMPs) # sorts the list from smallest to biggest \n",
    "RMP_max, RMP_max2 = RMPs_sorted[-1], RMPs_sorted[-2]\n",
    "\n",
    "indx_max = np.where(RMPs == RMP_max)[0][0]\n",
    "indx_max_2 = np.where(RMPs == RMP_max2)[0][0]\n",
    "\n",
    "TH1, TH2 = AP_THs[indx_max], AP_THs[indx_max_2]"
   ]
  },
  {
   "cell_type": "code",
   "execution_count": null,
   "metadata": {},
   "outputs": [],
   "source": [
    "%%timeit\n",
    "\n",
    "# very clean solution \n",
    "min_to_max_indices = np.argsort(RMPs)\n",
    "\n",
    "TH1, TH2 = AP_THs[min_to_max_indices[0]], AP_THs[min_to_max_indices[1]]"
   ]
  },
  {
   "cell_type": "markdown",
   "metadata": {},
   "source": [
    "Are you now convinced that working with the built-in numpy functions is significantly faster?"
   ]
  },
  {
   "cell_type": "markdown",
   "metadata": {},
   "source": [
    "### Creating NumPy arrays\n",
    "\n",
    "- filled arrays \n",
    "    - with zeros\n",
    "    - with ones\n",
    "    - with consecutive numbers\n",
    "    - with random numbers\n",
    "- conversion from a list\n",
    "- with anything (probably useless)"
   ]
  },
  {
   "cell_type": "code",
   "execution_count": null,
   "metadata": {},
   "outputs": [],
   "source": [
    "simple_array = np.array([1, 2, 3])\n",
    "\n",
    "# check the shape\n",
    "np.shape(simple_array)"
   ]
  },
  {
   "cell_type": "code",
   "execution_count": null,
   "metadata": {},
   "outputs": [],
   "source": [
    "# filled array with zeros \n",
    "\n",
    "array_1d = np.zeros(10)\n",
    "array_2d = np.zeros((10, 10))\n",
    "array_3d = np.zeros((10, 10, 10))\n",
    "\n",
    "print(np.shape(array_1d))\n",
    "print(np.shape(array_2d))\n",
    "print(np.shape(array_3d))\n"
   ]
  },
  {
   "cell_type": "code",
   "execution_count": null,
   "metadata": {},
   "outputs": [],
   "source": [
    "array_3d_ones = np.ones((10, 10, 10))"
   ]
  },
  {
   "cell_type": "code",
   "execution_count": null,
   "metadata": {},
   "outputs": [],
   "source": [
    "# arrawys with consequitve numbers\n",
    "\n",
    "array_aranged = np.arange(1, 13)\n",
    "print(array_aranged)"
   ]
  },
  {
   "cell_type": "code",
   "execution_count": null,
   "metadata": {},
   "outputs": [],
   "source": [
    "# changing the shapes of arrays\n",
    "reshaped_array = array_aranged.reshape(3, 2, 2)"
   ]
  },
  {
   "cell_type": "code",
   "execution_count": null,
   "metadata": {},
   "outputs": [],
   "source": [
    "# generate an array from a list. Change the shape\n",
    "\n",
    "list1 = [1,3,5,7,9,11]\n",
    "array1 = np.array(list1)\n",
    "\n",
    "array_2D =  array1.reshape(2,3)\n",
    "\n",
    "print(list1)\n",
    "print(array1)\n",
    "print(np.shape(array1))\n",
    "\n",
    "print(array_2D)\n",
    "print(np.shape(array_2D))"
   ]
  },
  {
   "cell_type": "markdown",
   "metadata": {},
   "source": [
    "#### np.arange, np.linspace, np.logspace"
   ]
  },
  {
   "cell_type": "code",
   "execution_count": null,
   "metadata": {},
   "outputs": [],
   "source": [
    "# generate sequences from a starting number, to a end number, with a step of something\n",
    "\n",
    "V = np.arange(2, 10, 0.9)\n",
    "print(V)"
   ]
  },
  {
   "cell_type": "code",
   "execution_count": null,
   "metadata": {},
   "outputs": [],
   "source": [
    "# generate sequences from a starting number, to a end number, with length 11\n",
    "# the step is the calculated for you\n",
    "# very useful for plotting\n",
    "\n",
    "B = np.linspace(2, 10, 11)\n",
    "print(B)"
   ]
  },
  {
   "cell_type": "code",
   "execution_count": null,
   "metadata": {},
   "outputs": [],
   "source": [
    "# linspace and logspace in 1D and nD\n",
    "linear_space = np.linspace(start=1, stop=10, num=20)\n",
    "\n",
    "# where do you see the difference?\n",
    "log_space = np.logspace(start=1, stop=10, num=20)\n",
    "\n",
    "geom_space = np.geomspace(start=1, stop=10, num=20)\n",
    "\n",
    "plt.plot(linear_space, label='linear')\n",
    "plt.plot(geom_space, label='geom')\n",
    "plt.legend()\n",
    "plt.show()\n",
    "\n",
    "\n",
    "plt.plot(linear_space, label='linear')\n",
    "plt.plot(log_space, label='log')\n",
    "plt.legend()\n",
    "plt.show()"
   ]
  },
  {
   "cell_type": "markdown",
   "metadata": {},
   "source": [
    "### Use example of linspace\n",
    "\n",
    "We have a trace of datapoints with length 240. We know that the sampling rate is 25 kHz. We want to plot the trace with ms on the x-axis and not datapoints. We'll use np.linspace to create an x variable with ms as unit.\n",
    "\n",
    "number of datapoints = sampling_rate (kHz) x time (ms)"
   ]
  },
  {
   "cell_type": "code",
   "execution_count": null,
   "metadata": {},
   "outputs": [],
   "source": [
    "import matplotlib.pyplot as plt\n",
    "import numpy as np"
   ]
  },
  {
   "cell_type": "code",
   "execution_count": null,
   "metadata": {},
   "outputs": [],
   "source": [
    "# Use example\n",
    "np.random.seed(101)\n",
    "trace = np.random.random(240)\n",
    "\n",
    "sampling_rate  = 25\n",
    "len_recording = len(trace) / sampling_rate\n",
    "\n",
    "x = np.linspace(0, len_recording, len(trace))\n",
    "\n",
    "plt.plot(trace)\n",
    "plt.xlabel('datapoints')\n",
    "plt.show()\n",
    "\n",
    "plt.plot(x, trace)\n",
    "plt.xlabel('ms')\n",
    "plt.show()\n",
    "\n"
   ]
  },
  {
   "cell_type": "markdown",
   "metadata": {},
   "source": [
    "## Exercise 1 (solved in class):\n",
    "1. convert the list into a 3D numpy array with dimensions 2, 3, 4"
   ]
  },
  {
   "cell_type": "code",
   "execution_count": null,
   "metadata": {},
   "outputs": [],
   "source": [
    "list1 = [0, 1, 2, 3, 4, 5, 6, 7, 8, 9, 10, 11, 12, 13, 14, 15, 16, 17, 18, 19, 20, 21, 22, 23]\n",
    "\n",
    "# your code here\n",
    "\n",
    "array_ = np.array(list1)\n",
    "type(array_)"
   ]
  },
  {
   "cell_type": "markdown",
   "metadata": {},
   "source": [
    "How can you create the same list using only numpy?"
   ]
  },
  {
   "cell_type": "code",
   "execution_count": null,
   "metadata": {},
   "outputs": [],
   "source": [
    "# your code here\n",
    "\n",
    "np_array = np.arange(24)\n",
    "\n",
    "array_reshaped = array_.reshape(2,3,4)\n",
    "array_reshaped.shape"
   ]
  },
  {
   "cell_type": "markdown",
   "metadata": {},
   "source": [
    "2. You are given a calcium imaging trace. The sampling frequency is 27 Hz. You would like to plot your trace with miliseconds on the x-axis. How do you do that? Remember to do all the conversions.\n"
   ]
  },
  {
   "cell_type": "code",
   "execution_count": null,
   "metadata": {},
   "outputs": [],
   "source": [
    "ca_trace = [0.67227856,  0.79859643,  1.41583187,  0.84323809,  1.76103887,\n",
    "        1.56558627,  1.24570934,  0.84916793,  1.56814855,  0.30229918,\n",
    "        0.75400679,  0.42128187, -0.22556617, -0.32676142, -0.02870508,\n",
    "       -0.60426559,  0.0310078 , -0.26853802, -0.47094859,  0.53295318,\n",
    "        0.24325534,  0.89471709,  0.90779236,  1.64596382,  1.79012193,\n",
    "        1.22079864,  1.58240985,  0.87841725,  0.96312475,  0.3620324 ,\n",
    "        0.09666801, -0.14297638, -0.15123182, -0.7609134 , -0.7312217 ,\n",
    "       -0.99192088, -0.03332394, -0.2210889 , -0.37067728,  0.67896522,\n",
    "        0.60519333,  0.41164382,  1.16497306,  1.48716657,  1.77086896,\n",
    "        1.8323965 ,  1.17876108,  1.73149182,  0.9910903 ,  0.49868767,\n",
    "        0.47052587, -0.00717205, -0.4484166 ,  0.06015276, -0.03473689,\n",
    "       -0.15873923, -0.48726942, -0.03681011,  0.33999438, -0.14017489,\n",
    "        0.50453834,  1.04060066,  1.64048247,  1.56867063,  1.6139952 ,\n",
    "        1.20012643,  1.20682448,  0.90245025,  0.80165283,  0.9222984 ,\n",
    "        0.8476965 , -0.39767361, -0.36315739, -0.82232696, -0.10582142,\n",
    "       -0.2992408 , -0.08067373,  0.18657588, -0.33084715,  0.28171695,\n",
    "        0.67222834,  0.94403098,  1.4077217 ,  1.70140503,  1.21883168,\n",
    "        1.09655022,  1.51435907,  0.96457828,  1.29703742,  0.6383136 ,\n",
    "        0.54942536, -0.08719068, -0.59521882, -0.58742168, -0.82308396,\n",
    "       -0.75595059, -0.34908398, -0.35498081,  0.28854809,  0.49094478,\n",
    "        0.92725167,  1.24643092,  1.23647836,  1.14979403,  1.98413962,\n",
    "        1.09291621,  1.30124236,  0.85330528,  0.94907321,  0.94848113,\n",
    "        0.30197818, -0.03594916, -0.3892185 , -0.82373065, -0.26678477,\n",
    "       -0.23221143, -0.26384047,  0.21487527, -0.29464201,  0.07469955,\n",
    "        1.03654435,  1.14508259,  1.2482088 ,  1.67981277,  1.76942179,\n",
    "        1.53545631,  1.56077125,  0.92488919,  1.11682069,  0.50974391,\n",
    "        0.41411688,  0.10306649, -0.13169683, -0.21066604, -0.91785081,\n",
    "       -0.76551722, -0.5649311 ,  0.30203939,  0.25858509,  0.07950122,\n",
    "        0.90098013,  1.35241252,  1.6529804 ,  1.12802864,  1.94378743,\n",
    "        1.20567556,  1.00908443,  1.28291117,  0.42107523,  0.87473845,\n",
    "       -0.0917925 , -0.43836114,  0.05576018,  0.037141  , -0.23645765,\n",
    "       -0.15075402,  0.089862  , -0.2262555 , -0.0509875 ,  0.64417727,\n",
    "        0.8777734 ,  1.22324446,  1.48645312,  1.64697376,  1.2204785 ,\n",
    "        1.04946945,  1.3389274 ,  1.56799058,  1.08964281,  0.21181736,\n",
    "       -0.19866036,  0.03159813, -0.1999462 , -0.26321047, -0.7568747 ,\n",
    "       -0.51295626, -0.13078883, -0.45691991, -0.15308531,  0.40725747,\n",
    "        0.53084641,  1.4840585 ,  0.98285323,  1.3426583 ,  1.81718985,\n",
    "        0.99605773,  1.48902548,  0.61704764,  1.25365185,  0.12998423,\n",
    "       -0.14359921,  0.03110387,  0.04478406, -0.51171472, -0.53458273,\n",
    "       -0.11667134, -0.30214555, -0.1296693 , -0.01688135,  0.36242167]"
   ]
  },
  {
   "cell_type": "code",
   "execution_count": null,
   "metadata": {},
   "outputs": [],
   "source": [
    "# fast in class solution\n",
    "\n",
    "sampling_rate = 27\n",
    "# applying formula\n",
    "ca_trace = np.array(ca_trace)\n",
    "\n",
    "t_vec = np.linspace(0, len(ca_trace)/sampling_rate, len(ca_trace)) \n",
    "\n",
    "# plotting\n",
    "plt.plot(t_vec * 1000, ca_trace)\n",
    "plt.xlabel('ms')"
   ]
  },
  {
   "cell_type": "code",
   "execution_count": null,
   "metadata": {},
   "outputs": [],
   "source": [
    "# multi use solution\n",
    "# create a function \n",
    "\n",
    "def plot_trace_time(trace, sampling_rate ,sr_unit):\n",
    "    '''\n",
    "    plots a trace over time\n",
    "\n",
    "    args:\n",
    "    trace: trace data (numpy array)\n",
    "    sampling_rate: sampling rate (int)\n",
    "    sr_unit: sampling rate unit (str)\n",
    "    '''\n",
    "    if sr_unit == 'Hz':\n",
    "        x_label = 'seconds'\n",
    "    \n",
    "    if sr_unit == 'kHz':\n",
    "        x_label = 'ms'\n",
    "\n",
    "    if sr_unit not in ['Hz', 'kHz']:\n",
    "       return 'please enter a unit in seconds or miliseconds'\n",
    "    \n",
    "    if isinstance(trace, list):\n",
    "        trace = np.array(trace)\n",
    "\n",
    "    t_vec = np.linspace(0, len(trace)/sampling_rate, len(trace)) \n",
    "\n",
    "    # plotting\n",
    "    plt.plot(t_vec, trace)\n",
    "    plt.xlabel(x_label)\n",
    "    plt.show()"
   ]
  },
  {
   "cell_type": "code",
   "execution_count": null,
   "metadata": {},
   "outputs": [],
   "source": [
    "# applying the function\n",
    "plot_trace_time(trace, 25,'kHz')\n",
    "\n",
    "plot_trace_time(ca_trace, 27 ,'Hz')"
   ]
  },
  {
   "cell_type": "markdown",
   "metadata": {},
   "source": [
    "### NEW additional exercise"
   ]
  },
  {
   "cell_type": "markdown",
   "metadata": {},
   "source": [
    "This is not an ideal funciton. Far from it. There are many cases in which this will not work.\n",
    "Think of one of them. Try to implement an argument in the function, in other words, change the function so that it takes care of another special case. For example, if the input is in Hz but you want to plot the trace with 'ms' on the x axis."
   ]
  },
  {
   "cell_type": "code",
   "execution_count": null,
   "metadata": {},
   "outputs": [],
   "source": [
    "# your modified function here"
   ]
  },
  {
   "cell_type": "markdown",
   "metadata": {},
   "source": [
    "### Operations with NumPy arrays\n",
    "\n",
    "- Array operations \n",
    "- indexing\n",
    "- masking"
   ]
  },
  {
   "cell_type": "code",
   "execution_count": null,
   "metadata": {},
   "outputs": [],
   "source": [
    "A = np.array([[4, 3], [2, 1]])\n",
    "B = np.array([[1, 2], [3, 4]])"
   ]
  },
  {
   "cell_type": "code",
   "execution_count": null,
   "metadata": {},
   "outputs": [],
   "source": [
    "# element-wise sum\n",
    "print('2D numpy array A\\n', A)\n",
    "print('2D numpy array B\\n', B)\n",
    "print('2D numpy array product (element-wise) sum) A+B\\n', A+B)"
   ]
  },
  {
   "cell_type": "code",
   "execution_count": null,
   "metadata": {},
   "outputs": [],
   "source": [
    "# 2D numpy array multiplication\n",
    "print('2D numpy array A\\n', A)\n",
    "print('2D numpy array B\\n', B)\n",
    "print('2D numpy array product (element-wise) multiplication) A*B\\n', A*B)"
   ]
  },
  {
   "cell_type": "code",
   "execution_count": null,
   "metadata": {},
   "outputs": [],
   "source": [
    "# dot product\n",
    "\n",
    "# 2D numpy array multiplication\n",
    "\n",
    "A = np.array([[4, 3], [2, 1]])\n",
    "B = np.array([[1, 2], [3, 4]])\n",
    "\n",
    "print('2D numpy array A\\n', A)\n",
    "print('2D numpy array B\\n', B)\n",
    "print('2D numpy array product (matrix multiplication) A*B\\n', np.dot(A,B)) # same as the matrix product"
   ]
  },
  {
   "cell_type": "code",
   "execution_count": null,
   "metadata": {},
   "outputs": [],
   "source": [
    "# transpose\n",
    "\n",
    "print('2D numpy array A\\n', A)\n",
    "print('A transposed \\n', A.T) # same as the matrix product"
   ]
  },
  {
   "cell_type": "code",
   "execution_count": null,
   "metadata": {},
   "outputs": [],
   "source": [
    "# this is called broadcasting\n",
    "# in the back numpy is basically creating an array with the length of your array\n",
    "# this allows you to add them by this short command\n",
    "\n",
    "array1 = np.arange(1,11)\n",
    "print(array1)\n",
    "\n",
    "print(array1 + 100)\n",
    "print(array1 * 100)"
   ]
  },
  {
   "cell_type": "code",
   "execution_count": null,
   "metadata": {},
   "outputs": [],
   "source": [
    "# broadvasting can be used with arrays of any dimensions\n",
    "\n",
    "array2 = array1.reshape(2,5)\n",
    "\n",
    "print(array2 + 100)\n",
    "print(array2 * 100)"
   ]
  },
  {
   "cell_type": "markdown",
   "metadata": {},
   "source": [
    "### Indexing"
   ]
  },
  {
   "cell_type": "code",
   "execution_count": null,
   "metadata": {},
   "outputs": [],
   "source": [
    "A = np.arange(30)\n",
    "print(A)"
   ]
  },
  {
   "cell_type": "code",
   "execution_count": null,
   "metadata": {},
   "outputs": [],
   "source": [
    "# indexing single elements\n",
    "A[23]"
   ]
  },
  {
   "cell_type": "code",
   "execution_count": null,
   "metadata": {},
   "outputs": [],
   "source": [
    "# slicing \n",
    "print(A)\n",
    "# start, end, step\n",
    "print(A[2:20:3])"
   ]
  },
  {
   "cell_type": "code",
   "execution_count": null,
   "metadata": {},
   "outputs": [],
   "source": [
    "# reshape into a 2D array\n",
    "A_2D = A.reshape(6,5)\n",
    "print(A_2D)\n",
    "# get the diagonal\n",
    "\n",
    "diag = np.diag(A_2D)\n",
    "print('the diagonal of A is', diag)"
   ]
  },
  {
   "cell_type": "code",
   "execution_count": null,
   "metadata": {},
   "outputs": [],
   "source": [
    "# transpose and get the diagonal \n",
    "A_T = A_2D.T\n",
    "print(A_T)\n",
    "\n",
    "diag_T = np.diag(A_T)\n",
    "print('the diagonal of A is', diag_T)"
   ]
  },
  {
   "cell_type": "code",
   "execution_count": null,
   "metadata": {},
   "outputs": [],
   "source": [
    "# indexing based on (row, column)\n",
    "print(A_2D)\n",
    "# 3rd row, 2nd columns\n",
    "print('The item on 3rd row, 2nd columns is', A_2D[2,1])\n",
    "\n",
    "# remember we start counting from 0"
   ]
  },
  {
   "cell_type": "markdown",
   "metadata": {},
   "source": [
    "### Masking"
   ]
  },
  {
   "cell_type": "markdown",
   "metadata": {},
   "source": [
    "Masking is selecting a set of entries in an array usually based on a condition. You explixidly create a mask or behind the curtains numpy is creating a mask. The mask has the dimensions of the input array and includes boolean (True, False) entries. You can 'index' an array based on the mask. The output are the entries of the array which match the condition. It's clearer with examples."
   ]
  },
  {
   "cell_type": "code",
   "execution_count": null,
   "metadata": {},
   "outputs": [],
   "source": [
    "# boolean indexing\n",
    "print(A)\n",
    "\n",
    "# find where  in A > 13\n",
    "mask = np.where(A > 13)\n",
    "print(A[mask])"
   ]
  },
  {
   "cell_type": "code",
   "execution_count": null,
   "metadata": {},
   "outputs": [],
   "source": [
    "# find values in A_2D > 13\n",
    "\n",
    "print(A_2D)\n",
    "# find values in A > 13\n",
    "mask_2D = np.where(A_2D > 13)\n",
    "print('we are using the following mask', mask_2D)\n",
    "print(A_2D[mask_2D])"
   ]
  },
  {
   "cell_type": "code",
   "execution_count": null,
   "metadata": {},
   "outputs": [],
   "source": [
    "A_3D = A.reshape(3,2,5)\n",
    "\n",
    "mask_3D = np.where(A_3D > 13)\n",
    "print('we are using the following mask', mask_3D)\n",
    "print('the mask has a shape', np.shape(mask_3D))\n",
    "print(A_3D[mask_3D])"
   ]
  },
  {
   "cell_type": "code",
   "execution_count": null,
   "metadata": {},
   "outputs": [],
   "source": [
    "# finding non zero elements\n",
    "\n",
    "mask_non_0 = np.nonzero(A_3D)\n",
    "A_3D[mask_non_0]"
   ]
  },
  {
   "cell_type": "markdown",
   "metadata": {},
   "source": [
    "### Copy and fake copy\n",
    "\n",
    "It's kind of an advanced topic but it's extremely important and understanding the consequence of this could save you lots of time. Remember that if you want to create an array that is slightly different than another array, and you'd like to keep the original array, make a copy.\n",
    "\n",
    "Here is an example."
   ]
  },
  {
   "cell_type": "code",
   "execution_count": null,
   "metadata": {},
   "outputs": [],
   "source": [
    "original_array = np.arange(10)\n",
    "print(original_array)"
   ]
  },
  {
   "cell_type": "code",
   "execution_count": null,
   "metadata": {},
   "outputs": [],
   "source": [
    "# assign a fake copy. just by making an array equal to the original one\n",
    "fake_copy = original_array\n",
    "\n",
    "# change the 3rd value of the fake copy to 1000\n",
    "fake_copy[2] = 1000\n",
    "\n",
    "# okey, it wokred\n",
    "print(fake_copy)\n",
    "\n",
    "# but why is also my original array changed?\n",
    "print(original_array)"
   ]
  },
  {
   "cell_type": "code",
   "execution_count": null,
   "metadata": {},
   "outputs": [],
   "source": [
    "# then changing the shape would also change my originla array\n",
    "# two birds with one stone, right?\n",
    "\n",
    "fake_copy2 = original_array.reshape(2,5)\n",
    "\n",
    "# okey, it wokred\n",
    "print(fake_copy2.shape)\n",
    "\n",
    "# but why is now my original array not changed?\n",
    "print(original_array.shape)"
   ]
  },
  {
   "cell_type": "code",
   "execution_count": null,
   "metadata": {},
   "outputs": [],
   "source": [
    "# to avoid this 'random' behaviour, make sure you always create a copy\n",
    "# when you want to keep the original array and the new array separate\n",
    "\n",
    "original_array = np.arange(10)\n",
    "print(original_array)\n",
    "\n",
    "# create true copy\n",
    "true_copy = original_array.copy()\n",
    "\n",
    "# change the 3rd value of the fake copy to 1000\n",
    "true_copy[2] = 1000\n",
    "\n",
    "# okey, it wokred\n",
    "print(true_copy)\n",
    "\n",
    "# now the original copy is not changed\n",
    "print(original_array)"
   ]
  },
  {
   "cell_type": "markdown",
   "metadata": {},
   "source": [
    "## Homework exercise\n",
    "\n",
    "In this exercise, we'll work again with the charaterization dictionary from last time. This time we'd avoid using for loops at all cost. Your best friend is the numpy documentation page. Link in the first cell of this notebook.\n",
    "\n",
    "!!! IMPORTNT. Download the detect_peaks.py script from GitHub. Make sure it's located in the same folder as this homework file.\n",
    "\n",
    "Tasks:\n",
    "- Find the resting potential for each sweep\n",
    "- Find the firing sweeps for each day\n",
    "- Find the number of action potentials for each day in each sweep"
   ]
  },
  {
   "cell_type": "code",
   "execution_count": null,
   "metadata": {},
   "outputs": [],
   "source": [
    "import json\n",
    "import matplotlib.pyplot as plt\n",
    "import numpy as np\n",
    "\n",
    "# detect_peaks.py needs to be located in the same folder as this notebook in oredr for the import to work\n",
    "from detect_peaks import detect_peaks"
   ]
  },
  {
   "cell_type": "code",
   "execution_count": null,
   "metadata": {},
   "outputs": [],
   "source": [
    "# Run this cell, required so that you are able to load the data. no need to understand them for now\n",
    "\n",
    "# Custom JSON decoder to handle lists and convert them back to NumPy arrays\n",
    "def json_numpy_obj_hook(dct):\n",
    "    '''\n",
    "    Decodes a JSON object and converts lists back to NumPy arrays.\n",
    "\n",
    "    Args:\n",
    "        dct (dict): The JSON object.\n",
    "\n",
    "    Returns:\n",
    "        dict: The decoded JSON object with lists converted to NumPy arrays.\n",
    "    '''\n",
    "    for key, value in dct.items():\n",
    "        if isinstance(value, list):\n",
    "            try:\n",
    "                dct[key] = np.array(value)\n",
    "            except ValueError:\n",
    "                pass\n",
    "    return dct\n",
    "\n",
    "# Function to read a JSON file and convert lists back to NumPy arrays\n",
    "def read_dict_from_text_file(file_path: str):\n",
    "    '''\n",
    "    Reads a JSON file and converts lists back to NumPy arrays.\n",
    "\n",
    "    Args:\n",
    "        file_path (str): The path to the input JSON file.\n",
    "\n",
    "    Returns:\n",
    "        dict: The dictionary with lists converted to NumPy arrays.\n",
    "    '''\n",
    "    with open(file_path, 'r') as file:\n",
    "        dictionary = json.load(file, object_hook=json_numpy_obj_hook)\n",
    "    return dictionary\n",
    "\n",
    "# plotting the all the sweeps. No need to understand this function\n",
    "\n",
    "def plot_all_sweeps(charact_dict):\n",
    "    '''\n",
    "    Plots all sweeps for two recordings (D1 and D2) from a given characteristic dictionary.\n",
    "    Arguments:\n",
    "    charact_dict (dict): A dictionary containing two keys 'D1' and 'D2', each associated with a 2D numpy array.\n",
    "                         The arrays should have sweeps as rows and data points as columns.\n",
    "    The function creates a figure with two subplots:\n",
    "    - left subplot shows the sweeps for 'D1', right subplot shows the sweeps for 'D2'\n",
    "    '''\n",
    "    \n",
    "    sampling_rate = 20 # in kHz\n",
    "    all_swps = np.shape(charact_dict['D1'])[0]\n",
    "    swp_len_ms = np.shape(charact_dict['D1'])[1] / sampling_rate\n",
    "    x = np.linspace(0, swp_len_ms, len(charact_dict['D1'][0,:]))\n",
    "    fig, ax = plt.subplots(1, 2, figsize = (12,5))\n",
    "\n",
    "    for i in range(all_swps):\n",
    "        ax[0].plot(x, charact_dict['D1'][i,:], color = plt.cm.Oranges(np.linspace(1, 0.25, all_swps))[i])\n",
    "        ax[1].plot(x, charact_dict['D2'][i,:], color = plt.cm.Greens(np.linspace(1, 0.25, all_swps))[i])\n",
    "\n",
    "    ax[0].set_title('Recording D1')\n",
    "    ax[0].set_xlabel('ms')\n",
    "    ax[0].set_ylabel('mV')\n",
    "\n",
    "    ax[1].set_title('Recording D2')\n",
    "    ax[1].set_xlabel('ms')\n",
    "    ax[1].set_ylabel('mV')\n",
    "    plt.show()\n",
    "\n",
    "def plot_specific_swp_num(charact_dict, swp_num1, swp_num2,\n",
    "                           inj = [-300, -200, -150, -100, -50, 0, 50, 100, 150, 200, 250, 300]):\n",
    "    '''\n",
    "    Plots a sweep from day 1 and day 2.\n",
    "\n",
    "    Arguments:\n",
    "    charact_dict (dict): Dictionary with cell characterization data from 2 days.\n",
    "                         Should contain keys 'D1' and 'D2' with corresponding data.\n",
    "    swp_num1 (int): Sweep number, ranging from 0 to 11, from day 1 to plot\n",
    "    swp_num2 (int): Sweep number, ranging from 0 to 11, from day 2 to plot.\n",
    "    inj (list, optional): List of current steps in pA. Default is \n",
    "                          [-300, -200, -150, -100, -50, 0, 50, 100, 150, 200, 250, 300].\n",
    "\n",
    "    Returns:\n",
    "    None\n",
    "    '''\n",
    "\n",
    "    if not isinstance(swp_num1, int) or not isinstance(swp_num2, int) or \\\n",
    "        not isinstance(charact_dict, dict):\n",
    "        return 'Not possible. Are you trying to break me?'\n",
    "\n",
    "    if swp_num1 > 11 or swp_num2 > 11:\n",
    "        return 'Not possible. Only 12 sweep available'\n",
    "    \n",
    "    sampling_rate = 20 # in kHz\n",
    "    all_swps = np.shape(charact_dict['D1'])[0]\n",
    "    swp_len_ms = np.shape(charact_dict['D1'])[1] / sampling_rate\n",
    "    x = np.linspace(0, swp_len_ms, len(charact_dict['D1'][0,:]))\n",
    "    fig, ax = plt.subplots(1, 2, sharey = True, figsize = (12,5))\n",
    "\n",
    "    ax[0].plot(x, charact_dict['D1'][swp_num1,:], color = plt.cm.Oranges(np.linspace(1, 0.25, all_swps))[swp_num1])\n",
    "    ax[1].plot(x, charact_dict['D2'][swp_num2,:], color = plt.cm.Greens(np.linspace(1, 0.25, all_swps))[swp_num2])\n",
    "\n",
    "    ax[0].set_title('Sweep number '+ str(swp_num1) +' from D1\\n'\\\n",
    "                    'current step of ' + str(inj[swp_num1]) + ' pA')\n",
    "    ax[0].set_xlabel('ms')\n",
    "    ax[0].set_ylabel('mV')\n",
    "\n",
    "    ax[1].set_title('Sweep number '+ str(swp_num2) +' from D2\\n'\\\n",
    "                    'current step of ' + str(inj[swp_num2]) + ' pA')\n",
    "    ax[1].set_xlabel('ms')\n",
    "    ax[1].set_ylabel('mV')\n",
    "    ax[1].yaxis.set_tick_params(labelleft=True)\n",
    "\n",
    "    plt.show()"
   ]
  },
  {
   "cell_type": "code",
   "execution_count": null,
   "metadata": {},
   "outputs": [],
   "source": [
    "# change the file path to where your charact_dict is located\n",
    "\n",
    "file_path = '/Users/verjim/laptop_D_17.01.2022/Schmitz_lab/code/schmitzlab_python/data/charact_data.json'\n",
    "# load your characterization dictionary\n",
    "charact_dict = read_dict_from_text_file(file_path)"
   ]
  },
  {
   "cell_type": "code",
   "execution_count": null,
   "metadata": {},
   "outputs": [],
   "source": [
    "list(charact_dict.keys())"
   ]
  },
  {
   "cell_type": "markdown",
   "metadata": {},
   "source": [
    "##### Find the mean resting potential for each sweep\n",
    "\n",
    "Store the values in a dictionary with keys D1 and D2. Practicing indexing and summary statistic functions.\n",
    "\n",
    "Remember there are injected currents. So, we'd need to index the array and 'isoalte' the place where there is no current injected. Let's first plot it and chose the values between which we'd calculate the resting potential."
   ]
  },
  {
   "cell_type": "code",
   "execution_count": null,
   "metadata": {},
   "outputs": [],
   "source": [
    "# plot all sweeps\n",
    "\n",
    "plot_all_sweeps(charact_dict)"
   ]
  },
  {
   "cell_type": "code",
   "execution_count": null,
   "metadata": {},
   "outputs": [],
   "source": [
    "# plot specific_swp_num\n",
    "# this can help you check if your solutions are correct\n",
    "\n",
    "plot_specific_swp_num(charact_dict, 10, 10)"
   ]
  },
  {
   "cell_type": "markdown",
   "metadata": {},
   "source": [
    "Looking at those plots. Where could we measure the resting potential in each sweep. In other words, what is the part of the data where no currernt seems to be injected?\n",
    "\n",
    "Remember on the plots there are ms on the x axis. You'd need to transform to an array to be able to index the data.\n",
    "\n",
    "Hint. There are two possibilities. before and after the APs. <br>\n",
    "What is a reason to focus on the time period before?"
   ]
  },
  {
   "cell_type": "code",
   "execution_count": null,
   "metadata": {},
   "outputs": [],
   "source": [
    "# Apply the formula to transform ms to data points (dp). To find the cutoff. aka any meaningful datapoint before the start (offset) of the injection\n",
    "dp = \n",
    "\n",
    "# index the array so that for each sweep, you only have the chosen number of data points\n",
    "\n",
    "# create the output dictionary\n"
   ]
  },
  {
   "cell_type": "code",
   "execution_count": null,
   "metadata": {},
   "outputs": [],
   "source": [
    "# apply np.mean to find the mean resting membrane potential for each day\n",
    "# Hint: you are sked to average over the means you've already acquired)\n",
    "\n",
    "\n",
    "# can you do this directly, in one line, using only charact_dict['D1]"
   ]
  },
  {
   "cell_type": "markdown",
   "metadata": {},
   "source": [
    "##### Find the firing sweeps for each day\n",
    "\n",
    "Store the values in a dictionary with keys D1 and D2. Practicing indexing, looking for specific numpy functions."
   ]
  },
  {
   "cell_type": "markdown",
   "metadata": {},
   "source": [
    "For each day find the sweeps in which there are fired action potentials. Don't use for loops. Only NumPy."
   ]
  },
  {
   "cell_type": "code",
   "execution_count": null,
   "metadata": {},
   "outputs": [],
   "source": [
    "# define a cut off threshold\n",
    "\n",
    "# find sweeps where the values are above this threshold\n",
    "# here many ways possible. Try to think of more than 1\n",
    "\n",
    "# is there a difference in the time it takes to compute?\n",
    "\n",
    "# define the output dictionary"
   ]
  },
  {
   "cell_type": "markdown",
   "metadata": {},
   "source": [
    "##### Find the number of action potentials for each day in each sweep\n",
    "\n",
    "Store the result in an array with dimensionts (2, 12, 3). 2 for the two days, 12 for the sweeps, 3 for the measurements (swp number, injected curent, number of fired APs)\n",
    "\n",
    "Practicing understanding foreign code, indexing, filling of arrays."
   ]
  },
  {
   "cell_type": "markdown",
   "metadata": {},
   "source": [
    "Here we are using a pre-defined function called detect_peaks that finds peaks. We'd have to work around the fact that it can only take 1D arays as input.\n",
    "\n",
    "the function detect_peaks returns an array with indices of the peaks. Then how can we get the number of peaks? What information does the length of this array give us?"
   ]
  },
  {
   "cell_type": "code",
   "execution_count": null,
   "metadata": {},
   "outputs": [],
   "source": [
    "# what does this give us?\n",
    "\n",
    "charact_dict['D1'].shape[0]\n",
    "\n",
    "# what about that one?\n",
    "charact_dict['D1'].shape[1]\n",
    "\n",
    "# create varaibles that you'd use"
   ]
  },
  {
   "cell_type": "code",
   "execution_count": null,
   "metadata": {},
   "outputs": [],
   "source": [
    "inj = [-300, -200, -150, -100, -50, 0, 50, 100, 150, 200, 250, 300]\n",
    "\n",
    "num_swps = \n",
    "\n",
    "# define a numpy array that you'd fill with info in the following for loops\n",
    "params = np.zeros( ...  )\n",
    "\n",
    "# what are you looping through \n",
    "for i, day in enumerate():\n",
    "\n",
    "    # unfortunately this for loop is needed because detect peaks takes only 1D arrays as input\n",
    "\n",
    "    for j in : #loop through sweeps\n",
    "        # index the data to access the data for each sweep\n",
    "        swp_data = \n",
    "        pks = detect_peaks(swp_data, mph = 20, mpd = 50) # detects peaks\n",
    "        \n",
    "        # fill the data in your params varaible\n",
    "\n",
    "        params[i, j] = [ ... ]\n"
   ]
  },
  {
   "cell_type": "code",
   "execution_count": null,
   "metadata": {},
   "outputs": [],
   "source": [
    "# try plotting some of the sweeps. Is your answer correct based on the plots?\n"
   ]
  }
 ],
 "metadata": {
  "kernelspec": {
   "display_name": ".venv",
   "language": "python",
   "name": "python3"
  },
  "language_info": {
   "codemirror_mode": {
    "name": "ipython",
    "version": 3
   },
   "file_extension": ".py",
   "mimetype": "text/x-python",
   "name": "python",
   "nbconvert_exporter": "python",
   "pygments_lexer": "ipython3",
   "version": "3.10.12"
  }
 },
 "nbformat": 4,
 "nbformat_minor": 2
}
