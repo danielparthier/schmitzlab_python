{
 "cells": [
  {
   "cell_type": "markdown",
   "metadata": {},
   "source": [
    "# Homework\n",
    "\n",
    "For this homework you will need `numpy`, which you should all already have, and at the end `matplotlib`. Take a look at the presentation from day 1, if you don't remember how to install new packages. Make sure they are installed in the correct environment."
   ]
  },
  {
   "cell_type": "markdown",
   "metadata": {},
   "source": [
    "## Local vs. Global"
   ]
  },
  {
   "cell_type": "markdown",
   "metadata": {},
   "source": [
    "In this part of the homework we will explore the difference between global and local variables. Local variables are either defined or assigned in the function or are a function input. Global variables exist outside and can be modified from within a function.\n",
    "\n",
    "Check this out in addition to the slides, if you need a reminder of what local and global variables are\n",
    "https://www.geeksforgeeks.org/global-local-variables-python/"
   ]
  },
  {
   "cell_type": "markdown",
   "metadata": {},
   "source": [
    "Task: Make a new local RMPs list with `-80` as first element, so that the global `RMPs` is not changed and stays with firest value `-81`.\n",
    "\n",
    "Hint:\n",
    "\n",
    "Think about the placement of the list."
   ]
  },
  {
   "cell_type": "code",
   "execution_count": null,
   "metadata": {},
   "outputs": [],
   "source": [
    "RMPs = [-81, -76, -71, -78]\n",
    "# have a local RMPs = [-80, -76, -71, -78]\n",
    "\n",
    "def rmp_change_local():\n",
    "    # add code\n",
    "\n",
    "    print(RMPs)\n",
    "\n",
    "rmp_change_local() # here -80 expected as first value\n",
    "print(RMPs) # here 0-82 should be the first value"
   ]
  },
  {
   "cell_type": "markdown",
   "metadata": {},
   "source": [
    "Write a function called `rmp_change` that changes the global variable `RMPs` and changes the first position from `-81` to `-80`"
   ]
  },
  {
   "cell_type": "code",
   "execution_count": null,
   "metadata": {},
   "outputs": [],
   "source": [
    "RMPs = [-81, -76, -71, -78]\n",
    "\n",
    "# modify the function to change the RMPs list\n",
    "def rmp_change_global():\n",
    "\n",
    "\n",
    "rmp_change_global()\n",
    "print(RMPs)"
   ]
  },
  {
   "cell_type": "markdown",
   "metadata": {},
   "source": [
    "Now we want to avoid that the global `RMPs` are changed and only a local change should be performed. Write the function so that the global list stays the same and the first element in the list is only changed locally.\n",
    "\n",
    "Hint:\n",
    "\n",
    "Assigning a list a new variable does not copy the variable, however, lists have an attribute `mylist.copy()` which makes a copy."
   ]
  },
  {
   "cell_type": "code",
   "execution_count": null,
   "metadata": {},
   "outputs": [],
   "source": [
    "RMPs = [-81, -76, -71, -78]\n",
    "\n",
    "# modify the function to change the RMPs list inside the function\n",
    "# print the the local modified list additionally to the global list\n",
    "# after the function\n",
    "def rmp_change_local_modification():\n",
    "    # add the code here\n",
    "    print(RMPs_local)\n",
    "\n",
    "\n",
    "rmp_change_local_modification()\n",
    "\n",
    "# global list\n",
    "print(RMPs)"
   ]
  },
  {
   "cell_type": "markdown",
   "metadata": {},
   "source": [
    "In t he following part of the homework we will work through the different \"control flows\" which were discussed on day 2. Control flows are procedures which enable you to process information sequentially."
   ]
  },
  {
   "cell_type": "markdown",
   "metadata": {},
   "source": [
    "## Conditional statements\n",
    "\n",
    "The simplest statement one can use is the `if` statement. It can be extended by `elif` or `else`, but can also exist by itself."
   ]
  },
  {
   "cell_type": "code",
   "execution_count": 11,
   "metadata": {},
   "outputs": [],
   "source": [
    "RMP = -30\n",
    "threshold = -34"
   ]
  },
  {
   "cell_type": "markdown",
   "metadata": {},
   "source": [
    "Write an if statement that checks if the `RMP` is larger than the `threshold` and, if true set the `RMP` to `10`. Print the new `RMP` after the statement."
   ]
  },
  {
   "cell_type": "code",
   "execution_count": null,
   "metadata": {},
   "outputs": [],
   "source": [
    "#  write if statement\n",
    "\n",
    "print(RMP)"
   ]
  },
  {
   "cell_type": "markdown",
   "metadata": {},
   "source": [
    "Write a function called `spike_simulation` using the same if statement you just wrote.\n",
    "\n",
    "Expand it:\n",
    "- also check if `RMP` is `10`\n",
    "    - if `RMP` is `10` it should be reset to `-70`\n",
    "- should the `RMP` be something else the new `RMP` should be reset to the initial `RMP` value\n",
    "- finally the function should return the new `RMP`\n",
    "\n",
    "Hint:\n",
    "\n",
    "Think about the order if statements. The first element will always have the priority and might skip your second statement."
   ]
  },
  {
   "cell_type": "code",
   "execution_count": 13,
   "metadata": {},
   "outputs": [],
   "source": [
    "RMP = -30\n",
    "def spike_simulation(RMP, threshold):\n",
    "    # add your code\n",
    "\n",
    "    return RMP\n",
    "\n",
    "RMP = spike_simulation(RMP, threshold)\n",
    "\n",
    "print(RMP) # should be 10\n",
    "\n",
    "RMP = spike_simulation(RMP, threshold)\n",
    "\n",
    "print(RMP) # should be -70"
   ]
  },
  {
   "cell_type": "markdown",
   "metadata": {},
   "source": [
    "## For loops"
   ]
  },
  {
   "cell_type": "markdown",
   "metadata": {},
   "source": [
    "Here we will take a look at how loops can be useful. They let you repeat procedures for every element in your *iterable*.\n",
    "\n",
    "In the next box write a for loop that checks if all the elements are `True`."
   ]
  },
  {
   "cell_type": "code",
   "execution_count": 2,
   "metadata": {},
   "outputs": [],
   "source": [
    "# the \"*4\" at the end of the list repeats the list 4 times\n",
    "input_list = [True, False, False, False, True, False, True, False, True, False] * 4\n",
    "\n",
    "# are all of the elements in the list True?"
   ]
  },
  {
   "cell_type": "markdown",
   "metadata": {},
   "source": [
    "Write a `for` loop which runs over the `input_list` and print \"input\" for every element that is `True`. At the same time count the number of inputs inside the loop and print them at the end.\n",
    "\n",
    "Hint:\n",
    "\n",
    "Add up counts inside a for loop."
   ]
  },
  {
   "cell_type": "code",
   "execution_count": null,
   "metadata": {},
   "outputs": [],
   "source": [
    "# write your loop here\n",
    "\n",
    "\n",
    "\n",
    "    print(\"input\")\n",
    "\n",
    "print('The number of inputs is', number_of_inputs)\n",
    "# expected output: The number of inputs is 16"
   ]
  },
  {
   "cell_type": "markdown",
   "metadata": {},
   "source": [
    "For the next step we want to simulate the input size. numpy offers some functions we can use to generate a random number. In this example we generate a number and then convert it to a `float`"
   ]
  },
  {
   "cell_type": "code",
   "execution_count": 6,
   "metadata": {},
   "outputs": [
    {
     "data": {
      "text/plain": [
       "4.907609822659935"
      ]
     },
     "execution_count": 6,
     "metadata": {},
     "output_type": "execute_result"
    }
   ],
   "source": [
    "import numpy as np\n",
    "\n",
    "# set the seed to 2025 so that we all get the same numbers\n",
    "np.random.seed(2025)\n",
    "\n",
    "# the normal() function generates a random number from a normal distribution with given mean and standard deviation \n",
    "# the first element is the mean, the second the standard deviation\n",
    "\n",
    "np.random.normal(5, 1)"
   ]
  },
  {
   "cell_type": "markdown",
   "metadata": {},
   "source": [
    "Using the same approach as before we want to generate a random number if an input is detected and add it to the `RMP`. Here we are not expanding the list, we are just summing values. We will always have only 1 RMP, which is updating during the course of the loop. The random number should follow the same mean and standard deviation as before `np.random.normal(5, 1)`. For every non-existing input (`False`) add a `0` to the list.\n"
   ]
  },
  {
   "cell_type": "code",
   "execution_count": null,
   "metadata": {},
   "outputs": [],
   "source": [
    "np.random.seed(2025)\n",
    "\n",
    "RMP = -70\n",
    "for input in input_list:\n",
    "    # add your code here\n",
    "    \n",
    "\n",
    "# expected output: 8.0976\n",
    "print(np.round(RMP, 4))\n"
   ]
  },
  {
   "cell_type": "markdown",
   "metadata": {},
   "source": [
    "Use the same for loop you just wrote and modify it so that with every iteration you use the `spike_simulation` you created previously (in conditional statements section) for the `RMP`.\n",
    "\n",
    "The new `RMP` should be appended to the output list (`RMP_list`).\n",
    "\n",
    "If the new `RMP` is over `0` you get a spike. Add a spike counter and return the number of spikes at the end."
   ]
  },
  {
   "cell_type": "code",
   "execution_count": null,
   "metadata": {},
   "outputs": [],
   "source": [
    "np.random.seed(2025)\n",
    "\n",
    "threshold = -34\n",
    "RMP = -70\n",
    "RMP_list = []\n",
    "spike_counter = 0\n",
    "\n",
    "for input in input_list:\n",
    "    # add your code here\n",
    "\n",
    "\n",
    "    RMP = spike_simulation(RMP, threshold)\n",
    "\n",
    "\n",
    "print(spike_counter) # you should get 2 spikes"
   ]
  },
  {
   "cell_type": "code",
   "execution_count": null,
   "metadata": {},
   "outputs": [],
   "source": [
    "print(RMP_list)\n",
    "\n",
    "# the last value in your list should be rounded to -66.7893\n",
    "print(np.round(RMP_list[-1], 4))"
   ]
  },
  {
   "cell_type": "markdown",
   "metadata": {},
   "source": [
    "Let's take a look at the activity.\n",
    "For this we can plot the list with `matplotlib`. We will learn more about this in the future."
   ]
  },
  {
   "cell_type": "code",
   "execution_count": null,
   "metadata": {},
   "outputs": [],
   "source": [
    "import matplotlib.pyplot as plt\n",
    "plt.plot(RMP_list)"
   ]
  },
  {
   "cell_type": "markdown",
   "metadata": {},
   "source": [
    "Congratulations you simulated your first spike train!\n",
    "\n",
    "Now find the index of where you generated a spike. Don't forget a spike is a potential larger than 0. You can now write a for loop which looks for spikes in your new `RMP_list` and prints the index when you found a spike.\n",
    "\n",
    "\n",
    "Hint:\n",
    "\n",
    "Use a counter for the location."
   ]
  },
  {
   "cell_type": "code",
   "execution_count": 7,
   "metadata": {},
   "outputs": [],
   "source": [
    "# write the for loop to print the spike location\n",
    "\n",
    "\n",
    "# expected output: 16 and 36"
   ]
  },
  {
   "cell_type": "code",
   "execution_count": null,
   "metadata": {},
   "outputs": [],
   "source": []
  }
 ],
 "metadata": {
  "kernelspec": {
   "display_name": ".lab_python",
   "language": "python",
   "name": "python3"
  },
  "language_info": {
   "codemirror_mode": {
    "name": "ipython",
    "version": 3
   },
   "file_extension": ".py",
   "mimetype": "text/x-python",
   "name": "python",
   "nbconvert_exporter": "python",
   "pygments_lexer": "ipython3",
   "version": "3.12.7"
  }
 },
 "nbformat": 4,
 "nbformat_minor": 2
}
