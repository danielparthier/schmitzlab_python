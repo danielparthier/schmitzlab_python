{
 "cells": [
  {
   "cell_type": "markdown",
   "metadata": {},
   "source": [
    "# In class and HW - 2"
   ]
  },
  {
   "cell_type": "code",
   "execution_count": 7,
   "metadata": {},
   "outputs": [],
   "source": [
    "import timeit"
   ]
  },
  {
   "cell_type": "markdown",
   "metadata": {},
   "source": [
    "### Index-based for loops\n",
    "\n",
    "#### range()"
   ]
  },
  {
   "cell_type": "code",
   "execution_count": null,
   "metadata": {},
   "outputs": [],
   "source": [
    "B = [1, 4, 6, 7, 89, 54]\n",
    "big_indx = 0\n",
    "\n",
    "for i in range(len(B)):\n",
    "    if B[i] > B[big_indx]:\n",
    "        big_indx = i\n",
    "\n",
    "print('The max value in B is', B[big_indx], 'found on position' , big_indx)"
   ]
  },
  {
   "cell_type": "code",
   "execution_count": null,
   "metadata": {},
   "outputs": [],
   "source": []
  },
  {
   "cell_type": "code",
   "execution_count": null,
   "metadata": {},
   "outputs": [],
   "source": [
    "# how does range work"
   ]
  },
  {
   "cell_type": "code",
   "execution_count": 4,
   "metadata": {},
   "outputs": [
    {
     "name": "stdout",
     "output_type": "stream",
     "text": [
      "range(0, 10)\n"
     ]
    }
   ],
   "source": [
    "type(range(10))\n",
    "print(range(10))"
   ]
  },
  {
   "cell_type": "code",
   "execution_count": 1,
   "metadata": {},
   "outputs": [
    {
     "name": "stdout",
     "output_type": "stream",
     "text": [
      "30\n",
      "50\n",
      "23\n",
      "60\n",
      "39\n"
     ]
    }
   ],
   "source": [
    "# percentage of time spent in center\n",
    "# have two measurements, want to take only the first \n",
    "\n",
    "double_measurements = [30, 40, 50, 48, 23, 19, 60, 54, 39, 27] # 5 animals\n",
    "\n",
    "for indx in range(0, len(double_measurements), 2):\n",
    "    print(double_measurements[indx])"
   ]
  },
  {
   "cell_type": "markdown",
   "metadata": {},
   "source": [
    "#### enumerate()"
   ]
  },
  {
   "cell_type": "code",
   "execution_count": 5,
   "metadata": {},
   "outputs": [
    {
     "name": "stdout",
     "output_type": "stream",
     "text": [
      "the index is 0\n",
      "the value is  20\n",
      "the index is 1\n",
      "the value is  21\n",
      "the index is 2\n",
      "the value is  22\n",
      "the index is 3\n",
      "the value is  23\n",
      "the index is 4\n",
      "the value is  24\n"
     ]
    }
   ],
   "source": [
    "import numpy as np\n",
    "\n",
    "array_a = np.arange(20, 25)\n",
    "for indx, val in enumerate(array_a):\n",
    "    print('the index is', indx)\n",
    "    print('the value is ', val)"
   ]
  },
  {
   "cell_type": "code",
   "execution_count": null,
   "metadata": {},
   "outputs": [],
   "source": [
    "fruits = ['apple', 'peach', 'tomato', 'grape']\n",
    "\n",
    "for indx, fruit in enumerate(fruits):\n",
    "    print(indx)\n",
    "    print(fruit)"
   ]
  },
  {
   "cell_type": "code",
   "execution_count": null,
   "metadata": {},
   "outputs": [],
   "source": [
    "print(type(range(20)))\n",
    "\n",
    "print(type(enumerate(fruits)))"
   ]
  },
  {
   "cell_type": "markdown",
   "metadata": {},
   "source": [
    "### In-class exercise 2\n",
    "\n",
    "Given:\n",
    "4 measurements of intrinsic properties of 12 cells <br>\n",
    "4 numpy arrays Rin (input resistance), Rs (series resistance), RMPs (resting membrane potential), AP_THs (action potential threshold)\n",
    "\n",
    "Find:\n",
    "1. The input resistance of the cell with the lowest series resistance\n",
    "2. The AP thresholds of the 2 cell with highest RMPs\n",
    "3. A list of indices of cells to exclude. QC criteria: \n",
    "    - Rs < 30 MOhm\n",
    "    - RMPs > -45 mV\n"
   ]
  },
  {
   "cell_type": "code",
   "execution_count": 4,
   "metadata": {},
   "outputs": [],
   "source": [
    "import numpy as np\n",
    "\n",
    "Rin = np.array([26.38, 67.84, 63.05, 58.88, 57.51, 57.88, 43.68, 64.03, 139.82, 60.39, 62.13, 63.04])\n",
    "Rs = np.array([19.61, 28.40, 13.71, 16.26, 9.78, 10.51, 12.41, 8.94, 12.29, 11.92, 15.66, 16.32])\n",
    "RMPs = np.array([-68.93, -72.71, -55.55, -58.70, -44.18, -75.16, -43.82, -80.47, -63.30, -39.27, -46.08, -32.97])\n",
    "AP_THs = np.array([-47.45, -28.71, -36.14, -44.54, -38.67, -41.49, -41.99, -43.81, -44.21, -46.93, -42.58, -27.12])"
   ]
  },
  {
   "cell_type": "code",
   "execution_count": 5,
   "metadata": {},
   "outputs": [
    {
     "data": {
      "text/plain": [
       "np.float64(63.04)"
      ]
     },
     "execution_count": 5,
     "metadata": {},
     "output_type": "execute_result"
    }
   ],
   "source": [
    "# with enumerate 1.1\n",
    "\n",
    "indx_lowest_Rs = 0\n",
    "min_Rs = Rs[indx_lowest_Rs]\n",
    "\n",
    "for i, Rs_val in enumerate(Rs):\n",
    "    if Rs_val < min_Rs:\n",
    "        indx_lowest_Rs = i\n",
    "\n",
    "Rin[indx_lowest_Rs]"
   ]
  },
  {
   "cell_type": "code",
   "execution_count": 16,
   "metadata": {},
   "outputs": [
    {
     "data": {
      "text/plain": [
       "[2, 4, 7]"
      ]
     },
     "execution_count": 16,
     "metadata": {},
     "output_type": "execute_result"
    }
   ],
   "source": [
    "indx_lowest_Rs = 0\n",
    "min_Rs = Rs[indx_lowest_Rs]\n",
    "indx_list = []\n",
    "\n",
    "# loops over the indices and values of the series resistance list (Rs)\n",
    "for indx, Rs_val in enumerate(Rs):\n",
    "    # check if the Rs_val is smaller than the min_Rs until now\n",
    "    if Rs_val < min_Rs:\n",
    "        # if yes, updates the lowest index\n",
    "        indx_lowest_Rs = indx\n",
    "        # also updete the min_Rs\n",
    "        min_Rs = Rs_val\n",
    "        indx_list.append(indx_lowest_Rs)\n",
    "\n",
    "indx_list\n"
   ]
  },
  {
   "cell_type": "code",
   "execution_count": 15,
   "metadata": {},
   "outputs": [
    {
     "data": {
      "text/plain": [
       "np.int64(7)"
      ]
     },
     "execution_count": 15,
     "metadata": {},
     "output_type": "execute_result"
    }
   ],
   "source": [
    "# solution 1.1\n",
    "min_Rs = np.amin(Rs)\n",
    "indx_low_Rs = np.where(Rs == min_Rs)\n",
    "# Rin[indx_low_Rs]\n",
    "indx_low_Rs[0][0]"
   ]
  },
  {
   "cell_type": "code",
   "execution_count": null,
   "metadata": {},
   "outputs": [],
   "source": [
    "# find max and max index\n",
    "# "
   ]
  },
  {
   "cell_type": "code",
   "execution_count": 17,
   "metadata": {},
   "outputs": [
    {
     "name": "stdout",
     "output_type": "stream",
     "text": [
      "-32.97 -39.27\n"
     ]
    }
   ],
   "source": [
    "# find max \n",
    "max_RMP = np.amax(RMPs)\n",
    "# loop to find the index of max values\n",
    "for i, val in enumerate(RMPs):\n",
    "    # if the value is equal to found max \n",
    "    if val == max_RMP:\n",
    "        # update index of max value\n",
    "        indx_max = i\n",
    "\n",
    "# finding the  2nd max value\n",
    "second_max_indx = 0\n",
    "second_max_RMP = RMPs[second_max_indx]\n",
    "\n",
    "for i, RMP_val in enumerate(RMPs):\n",
    "\n",
    "    if RMP_val > second_max_RMP and RMP_val != max_RMP:\n",
    "        second_max_indx = i\n",
    "        second_max_RMP = RMP_val\n",
    "        \n",
    "\n",
    "print(max_RMP, second_max_RMP)\n",
    "print()"
   ]
  },
  {
   "cell_type": "code",
   "execution_count": 19,
   "metadata": {},
   "outputs": [
    {
     "data": {
      "text/plain": [
       "(np.float64(-46.93), np.float64(-27.12))"
      ]
     },
     "execution_count": 19,
     "metadata": {},
     "output_type": "execute_result"
    }
   ],
   "source": [
    "AP_THs[second_max_indx], AP_THs[indx_max]"
   ]
  },
  {
   "cell_type": "code",
   "execution_count": null,
   "metadata": {},
   "outputs": [],
   "source": [
    "\n",
    "if indx_max + 1 == len(RMPs) - 1: # if last\n",
    "    RMPs_no_max = RMPs[:-1]\n",
    "else:\n",
    "    RMPs_no_max = np.concat([RMPs[:indx_max], RMPs[indx_max+1:]])"
   ]
  },
  {
   "cell_type": "code",
   "execution_count": null,
   "metadata": {},
   "outputs": [],
   "source": []
  },
  {
   "cell_type": "code",
   "execution_count": null,
   "metadata": {},
   "outputs": [],
   "source": [
    "# solution 2.1\n",
    "\n",
    "# variant 1 - for loops\n",
    "max_RMP = np.amax(RMPs)\n",
    "for i, val in enumerate(RMPs):\n",
    "    if val == max_RMP:\n",
    "        indx_max = i\n",
    "\n",
    "if indx_max + 1 == len(RMPs) - 1: # if last\n",
    "    RMPs_no_max = RMPs[:-1]\n",
    "else:\n",
    "    RMPs_no_max = np.concat([RMPs[:indx_max], RMPs[indx_max+1:]])\n",
    "\n",
    "max_RMP2 = np.amax(RMPs_no_max)\n",
    "for i, val in enumerate(RMPs_no_max):\n",
    "    if val == max_RMP2:\n",
    "        indx_max_2 = i\n",
    "\n",
    "TH1, TH2 = AP_THs[indx_max], AP_THs[indx_max_2]\n",
    "\n"
   ]
  },
  {
   "cell_type": "code",
   "execution_count": null,
   "metadata": {},
   "outputs": [],
   "source": [
    "# solution 2.2\n",
    "\n",
    "indx_max_RMP = np.where(RMPs == np.amax(RMPs))[0][0]\n",
    "RMPs_no_max = np.delete(RMPs, indx_max_RMP)\n",
    "indx_max_2 = np.where(RMPs_no_max == np.amax(RMPs_no_max))[0][0]\n",
    "\n",
    "TH1, TH2 = AP_THs[indx_max_RMP], AP_THs[indx_max_2]\n",
    "\n",
    "\n"
   ]
  },
  {
   "cell_type": "code",
   "execution_count": 28,
   "metadata": {},
   "outputs": [
    {
     "data": {
      "text/plain": [
       "(array([ 9, 11]),)"
      ]
     },
     "execution_count": 28,
     "metadata": {},
     "output_type": "execute_result"
    }
   ],
   "source": [
    "RMPs_sorted = sorted(RMPs)\n",
    "\n",
    "RMP_max, RMP_max2 = RMPs_sorted[-1], RMPs_sorted[-2]\n",
    "\n",
    "np.where((RMPs == RMP_max) | (RMPs == RMP_max2))"
   ]
  },
  {
   "cell_type": "code",
   "execution_count": 34,
   "metadata": {},
   "outputs": [
    {
     "name": "stdout",
     "output_type": "stream",
     "text": [
      "[-68.93 -72.71 -55.55 -58.7 ]\n",
      "[np.float64(-72.71), np.float64(-68.93), np.float64(-58.7), np.float64(-55.55)]\n"
     ]
    }
   ],
   "source": [
    "print(RMPs[:4])\n",
    "print(sorted(RMPs[:4]))"
   ]
  },
  {
   "cell_type": "code",
   "execution_count": 32,
   "metadata": {},
   "outputs": [
    {
     "data": {
      "text/plain": [
       "array([1, 0, 3, 2])"
      ]
     },
     "execution_count": 32,
     "metadata": {},
     "output_type": "execute_result"
    }
   ],
   "source": [
    "np.argsort(RMPs[:4])"
   ]
  },
  {
   "cell_type": "code",
   "execution_count": null,
   "metadata": {},
   "outputs": [],
   "source": [
    "# solution 2.3\n",
    "\n",
    "def f3():\n",
    "    min_to_max_indices = np.argsort(RMPs)\n",
    "    TH1, TH2 = AP_THs[min_to_max_indices[-1]], AP_THs[min_to_max_indices[-2]]\n",
    "\n",
    "%timeit 'fast()'"
   ]
  },
  {
   "cell_type": "code",
   "execution_count": null,
   "metadata": {},
   "outputs": [],
   "source": [
    "# solution 3\n",
    "\n",
    "Rs_QC = np.where(Rs > 30)[0]\n",
    "RMP_QC = np.where(RMPs < -50)[0]\n",
    "indx_delete = np.concat((Rs_QC, RMP_QC))\n",
    "\n",
    "QC_params = {'Rin': Rin, 'Rs': Rs, 'RMPs': RMPs, 'AP_THs': AP_THs}\n",
    "for key, val in QC_params.items():\n",
    "    QC_params[key] = np.delete(val, indx_delete)\n",
    "\n",
    "print(QC_params)"
   ]
  },
  {
   "cell_type": "markdown",
   "metadata": {},
   "source": [
    "With this example it's evident how one can achieve the same goal using different code. When using small arrays, even the execution times are very similar. It's a question of style."
   ]
  },
  {
   "cell_type": "code",
   "execution_count": null,
   "metadata": {},
   "outputs": [],
   "source": [
    "# solution 3\n",
    "\n",
    "indx_Rs = np.where(Rs < 30)[0]\n",
    "indx_RMPs = np.where(RMPs > -45)[0]\n",
    "QC_indices2 = np.intersect1d(indx_Rs, indx_RMPs)\n",
    "\n",
    "print(indx_Rs)\n",
    "print(indx_RMPs)\n",
    "print(QC_indices2)\n"
   ]
  },
  {
   "cell_type": "code",
   "execution_count": 142,
   "metadata": {},
   "outputs": [],
   "source": [
    "QC_params2 = {'Rin': Rin, 'Rs': Rs, 'RMPs': RMPs, 'AP_THs': AP_THs}\n",
    "\n",
    "for key, val in QC_params2.items():\n",
    "    QC_params2[key] = val[QC_indices2]"
   ]
  },
  {
   "cell_type": "code",
   "execution_count": null,
   "metadata": {},
   "outputs": [],
   "source": [
    "QC_params2"
   ]
  },
  {
   "cell_type": "markdown",
   "metadata": {},
   "source": [
    "## break and continue"
   ]
  },
  {
   "cell_type": "markdown",
   "metadata": {},
   "source": [
    "- break - immediately terminates the loop\n",
    "- continue - skips whatever is after it and continues with the next iteration\n",
    "    - mostly used after a conditional statement"
   ]
  },
  {
   "cell_type": "code",
   "execution_count": 36,
   "metadata": {},
   "outputs": [
    {
     "name": "stdout",
     "output_type": "stream",
     "text": [
      "we have found the tastiest fruit. It is pear\n",
      "The not so tasty fruit are: ['apple', 'peach', 'tomato', 'grape', 'apricot']\n"
     ]
    }
   ],
   "source": [
    "# break statement\n",
    " \n",
    "fruits = ['apple', 'peach', 'tomato', 'grape', 'pear', 'apricot']\n",
    "\n",
    "not_the_best_fruit = []\n",
    "for indx, fruit in enumerate(fruits):\n",
    "    if fruit == 'pear':\n",
    "        print('we have found the tastiest fruit. It is', fruit)\n",
    "        continue\n",
    "    \n",
    "    not_the_best_fruit.append(fruit)\n",
    "\n",
    "print('The not so tasty fruit are:', not_the_best_fruit)"
   ]
  },
  {
   "cell_type": "code",
   "execution_count": 37,
   "metadata": {},
   "outputs": [
    {
     "name": "stdout",
     "output_type": "stream",
     "text": [
      "we have found the tastiest fruit. It is tomato\n",
      "The not so tasty fruit are: ['apple', 'peach', 'grape', 'pear', 'apricot']\n"
     ]
    }
   ],
   "source": [
    "# continue statement        \n",
    "\n",
    "fruits = ['apple', 'peach', 'tomato', 'grape', 'pear', 'apricot']\n",
    "\n",
    "not_the_best_fruit = []\n",
    "for indx, fruit in enumerate(fruits):\n",
    "    if fruit == 'tomato':\n",
    "        print('we have found the tastiest fruit. It is', fruit)\n",
    "        continue\n",
    "    \n",
    "    not_the_best_fruit.append(fruit)\n",
    "\n",
    "print('The not so tasty fruit are:', not_the_best_fruit)"
   ]
  },
  {
   "cell_type": "markdown",
   "metadata": {},
   "source": [
    "### Exercise with break and continue statements"
   ]
  },
  {
   "cell_type": "markdown",
   "metadata": {},
   "source": [
    "Given: a dictionary with slice names and the recordings that were performed. Some times recordings were repeated. You would like to keep only the first instances of those recordings and expand the dictionary with the indices of the recordings to keep."
   ]
  },
  {
   "cell_type": "code",
   "execution_count": 7,
   "metadata": {},
   "outputs": [],
   "source": [
    "# Given\n",
    "\n",
    "recordings_dictionary = {\n",
    "        'S1': ['vc', 'ramp', 'resting', 'resting', 'connectivity_screen', 'spontan', 'vc_end'],\n",
    "        'S2': ['vc', 'ramp', 'resting', 'connectivity_screen', 'connectivity_screen' ,'spontan', 'vc_end'],\n",
    "        'S3': ['vc', 'ramp', 'resting', 'resting', 'connectivity_screen', 'spontan', 'spontan', 'vc_end'],\n",
    "        'S4': ['vc', 'ramp', 'ramp', 'ramp', 'resting', 'connectivity_screen', 'spontan', 'vc_end']\n",
    "}"
   ]
  },
  {
   "cell_type": "code",
   "execution_count": 10,
   "metadata": {},
   "outputs": [],
   "source": [
    "# solution should look like this\n",
    "\n",
    "recordings_dictionary_solution = {\n",
    "        'S1': [['vc', 'ramp', 'resting', 'connectivity_screen', 'spontan', 'vc_end'], [0,1,2,4,5,6]],\n",
    "        'S2': [['vc', 'ramp', 'resting', 'connectivity_screen', 'spontan', 'vc_end'], [0,1,2,3,5,6]],\n",
    "        'S3': [['vc', 'ramp', 'resting', 'connectivity_screen', 'spontan', 'vc_end'], [0,1,2,4,5,7]],\n",
    "        'S4': [['vc', 'ramp', 'resting', 'connectivity_screen', 'spontan', 'vc_end'], [0,1,4,5,6,7]]\n",
    "}"
   ]
  },
  {
   "cell_type": "code",
   "execution_count": 11,
   "metadata": {},
   "outputs": [],
   "source": [
    "# your solution here\n",
    "\n",
    "recordings_dictionary_clean = {}\n",
    "\n",
    "for key, val in recordings_dictionary.items():\n",
    "    recordings_no_repetition, indx_no_repetition = [], []\n",
    "    for indx, recording in enumerate(recordings_dictionary[key]):\n",
    "        if recording in recordings_no_repetition:\n",
    "            continue\n",
    "        recordings_no_repetition.append(recording)\n",
    "        indx_no_repetition.append(indx)\n",
    "    \n",
    "    recordings_dictionary_clean[key] = [recordings_no_repetition, indx_no_repetition]\n"
   ]
  },
  {
   "cell_type": "code",
   "execution_count": 12,
   "metadata": {},
   "outputs": [
    {
     "data": {
      "text/plain": [
       "{'S1': [['vc', 'ramp', 'resting', 'connectivity_screen', 'spontan', 'vc_end'],\n",
       "  [0, 1, 2, 4, 5, 6]],\n",
       " 'S2': [['vc', 'ramp', 'resting', 'connectivity_screen', 'spontan', 'vc_end'],\n",
       "  [0, 1, 2, 3, 5, 6]],\n",
       " 'S3': [['vc', 'ramp', 'resting', 'connectivity_screen', 'spontan', 'vc_end'],\n",
       "  [0, 1, 2, 4, 5, 7]],\n",
       " 'S4': [['vc', 'ramp', 'resting', 'connectivity_screen', 'spontan', 'vc_end'],\n",
       "  [0, 1, 4, 5, 6, 7]]}"
      ]
     },
     "execution_count": 12,
     "metadata": {},
     "output_type": "execute_result"
    }
   ],
   "source": [
    "recordings_dictionary_clean"
   ]
  },
  {
   "cell_type": "code",
   "execution_count": null,
   "metadata": {},
   "outputs": [],
   "source": []
  }
 ],
 "metadata": {
  "kernelspec": {
   "display_name": ".lab_python",
   "language": "python",
   "name": "python3"
  },
  "language_info": {
   "codemirror_mode": {
    "name": "ipython",
    "version": 3
   },
   "file_extension": ".py",
   "mimetype": "text/x-python",
   "name": "python",
   "nbconvert_exporter": "python",
   "pygments_lexer": "ipython3",
   "version": "3.12.7"
  }
 },
 "nbformat": 4,
 "nbformat_minor": 2
}
