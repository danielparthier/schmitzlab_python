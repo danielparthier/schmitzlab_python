{
 "cells": [
  {
   "cell_type": "markdown",
   "metadata": {},
   "source": [
    "# In class and HW - 2"
   ]
  },
  {
   "cell_type": "code",
   "execution_count": 58,
   "metadata": {},
   "outputs": [],
   "source": [
    "import timeit"
   ]
  },
  {
   "cell_type": "markdown",
   "metadata": {},
   "source": [
    "### Local vs Global variables"
   ]
  },
  {
   "cell_type": "code",
   "execution_count": null,
   "metadata": {},
   "outputs": [],
   "source": [
    "def func1():\n",
    "    # local variable\n",
    "    s = \"I love Python\"\n",
    "    print(\"Inside Function:\", s)\n",
    "\n",
    "func1()\n",
    "print(s) #nothing"
   ]
  },
  {
   "cell_type": "code",
   "execution_count": null,
   "metadata": {},
   "outputs": [],
   "source": [
    "# Global scope\n",
    "def func2():\n",
    "    # not defining s in this function\n",
    "    print(\"Inside Function:\", s)\n",
    "\n",
    "s = \"great\"\n",
    "print(\"Outside Function\", s)\n",
    "func2() # error? no because s is a global variable"
   ]
  },
  {
   "cell_type": "code",
   "execution_count": null,
   "metadata": {},
   "outputs": [],
   "source": [
    "# mixing them up\n",
    "\n",
    "def func3():\n",
    "    s = \"Me too.\"\n",
    "    print(s)\n",
    "\n",
    "# Global scope\n",
    "s = \"I love variables\"\n",
    "func3()\n",
    "print(s)"
   ]
  },
  {
   "cell_type": "code",
   "execution_count": null,
   "metadata": {},
   "outputs": [],
   "source": [
    "# you can't modify global variables in functions\n",
    "def fail():\n",
    "    s.append(3)\n",
    "    print(\"Inside Function\", s)\n",
    "\n",
    "\n",
    "# Global scope\n",
    "s = [1, 2, 5]\n",
    "fail()\n",
    "\n",
    "# solution?"
   ]
  },
  {
   "cell_type": "markdown",
   "metadata": {},
   "source": [
    "## for loops\n",
    "\n",
    "Used to perform a repeated procedure on every iteration"
   ]
  },
  {
   "cell_type": "code",
   "execution_count": null,
   "metadata": {},
   "outputs": [],
   "source": [
    "# numpy arrays are iterable\n",
    "import numpy as np\n",
    "\n",
    "V = np.random.randint(10, 40, 5)\n",
    "\n",
    "for val in V:\n",
    "    print(val)"
   ]
  },
  {
   "cell_type": "code",
   "execution_count": null,
   "metadata": {},
   "outputs": [],
   "source": [
    "# Strings are iterable\n",
    "file_path = 'HALLO!'\n",
    "\n",
    "for char in file_path:\n",
    "    print(char)"
   ]
  },
  {
   "cell_type": "code",
   "execution_count": null,
   "metadata": {},
   "outputs": [],
   "source": [
    "# lists (and tuples) are iterable \n",
    "list_to_sum = [2,3,4,5,7,45]\n",
    "# write a for loop that sums the numbers in the list\n",
    "\n",
    "num_sum = 0\n",
    "for num in list_to_sum:\n",
    "    num_sum = num_sum + num # num_sum += num # alternative"
   ]
  },
  {
   "cell_type": "markdown",
   "metadata": {},
   "source": [
    "### In-class Exercise 1\n",
    "\n",
    "Given: \n",
    "A = [3, 4, 5, 9, 12, 87, -65, 300, 450, -32]\n",
    "\n",
    "Use *for loops* to:\n",
    "1. Add 3 to each element of the list\n",
    "2. Calculate the average of the list, but negative values are calcualted as 0s\n",
    "3. Find the maximum value\n",
    "4. Find the index (position) of the max value"
   ]
  },
  {
   "cell_type": "code",
   "execution_count": null,
   "metadata": {},
   "outputs": [],
   "source": [
    "A = [3, 4, 5, 9, 12, 87, -65, 300, 450, -32]\n",
    "\n",
    "# clean solution\n",
    "B = []\n",
    "for val in A:\n",
    "    val += 3\n",
    "    B.append(val)\n",
    "print(B)\n",
    "\n",
    "# one line solution\n",
    "B = []\n",
    "for val in A:\n",
    "    B.append(val + 3)\n",
    "print(B)"
   ]
  },
  {
   "cell_type": "code",
   "execution_count": null,
   "metadata": {},
   "outputs": [],
   "source": [
    "# calcualte the average but if an element is negative --> make this element 0\n",
    "sum_num = 0\n",
    "for val in A:\n",
    "    if val < 0:\n",
    "        val = 0\n",
    "    sum_num += val\n",
    "print(sum_num / len(A))"
   ]
  },
  {
   "cell_type": "code",
   "execution_count": null,
   "metadata": {},
   "outputs": [],
   "source": [
    "# find the maximum value\n",
    "biggest = A[0]\n",
    "for val in A:\n",
    "    if val > biggest:\n",
    "        biggest = val"
   ]
  },
  {
   "cell_type": "code",
   "execution_count": null,
   "metadata": {},
   "outputs": [],
   "source": [
    "# position of max value - better but not perfect\n",
    "biggest = A[0]\n",
    "count = -1\n",
    "for val in A:\n",
    "    count += 1\n",
    "    if val > biggest:\n",
    "        biggest = val\n",
    "        indx_max = count\n",
    "\n",
    "print('the max value is ', biggest)\n",
    "print('its position is ', indx_max)\n",
    "print(A[indx_max])"
   ]
  },
  {
   "cell_type": "markdown",
   "metadata": {},
   "source": [
    "Sometimes for loops are not needed!"
   ]
  },
  {
   "cell_type": "code",
   "execution_count": null,
   "metadata": {},
   "outputs": [],
   "source": [
    "# with a built-in functions\n",
    "A.index(max(A))"
   ]
  },
  {
   "cell_type": "markdown",
   "metadata": {},
   "source": [
    "### Index-based for loops\n",
    "\n",
    "#### range()"
   ]
  },
  {
   "cell_type": "code",
   "execution_count": null,
   "metadata": {},
   "outputs": [],
   "source": [
    "B = [1, 4, 6, 7, 89, 54]\n",
    "big_indx = 0\n",
    "\n",
    "for i in range(len(B)):\n",
    "    if B[i] > B[big_indx]:\n",
    "        big_indx = i\n",
    "\n",
    "print('The max value in B is', B[big_indx], 'found on position' , big_indx)"
   ]
  },
  {
   "cell_type": "code",
   "execution_count": null,
   "metadata": {},
   "outputs": [],
   "source": [
    "# percentage of time spent in center\n",
    "\n",
    "double_measurements = [30, 40, 50, 48, 23, 19, 60, 54, 39, 27] # 5 animals\n",
    "\n",
    "for indx in range(0, len(double_measurements), 2):\n",
    "    print(double_measurements[indx])"
   ]
  },
  {
   "cell_type": "markdown",
   "metadata": {},
   "source": [
    "#### enumerate()"
   ]
  },
  {
   "cell_type": "code",
   "execution_count": null,
   "metadata": {},
   "outputs": [],
   "source": [
    "import numpy as np\n",
    "\n",
    "array_a = np.arange(20, 25)\n",
    "for indx, val in enumerate(array_a):\n",
    "    print('the index is', indx)\n",
    "    print('the value is ', val)"
   ]
  },
  {
   "cell_type": "code",
   "execution_count": null,
   "metadata": {},
   "outputs": [],
   "source": [
    "fruits = ['apple', 'peach', 'tomato', 'grape']\n",
    "\n",
    "for indx, fruit in enumerate(fruits):\n",
    "    print(indx)\n",
    "    print(fruit)"
   ]
  },
  {
   "cell_type": "code",
   "execution_count": null,
   "metadata": {},
   "outputs": [],
   "source": [
    "print(type(range(20)))\n",
    "\n",
    "print(type(enumerate(fruits)))"
   ]
  },
  {
   "cell_type": "markdown",
   "metadata": {},
   "source": [
    "### In-class exercise 2\n",
    "\n",
    "Given:\n",
    "4 measurements of intrinsic properties of 12 cells <br>\n",
    "4 numpy arrays Rin (input resistance), Rs (series resistance), RMPs (resting membrane potential), AP_THs (action potential threshold)\n",
    "\n",
    "Find:\n",
    "1. The input resistance of the cell with the lowest series resistance\n",
    "2. The AP thresholds of the 2 cell with highest RMPs\n",
    "3. A list of indices of cells to exclude. QC criteria: \n",
    "    - Rs < 30 MOhm\n",
    "    - RMPs > -45 mV\n"
   ]
  },
  {
   "cell_type": "code",
   "execution_count": 8,
   "metadata": {},
   "outputs": [],
   "source": [
    "Rin = np.array([26.38, 67.84, 63.05, 58.88, 57.51, 57.88, 43.68, 64.03, 139.82, 60.39, 62.13, 63.04])\n",
    "Rs = np.array([19.61, 28.40, 13.71, 16.26, 9.78, 10.51, 12.41, 8.94, 12.29, 11.92, 15.66, 16.32])\n",
    "RMPs = np.array([-68.93, -72.71, -55.55, -58.70, -44.18, -75.16, -43.82, -80.47, -63.30, -39.27, -46.08, -32.97])\n",
    "AP_THs = np.array([-47.45, -28.71, -36.14, -44.54, -38.67, -41.49, -41.99, -43.81, -44.21, -46.93, -42.58, -27.12])"
   ]
  },
  {
   "cell_type": "code",
   "execution_count": null,
   "metadata": {},
   "outputs": [],
   "source": [
    "# solution 1.\n",
    "\n",
    "indx_low_Rs = np.where(Rs == (np.amin(Rs)))[0][0]\n",
    "Rin[indx_low_Rs]"
   ]
  },
  {
   "cell_type": "code",
   "execution_count": null,
   "metadata": {},
   "outputs": [],
   "source": [
    "# solution 2.1\n",
    "\n",
    "def f():\n",
    "    # variant 1 - for loops\n",
    "    max_RMP = np.amax(RMPs)\n",
    "    for i, val in enumerate(RMPs):\n",
    "        if val == max_RMP:\n",
    "            indx_max = i\n",
    "\n",
    "    if indx_max + 1 == len(RMPs) - 1: # if last\n",
    "        RMPs_no_max = RMPs[:-1]\n",
    "    else:\n",
    "        RMPs_no_max = np.concat([RMPs[:indx_max], RMPs[indx_max+1:]])\n",
    "\n",
    "    max_RMP2 = np.amax(RMPs_no_max)\n",
    "    for i, val in enumerate(RMPs_no_max):\n",
    "        if val == max_RMP2:\n",
    "            indx_max_2 = i\n",
    "\n",
    "    TH1, TH2 = AP_THs[indx_max], AP_THs[indx_max_2]\n",
    "\n",
    "%timeit 'f()'\n",
    "# print('The AP THs of the cells with higherst RMPs are', TH1, 'mV and',  TH2, 'mV')"
   ]
  },
  {
   "cell_type": "code",
   "execution_count": null,
   "metadata": {},
   "outputs": [],
   "source": [
    "# solution 2.2\n",
    "def f2():\n",
    "    indx_max_RMP = np.where(RMPs == np.amax(RMPs))[0][0]\n",
    "    RMPs_no_max = np.delete(RMPs, indx_max_RMP)\n",
    "    indx_max_2 = np.where(RMPs_no_max == np.amax(RMPs_no_max))[0][0]\n",
    "\n",
    "    TH1, TH2 = AP_THs[indx_max_RMP], AP_THs[indx_max_2]\n",
    "    #print(TH1, TH2)\n",
    "\n",
    "%timeit 'f2()'"
   ]
  },
  {
   "cell_type": "code",
   "execution_count": null,
   "metadata": {},
   "outputs": [],
   "source": [
    "# solution 2.3\n",
    "\n",
    "def f3():\n",
    "    min_to_max_indices = np.argsort(RMPs)\n",
    "    TH1, TH2 = AP_THs[min_to_max_indices[-1]], AP_THs[min_to_max_indices[-2]]\n",
    "\n",
    "%timeit 'fast()'"
   ]
  },
  {
   "cell_type": "code",
   "execution_count": null,
   "metadata": {},
   "outputs": [],
   "source": [
    "# solution 3\n",
    "\n",
    "Rs_QC = np.where(Rs > 30)[0]\n",
    "RMP_QC = np.where(RMPs < -50)[0]\n",
    "indx_delete = np.concat((Rs_QC, RMP_QC))\n",
    "\n",
    "QC_params = {'Rin': Rin, 'Rs': Rs, 'RMPs': RMPs, 'AP_THs': AP_THs}\n",
    "for key, val in QC_params.items():\n",
    "    QC_params[key] = np.delete(val, indx_delete)\n",
    "\n",
    "print(QC_params)"
   ]
  },
  {
   "cell_type": "markdown",
   "metadata": {},
   "source": [
    "With this example it's evident how one can achieve the same goal using different code. When using small arrays, even the execution times are very similar. It's a question of style."
   ]
  },
  {
   "cell_type": "code",
   "execution_count": null,
   "metadata": {},
   "outputs": [],
   "source": [
    "# solution 3\n",
    "\n",
    "indx_Rs = np.where(Rs < 30)[0]\n",
    "indx_RMPs = np.where(RMPs > -45)[0]\n",
    "QC_indices2 = np.intersect1d(indx_Rs, indx_RMPs)\n",
    "\n",
    "print(indx_Rs)\n",
    "print(indx_RMPs)\n",
    "print(QC_indices2)\n"
   ]
  },
  {
   "cell_type": "code",
   "execution_count": 142,
   "metadata": {},
   "outputs": [],
   "source": [
    "QC_params2 = {'Rin': Rin, 'Rs': Rs, 'RMPs': RMPs, 'AP_THs': AP_THs}\n",
    "\n",
    "for key, val in QC_params2.items():\n",
    "    QC_params2[key] = val[QC_indices2]"
   ]
  },
  {
   "cell_type": "code",
   "execution_count": null,
   "metadata": {},
   "outputs": [],
   "source": [
    "QC_params2"
   ]
  },
  {
   "cell_type": "markdown",
   "metadata": {},
   "source": [
    "## break and continue"
   ]
  },
  {
   "cell_type": "markdown",
   "metadata": {},
   "source": [
    "- break - immediately terminates the loop\n",
    "- continue - skips whatever is after it and continues with the next iteration\n",
    "    - mostly used after a conditional statement"
   ]
  },
  {
   "cell_type": "code",
   "execution_count": 5,
   "metadata": {},
   "outputs": [
    {
     "name": "stdout",
     "output_type": "stream",
     "text": [
      "we have found the tastiest fruit. It is pear\n",
      "['apple', 'peach', 'tomato', 'grape']\n"
     ]
    }
   ],
   "source": [
    "# breat statement\n",
    " \n",
    "fruits = ['apple', 'peach', 'tomato', 'grape', 'pear', 'apricot']\n",
    "\n",
    "not_the_best_fruit = []\n",
    "for indx, fruit in enumerate(fruits):\n",
    "    if fruit == 'pear':\n",
    "        print('we have found the tastiest fruit. It is', fruit)\n",
    "        break\n",
    "    \n",
    "    not_the_best_fruit.append(fruit)\n",
    "\n",
    "print('The not so tasty fruit are:', not_the_best_fruit)"
   ]
  },
  {
   "cell_type": "code",
   "execution_count": 6,
   "metadata": {},
   "outputs": [
    {
     "name": "stdout",
     "output_type": "stream",
     "text": [
      "we have found the tastiest fruit. It is pear\n",
      "The not so tasty fruit are: ['apple', 'peach', 'tomato', 'grape', 'apricot']\n"
     ]
    }
   ],
   "source": [
    "# continue statement        \n",
    "\n",
    "fruits = ['apple', 'peach', 'tomato', 'grape', 'pear', 'apricot']\n",
    "\n",
    "not_the_best_fruit = []\n",
    "for indx, fruit in enumerate(fruits):\n",
    "    if fruit == 'pear':\n",
    "        print('we have found the tastiest fruit. It is', fruit)\n",
    "        continue\n",
    "    \n",
    "    not_the_best_fruit.append(fruit)\n",
    "\n",
    "print('The not so tasty fruit are:', not_the_best_fruit)"
   ]
  },
  {
   "cell_type": "markdown",
   "metadata": {},
   "source": [
    "### Exercise with break and continue statements"
   ]
  },
  {
   "cell_type": "markdown",
   "metadata": {},
   "source": [
    "Given: a dictionary with slice names and the recordings that were performed. Some times recordings were repeated. You would like to keep only the first instances of those recordings and expand the dictionary with the indices of the recordings to keep."
   ]
  },
  {
   "cell_type": "code",
   "execution_count": 7,
   "metadata": {},
   "outputs": [],
   "source": [
    "# Given\n",
    "\n",
    "recordings_dictionary = {\n",
    "        'S1': ['vc', 'ramp', 'resting', 'resting', 'connectivity_screen', 'spontan', 'vc_end'],\n",
    "        'S2': ['vc', 'ramp', 'resting', 'connectivity_screen', 'connectivity_screen' ,'spontan', 'vc_end'],\n",
    "        'S3': ['vc', 'ramp', 'resting', 'resting', 'connectivity_screen', 'spontan', 'spontan', 'vc_end'],\n",
    "        'S4': ['vc', 'ramp', 'ramp', 'ramp', 'resting', 'connectivity_screen', 'spontan', 'vc_end']\n",
    "}"
   ]
  },
  {
   "cell_type": "code",
   "execution_count": 10,
   "metadata": {},
   "outputs": [],
   "source": [
    "# solution should look like this\n",
    "\n",
    "recordings_dictionary_solution = {\n",
    "        'S1': [['vc', 'ramp', 'resting', 'connectivity_screen', 'spontan', 'vc_end'], [0,1,2,4,5,6]],\n",
    "        'S2': [['vc', 'ramp', 'resting', 'connectivity_screen', 'spontan', 'vc_end'], [0,1,2,3,5,6]],\n",
    "        'S3': [['vc', 'ramp', 'resting', 'connectivity_screen', 'spontan', 'vc_end'], [0,1,2,4,5,7]],\n",
    "        'S4': [['vc', 'ramp', 'resting', 'connectivity_screen', 'spontan', 'vc_end'], [0,1,4,5,6,7]]\n",
    "}"
   ]
  },
  {
   "cell_type": "code",
   "execution_count": 11,
   "metadata": {},
   "outputs": [],
   "source": [
    "# your solution here\n",
    "\n",
    "recordings_dictionary_clean = {}\n",
    "\n",
    "for key, val in recordings_dictionary.items():\n",
    "    recordings_no_repetition, indx_no_repetition = [], []\n",
    "    for indx, recording in enumerate(recordings_dictionary[key]):\n",
    "        if recording in recordings_no_repetition:\n",
    "            continue\n",
    "        recordings_no_repetition.append(recording)\n",
    "        indx_no_repetition.append(indx)\n",
    "    \n",
    "    recordings_dictionary_clean[key] = [recordings_no_repetition, indx_no_repetition]\n"
   ]
  },
  {
   "cell_type": "code",
   "execution_count": 12,
   "metadata": {},
   "outputs": [
    {
     "data": {
      "text/plain": [
       "{'S1': [['vc', 'ramp', 'resting', 'connectivity_screen', 'spontan', 'vc_end'],\n",
       "  [0, 1, 2, 4, 5, 6]],\n",
       " 'S2': [['vc', 'ramp', 'resting', 'connectivity_screen', 'spontan', 'vc_end'],\n",
       "  [0, 1, 2, 3, 5, 6]],\n",
       " 'S3': [['vc', 'ramp', 'resting', 'connectivity_screen', 'spontan', 'vc_end'],\n",
       "  [0, 1, 2, 4, 5, 7]],\n",
       " 'S4': [['vc', 'ramp', 'resting', 'connectivity_screen', 'spontan', 'vc_end'],\n",
       "  [0, 1, 4, 5, 6, 7]]}"
      ]
     },
     "execution_count": 12,
     "metadata": {},
     "output_type": "execute_result"
    }
   ],
   "source": [
    "recordings_dictionary_clean"
   ]
  },
  {
   "cell_type": "code",
   "execution_count": null,
   "metadata": {},
   "outputs": [],
   "source": []
  }
 ],
 "metadata": {
  "kernelspec": {
   "display_name": ".lab_python",
   "language": "python",
   "name": "python3"
  },
  "language_info": {
   "codemirror_mode": {
    "name": "ipython",
    "version": 3
   },
   "file_extension": ".py",
   "mimetype": "text/x-python",
   "name": "python",
   "nbconvert_exporter": "python",
   "pygments_lexer": "ipython3",
   "version": "3.12.7"
  }
 },
 "nbformat": 4,
 "nbformat_minor": 2
}
