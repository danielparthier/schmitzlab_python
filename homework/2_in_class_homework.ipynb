{
 "cells": [
  {
   "cell_type": "markdown",
   "metadata": {},
   "source": [
    "# In class and HW - 2"
   ]
  },
  {
   "cell_type": "code",
   "execution_count": 58,
   "metadata": {},
   "outputs": [],
   "source": [
    "import timeit"
   ]
  },
  {
   "cell_type": "markdown",
   "metadata": {},
   "source": [
    "### Local vs Global variables"
   ]
  },
  {
   "cell_type": "code",
   "execution_count": null,
   "metadata": {},
   "outputs": [],
   "source": [
    "def func1():\n",
    "    # local variable\n",
    "    s = \"I love Python\"\n",
    "    print(\"Inside Function:\", s)\n",
    "\n",
    "func1()\n",
    "print(s) #nothing"
   ]
  },
  {
   "cell_type": "code",
   "execution_count": null,
   "metadata": {},
   "outputs": [],
   "source": [
    "# Global scope\n",
    "def func2():\n",
    "    # not defining s in this function\n",
    "    print(\"Inside Function:\", s)\n",
    "\n",
    "s = \"great\"\n",
    "print(\"Outside Function\", s)\n",
    "func2() # error? no because s is a global variable"
   ]
  },
  {
   "cell_type": "code",
   "execution_count": null,
   "metadata": {},
   "outputs": [],
   "source": [
    "# mixing them up\n",
    "\n",
    "def func3():\n",
    "    s = \"Me too.\"\n",
    "    print(s)\n",
    "\n",
    "# Global scope\n",
    "s = \"I love variables\"\n",
    "func3()\n",
    "print(s)"
   ]
  },
  {
   "cell_type": "code",
   "execution_count": null,
   "metadata": {},
   "outputs": [],
   "source": [
    "# you can't modify global variables in functions\n",
    "def fail():\n",
    "    s.append(3)\n",
    "    print(\"Inside Function\", s)\n",
    "\n",
    "\n",
    "# Global scope\n",
    "s = [1, 2, 5]\n",
    "fail()\n",
    "\n",
    "# solution?"
   ]
  },
  {
   "cell_type": "markdown",
   "metadata": {},
   "source": [
    "## for loops\n",
    "\n",
    "Used to perform a repeated procedure on every iteration"
   ]
  },
  {
   "cell_type": "code",
   "execution_count": 26,
   "metadata": {},
   "outputs": [
    {
     "name": "stdout",
     "output_type": "stream",
     "text": [
      "33\n",
      "29\n",
      "23\n",
      "38\n",
      "11\n"
     ]
    }
   ],
   "source": [
    "# numpy arrays are iterable\n",
    "import numpy as np\n",
    "\n",
    "V = np.random.randint(10, 40, 5)\n",
    "\n",
    "for val in V:\n",
    "    print(val)"
   ]
  },
  {
   "cell_type": "code",
   "execution_count": null,
   "metadata": {},
   "outputs": [],
   "source": [
    "# Strings are iterable\n",
    "file_path = 'HALLO!'\n",
    "\n",
    "for char in file_path:\n",
    "    print(char)"
   ]
  },
  {
   "cell_type": "code",
   "execution_count": null,
   "metadata": {},
   "outputs": [],
   "source": [
    "# lists (and tuples) are iterable \n",
    "list_to_sum = [2,3,4,5,7,45]\n",
    "# write a for loop that sums the numbers in the list\n",
    "\n",
    "num_sum = 0\n",
    "for num in list_to_sum:\n",
    "    num_sum = num_sum + num # num_sum += num # alternative"
   ]
  },
  {
   "cell_type": "markdown",
   "metadata": {},
   "source": [
    "### In-class Exercise 1\n",
    "\n",
    "Given: \n",
    "A = [3, 4, 5, 9, 12, 87, -65, 300, 450, -32]\n",
    "\n",
    "Use *for loops* to:\n",
    "1. Add 3 to each element of the list\n",
    "2. Calculate the average of the list, but negative values are calcualted as 0s\n",
    "3. Find the maximum value\n",
    "4. Find the index (position) of the max value"
   ]
  },
  {
   "cell_type": "code",
   "execution_count": 14,
   "metadata": {},
   "outputs": [
    {
     "name": "stdout",
     "output_type": "stream",
     "text": [
      "[6, 7, 8, 12, 15, 90, -62, 303, 453, -29]\n",
      "[6, 7, 8, 12, 15, 90, -62, 303, 453, -29]\n"
     ]
    }
   ],
   "source": [
    "A = [3, 4, 5, 9, 12, 87, -65, 300, 450, -32]\n",
    "\n",
    "# clean solution\n",
    "B = []\n",
    "for val in A:\n",
    "    val += 3\n",
    "    B.append(val)\n",
    "print(B)\n",
    "\n",
    "# one line solution\n",
    "B = []\n",
    "for val in A:\n",
    "    B.append(val + 3)\n",
    "print(B)"
   ]
  },
  {
   "cell_type": "code",
   "execution_count": null,
   "metadata": {},
   "outputs": [],
   "source": [
    "# calcualte the average but if an element is negative --> make this element 0\n",
    "sum_num = 0\n",
    "for val in A:\n",
    "    if val < 0:\n",
    "        val = 0\n",
    "    sum_num += val\n",
    "print(sum_num / len(A))"
   ]
  },
  {
   "cell_type": "code",
   "execution_count": 1,
   "metadata": {},
   "outputs": [
    {
     "ename": "NameError",
     "evalue": "name 'A' is not defined",
     "output_type": "error",
     "traceback": [
      "\u001b[0;31m---------------------------------------------------------------------------\u001b[0m",
      "\u001b[0;31mNameError\u001b[0m                                 Traceback (most recent call last)",
      "Cell \u001b[0;32mIn[1], line 2\u001b[0m\n\u001b[1;32m      1\u001b[0m \u001b[38;5;66;03m# find the maximum value\u001b[39;00m\n\u001b[0;32m----> 2\u001b[0m biggest \u001b[38;5;241m=\u001b[39m \u001b[43mA\u001b[49m[\u001b[38;5;241m0\u001b[39m]\n\u001b[1;32m      3\u001b[0m \u001b[38;5;28;01mfor\u001b[39;00m val \u001b[38;5;129;01min\u001b[39;00m A:\n\u001b[1;32m      4\u001b[0m     \u001b[38;5;28;01mif\u001b[39;00m val \u001b[38;5;241m>\u001b[39m biggest:\n",
      "\u001b[0;31mNameError\u001b[0m: name 'A' is not defined"
     ]
    }
   ],
   "source": [
    "# find the maximum value\n",
    "biggest = A[0]\n",
    "for val in A:\n",
    "    if val > biggest:\n",
    "        biggest = val"
   ]
  },
  {
   "cell_type": "code",
   "execution_count": 17,
   "metadata": {},
   "outputs": [
    {
     "name": "stdout",
     "output_type": "stream",
     "text": [
      "the max value is  450\n",
      "its position is  8\n",
      "450\n"
     ]
    }
   ],
   "source": [
    "# position of max value - better but not perfect\n",
    "biggest = A[0]\n",
    "count = -1\n",
    "for val in A:\n",
    "    count += 1\n",
    "    if val > biggest:\n",
    "        biggest = val\n",
    "        indx_max = count\n",
    "\n",
    "print('the max value is ', biggest)\n",
    "print('its position is ', indx_max)\n",
    "print(A[indx_max])"
   ]
  },
  {
   "cell_type": "markdown",
   "metadata": {},
   "source": [
    "Sometimes for loops are not needed!"
   ]
  },
  {
   "cell_type": "code",
   "execution_count": 20,
   "metadata": {},
   "outputs": [
    {
     "data": {
      "text/plain": [
       "8"
      ]
     },
     "execution_count": 20,
     "metadata": {},
     "output_type": "execute_result"
    }
   ],
   "source": [
    "# with a built-in functions\n",
    "A.index(max(A))"
   ]
  },
  {
   "cell_type": "markdown",
   "metadata": {},
   "source": [
    "### Index-based for loops\n",
    "\n",
    "#### range()"
   ]
  },
  {
   "cell_type": "code",
   "execution_count": 3,
   "metadata": {},
   "outputs": [
    {
     "name": "stdout",
     "output_type": "stream",
     "text": [
      "The max value in B is 89 found on position 4\n"
     ]
    }
   ],
   "source": [
    "B = [1, 4, 6, 7, 89, 54]\n",
    "big_indx = 0\n",
    "\n",
    "for i in range(len(B)):\n",
    "    if B[i] > B[big_indx]:\n",
    "        big_indx = i\n",
    "\n",
    "print('The max value in B is', B[big_indx], 'found on position' , big_indx)"
   ]
  },
  {
   "cell_type": "code",
   "execution_count": 32,
   "metadata": {},
   "outputs": [
    {
     "name": "stdout",
     "output_type": "stream",
     "text": [
      "30\n",
      "50\n",
      "23\n",
      "60\n",
      "39\n"
     ]
    }
   ],
   "source": [
    "# percentage of time spent in center\n",
    "\n",
    "double_measurements = [30, 40, 50, 48, 23, 19, 60, 54, 39, 27] # 5 animals\n",
    "\n",
    "for indx in range(0, len(double_measurements), 2):\n",
    "    print(double_measurements[indx])"
   ]
  },
  {
   "cell_type": "markdown",
   "metadata": {},
   "source": [
    "#### enumerate()"
   ]
  },
  {
   "cell_type": "code",
   "execution_count": 10,
   "metadata": {},
   "outputs": [
    {
     "name": "stdout",
     "output_type": "stream",
     "text": [
      "the index is 0\n",
      "the value is  20\n",
      "the index is 1\n",
      "the value is  21\n",
      "the index is 2\n",
      "the value is  22\n",
      "the index is 3\n",
      "the value is  23\n",
      "the index is 4\n",
      "the value is  24\n"
     ]
    }
   ],
   "source": [
    "import numpy as np\n",
    "\n",
    "array_a = np.arange(20, 25)\n",
    "for indx, val in enumerate(array_a):\n",
    "    print('the index is', indx)\n",
    "    print('the value is ', val)"
   ]
  },
  {
   "cell_type": "code",
   "execution_count": 21,
   "metadata": {},
   "outputs": [
    {
     "name": "stdout",
     "output_type": "stream",
     "text": [
      "0\n",
      "apple\n",
      "1\n",
      "peach\n",
      "2\n",
      "tomato\n",
      "3\n",
      "grape\n"
     ]
    }
   ],
   "source": [
    "fruits = ['apple', 'peach', 'tomato', 'grape']\n",
    "\n",
    "for indx, fruit in enumerate(fruits):\n",
    "    print(indx)\n",
    "    print(fruit)"
   ]
  },
  {
   "cell_type": "code",
   "execution_count": null,
   "metadata": {},
   "outputs": [],
   "source": [
    "print(type(range(20)))\n",
    "\n",
    "print(type(enumerate(fruits)))"
   ]
  },
  {
   "cell_type": "markdown",
   "metadata": {},
   "source": [
    "### In-class exercise 2\n",
    "\n",
    "Given:\n",
    "4 measurements of intrinsic properties of 12 cells <br>\n",
    "4 numpy arrays Rin (input resistance), Rs (series resistance), RMPs (resting membrane potential), AP_THs (action potential threshold)\n",
    "\n",
    "Find:\n",
    "1. The input resistance of the cell with the lowest series resistance\n",
    "2. The AP thresholds of the 2 cell with highest RMPs\n",
    "3. A list of indices of cells to exclude. QC criteria: \n",
    "    - Rs < 30 MOhm\n",
    "    - RMPs > -50 mV\n"
   ]
  },
  {
   "cell_type": "code",
   "execution_count": 84,
   "metadata": {},
   "outputs": [],
   "source": [
    "Rin = np.array([26.38, 67.84, 63.05, 58.88, 57.51, 57.88, 43.68, 64.03, 139.82, 60.39, 62.13, 63.04])\n",
    "Rs = np.array([19.61, 28.40, 13.71, 16.26, 9.78, 10.51, 12.41, 8.94, 12.29, 11.92, 15.66, 16.32])\n",
    "RMPs = np.array([-68.93, -72.71, -55.55, -58.70, -44.18, -75.16, -43.82, -80.47, -63.30, -39.27, -46.08, -32.97])\n",
    "AP_THs = np.array([-47.45, -28.71, -36.14, -44.54, -38.67, -41.49, -41.99, -43.81, -44.21, -46.93, -42.58, -27.12])"
   ]
  },
  {
   "cell_type": "code",
   "execution_count": 44,
   "metadata": {},
   "outputs": [
    {
     "data": {
      "text/plain": [
       "np.float64(64.03)"
      ]
     },
     "execution_count": 44,
     "metadata": {},
     "output_type": "execute_result"
    }
   ],
   "source": [
    "# solution 1.\n",
    "\n",
    "indx_low_Rs = np.where(Rs == (np.amin(Rs)))[0][0]\n",
    "Rin[indx_low_Rs]"
   ]
  },
  {
   "cell_type": "code",
   "execution_count": 78,
   "metadata": {},
   "outputs": [],
   "source": [
    "RMPs = np.random.randint(0, 20_000, 100_000_000)\n",
    "THs = np.random.randint(0, 20_000, 100_000_000)"
   ]
  },
  {
   "cell_type": "code",
   "execution_count": 75,
   "metadata": {},
   "outputs": [
    {
     "name": "stdout",
     "output_type": "stream",
     "text": [
      "3.65 ns ± 0.193 ns per loop (mean ± std. dev. of 7 runs, 100,000,000 loops each)\n"
     ]
    }
   ],
   "source": [
    "# solution 2.\n",
    "\n",
    "def f():\n",
    "    # variant 1 - for loops\n",
    "    max_RMP = np.amax(RMPs)\n",
    "    for i, val in enumerate(RMPs):\n",
    "        if val == max_RMP:\n",
    "            indx_max = i\n",
    "\n",
    "    if indx_max + 1 == len(RMPs) - 1: # if last\n",
    "        RMPs_no_max = RMPs[:-1]\n",
    "    else:\n",
    "        RMPs_no_max = np.concat([RMPs[:indx_max], RMPs[indx_max+1:]])\n",
    "\n",
    "    max_RMP2 = np.amax(RMPs_no_max)\n",
    "    for i, val in enumerate(RMPs_no_max):\n",
    "        if val == max_RMP2:\n",
    "            indx_max_2 = i\n",
    "\n",
    "    TH1, TH2 = AP_THs[indx_max], AP_THs[indx_max_2]\n",
    "\n",
    "%timeit 'f()'\n",
    "# print('The AP THs of the cells with higherst RMPs are', TH1, 'mV and',  TH2, 'mV')"
   ]
  },
  {
   "cell_type": "code",
   "execution_count": 76,
   "metadata": {},
   "outputs": [
    {
     "name": "stdout",
     "output_type": "stream",
     "text": [
      "3.67 ns ± 0.154 ns per loop (mean ± std. dev. of 7 runs, 100,000,000 loops each)\n"
     ]
    }
   ],
   "source": [
    "# solution 2 - shortest?\n",
    "def f2():\n",
    "    indx_max_RMP = np.where(RMPs == np.amax(RMPs))[0][0]\n",
    "    RMPs_no_max = np.delete(RMPs, indx_max_RMP)\n",
    "    indx_max_2 = np.where(RMPs_no_max == np.amax(RMPs_no_max))[0][0]\n",
    "\n",
    "    TH1, TH2 = AP_THs[indx_max_RMP], AP_THs[indx_max_2]\n",
    "    #print(TH1, TH2)\n",
    "\n",
    "%timeit 'f2()'"
   ]
  },
  {
   "cell_type": "code",
   "execution_count": 77,
   "metadata": {},
   "outputs": [
    {
     "name": "stdout",
     "output_type": "stream",
     "text": [
      "3.68 ns ± 0.157 ns per loop (mean ± std. dev. of 7 runs, 100,000,000 loops each)\n"
     ]
    }
   ],
   "source": [
    "# solution 3\n",
    "\n",
    "def f3():\n",
    "    min_to_max_indices = np.argsort(RMPs)\n",
    "    TH1, TH2 = AP_THs[min_to_max_indices[-1]], AP_THs[min_to_max_indices[-2]]\n",
    "\n",
    "%timeit 'fast()'"
   ]
  },
  {
   "cell_type": "code",
   "execution_count": 110,
   "metadata": {},
   "outputs": [
    {
     "name": "stdout",
     "output_type": "stream",
     "text": [
      "{'Rin': array([57.51, 43.68, 60.39, 62.13, 63.04]), 'Rs': array([ 9.78, 12.41, 11.92, 15.66, 16.32]), 'RMPs': array([-44.18, -43.82, -39.27, -46.08, -32.97]), 'AP_THs': array([-38.67, -41.99, -46.93, -42.58, -27.12])}\n"
     ]
    }
   ],
   "source": [
    "# solution 3\n",
    "\n",
    "Rs_QC = np.where(Rs > 30)[0]\n",
    "RMP_QC = np.where(RMPs < -50)[0]\n",
    "indx_delete = np.concat((Rs_QC, RMP_QC))\n",
    "\n",
    "QC_params = {'Rin': Rin, 'Rs': Rs, 'RMPs': RMPs, 'AP_THs': AP_THs}\n",
    "for key, val in QC_params.items():\n",
    "    QC_params[key] = np.delete(val, indx_delete)\n",
    "\n",
    "print(QC_params)"
   ]
  },
  {
   "cell_type": "code",
   "execution_count": 109,
   "metadata": {},
   "outputs": [
    {
     "data": {
      "text/plain": [
       "array([-68.93, -72.71, -55.55, -58.7 , -44.18, -75.16, -43.82, -80.47,\n",
       "       -63.3 , -39.27, -46.08, -32.97])"
      ]
     },
     "execution_count": 109,
     "metadata": {},
     "output_type": "execute_result"
    }
   ],
   "source": [
    "RMPs"
   ]
  },
  {
   "cell_type": "code",
   "execution_count": 101,
   "metadata": {},
   "outputs": [
    {
     "ename": "TypeError",
     "evalue": "unhashable type: 'numpy.ndarray'",
     "output_type": "error",
     "traceback": [
      "\u001b[0;31m---------------------------------------------------------------------------\u001b[0m",
      "\u001b[0;31mTypeError\u001b[0m                                 Traceback (most recent call last)",
      "Cell \u001b[0;32mIn[101], line 1\u001b[0m\n\u001b[0;32m----> 1\u001b[0m \u001b[38;5;28;43mglobals\u001b[39;49m\u001b[43m(\u001b[49m\u001b[43m)\u001b[49m\u001b[43m[\u001b[49m\u001b[43mRMPs\u001b[49m\u001b[43m]\u001b[49m\n",
      "\u001b[0;31mTypeError\u001b[0m: unhashable type: 'numpy.ndarray'"
     ]
    }
   ],
   "source": [
    "globals()[RMPs]"
   ]
  },
  {
   "cell_type": "code",
   "execution_count": null,
   "metadata": {},
   "outputs": [],
   "source": []
  }
 ],
 "metadata": {
  "kernelspec": {
   "display_name": ".lab_python",
   "language": "python",
   "name": "python3"
  },
  "language_info": {
   "codemirror_mode": {
    "name": "ipython",
    "version": 3
   },
   "file_extension": ".py",
   "mimetype": "text/x-python",
   "name": "python",
   "nbconvert_exporter": "python",
   "pygments_lexer": "ipython3",
   "version": "3.12.7"
  }
 },
 "nbformat": 4,
 "nbformat_minor": 2
}
