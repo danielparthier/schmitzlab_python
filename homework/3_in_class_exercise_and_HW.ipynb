{
 "cells": [
  {
   "cell_type": "markdown",
   "metadata": {},
   "source": [
    "# In class 3"
   ]
  },
  {
   "cell_type": "markdown",
   "metadata": {},
   "source": [
    "### Index-based for loops\n",
    "\n",
    "#### range()"
   ]
  },
  {
   "cell_type": "markdown",
   "metadata": {},
   "source": [
    "Can be used with 1, 2 or 3 arguments. Check examples below."
   ]
  },
  {
   "cell_type": "code",
   "execution_count": null,
   "metadata": {},
   "outputs": [],
   "source": [
    "# What does it do\n",
    "\n",
    "# with one argument\n",
    "# starts from 0 to 9 (10-1)\n",
    "list(range(10))\n"
   ]
  },
  {
   "cell_type": "code",
   "execution_count": null,
   "metadata": {},
   "outputs": [],
   "source": [
    "# with 2 arguments\n",
    "# start, stop\n",
    "list(range(3,10)) # from 3 to 10"
   ]
  },
  {
   "cell_type": "code",
   "execution_count": null,
   "metadata": {},
   "outputs": [],
   "source": [
    "# with 3 arguments\n",
    "# start, stop, step\n",
    "list(range(3,10,2)) # from 3 to 10 with step of 2"
   ]
  },
  {
   "cell_type": "markdown",
   "metadata": {},
   "source": [
    "Range is very often used with one input, the length of the list over whose indices we'd like to iterate. For this we use the len() function as illustrated below."
   ]
  },
  {
   "cell_type": "code",
   "execution_count": null,
   "metadata": {},
   "outputs": [],
   "source": [
    "word = 'BERLINALE'\n",
    "\n",
    "# goes over the the indices of word (a string) and prints the index and the letter at that index\n",
    "for i in range(len(word)):\n",
    "    print(i, word[i])"
   ]
  },
  {
   "cell_type": "code",
   "execution_count": null,
   "metadata": {},
   "outputs": [],
   "source": [
    "# does the same as above using enumerate\n",
    "for i, letter in enumerate(word):\n",
    "    print(i, letter)"
   ]
  },
  {
   "cell_type": "code",
   "execution_count": null,
   "metadata": {},
   "outputs": [],
   "source": [
    "# another solution to find maximum\n",
    "B = [1, 4, 6, 7, 89, 54]\n",
    "\n",
    "# define the biggest index as the first one\n",
    "# we need it so that we can compare to something\n",
    "big_indx = 0\n",
    "\n",
    "# loop over all indices 0 to length of the list\n",
    "for i in range(len(B)):\n",
    "    # if the value at index i is bigger than the biggest value until now\n",
    "    if B[i] > B[big_indx]:\n",
    "        # update my index for the biggest value\n",
    "        big_indx = i\n",
    "\n",
    "print('The max value in B is', B[big_indx], 'found on position' , big_indx)"
   ]
  },
  {
   "cell_type": "markdown",
   "metadata": {},
   "source": [
    "User scenario. We have double measurements for how much time a mouse spent eating. From the variable double_measurement 30 and 40 belong to mousse1, 50, 48 to mouse 2, etc. \n",
    "\n",
    "We want to just take the first measurement. "
   ]
  },
  {
   "cell_type": "code",
   "execution_count": null,
   "metadata": {},
   "outputs": [],
   "source": [
    "# percentage of time spent in center\n",
    "\n",
    "double_measurements = [30, 40, 50, 48, 23, 19, 60, 54, 39, 27] # 5 animals\n",
    "# we define an emty list where to store our single measurement\n",
    "one_measurement_per_animal = []\n",
    "\n",
    "# loop over the indices of the double_measurement with a step of 2\n",
    "for indx in range(0, len(double_measurements), 2): \n",
    "    # append the measuremnt at that index\n",
    "    one_measurement_per_animal.append(double_measurements[indx])\n",
    "\n",
    "print(one_measurement_per_animal)\n"
   ]
  },
  {
   "cell_type": "markdown",
   "metadata": {},
   "source": [
    "How would you take only the second measurement? You need to change only one number in the cell above."
   ]
  },
  {
   "cell_type": "code",
   "execution_count": null,
   "metadata": {},
   "outputs": [],
   "source": [
    "# your code here"
   ]
  },
  {
   "cell_type": "markdown",
   "metadata": {},
   "source": [
    "How would you take the average from the two measurements? \n",
    "\n",
    "Hint: you can index like this A[3+1]"
   ]
  },
  {
   "cell_type": "code",
   "execution_count": null,
   "metadata": {},
   "outputs": [],
   "source": [
    "# your code here"
   ]
  },
  {
   "cell_type": "markdown",
   "metadata": {},
   "source": [
    "#### enumerate()"
   ]
  },
  {
   "cell_type": "markdown",
   "metadata": {},
   "source": [
    "- assigns a count to each item within an iterable and returns it as an enumerate object\n",
    "- one way to avoid nested loops"
   ]
  },
  {
   "cell_type": "code",
   "execution_count": null,
   "metadata": {},
   "outputs": [],
   "source": [
    "import numpy as np\n",
    "\n",
    "# create a numpy array with values from 20 to 24\n",
    "# Notice that 25 is not included in the array, same principle as range\n",
    "array_a = np.arange(20, 25)\n",
    "print('Our starting array is:', array_a)\n",
    "\n",
    "# loop over the index and the values of the array and print them\n",
    "for indx, val in enumerate(array_a):\n",
    "    print('the index is', indx)\n",
    "    print('the value is ', val)"
   ]
  },
  {
   "cell_type": "markdown",
   "metadata": {},
   "source": [
    "Remember that both range() and enumerate() are returning objects. To look at what they will actually be, you could create a list and look at the output. \n",
    "\n",
    "This is here just to help you understand what range() and enumerate() are doing. You will probably never need to create a list like the ones below."
   ]
  },
  {
   "cell_type": "code",
   "execution_count": null,
   "metadata": {},
   "outputs": [],
   "source": [
    "# check the types\n",
    "print(type(range(20)))\n",
    "\n",
    "fruits = ['apple', 'peach', 'tomato', 'grape']\n",
    "print(type(enumerate(fruits)))"
   ]
  },
  {
   "cell_type": "code",
   "execution_count": null,
   "metadata": {},
   "outputs": [],
   "source": [
    "# a way to see what will be output\n",
    "list(enumerate(array_a))\n",
    "list(range(len(array_a)))"
   ]
  },
  {
   "cell_type": "code",
   "execution_count": null,
   "metadata": {},
   "outputs": [],
   "source": [
    "# this is here just to show you that you can loop over lists with strings\n",
    "fruits = ['apple', 'peach', 'tomato', 'grape']\n",
    "\n",
    "for indx, fruit in enumerate(fruits):\n",
    "    print(indx)\n",
    "    print(fruit)"
   ]
  },
  {
   "cell_type": "markdown",
   "metadata": {},
   "source": [
    "### In-class exercise\n",
    "\n",
    "Given:\n",
    "4 measurements of intrinsic properties of 12 cells <br>\n",
    "4 numpy arrays Rin (input resistance), Rs (series resistance), RMPs (resting membrane potential), AP_THs (action potential threshold)\n",
    "\n",
    "Find:\n",
    "1. The input resistance of the cell with the lowest series resistance\n",
    "2. The AP thresholds of the 2 cell with highest RMPs\n",
    "3. A list of indices of cells to exclude. QC criteria: \n",
    "    - Rs < 30 MOhm and\n",
    "    - RMPs > -45 mV\n"
   ]
  },
  {
   "cell_type": "code",
   "execution_count": 15,
   "metadata": {},
   "outputs": [],
   "source": [
    "Rin = np.array([26.38, 67.84, 63.05, 58.88, 57.51, 57.88, 43.68, 64.03, 139.82, 60.39, 62.13, 63.04])\n",
    "Rs = np.array([19.61, 28.40, 13.71, 16.26, 9.78, 10.51, 12.41, 8.94, 12.29, 11.92, 15.66, 16.32])\n",
    "RMPs = np.array([-68.93, -72.71, -55.55, -58.70, -44.18, -75.16, -43.82, -80.47, -63.30, -39.27, -46.08, -32.97])\n",
    "AP_THs = np.array([-47.45, -28.71, -36.14, -44.54, -38.67, -41.49, -41.99, -43.81, -44.21, -46.93, -42.58, -27.12])"
   ]
  },
  {
   "cell_type": "code",
   "execution_count": null,
   "metadata": {},
   "outputs": [],
   "source": [
    "indx_lowest_Rs = 0\n",
    "min_Rs = Rs[indx_lowest_Rs]\n",
    "\n",
    "# loops over the indices and values of the series resistance list (Rs)\n",
    "for indx, Rs_val in enumerate(Rs):\n",
    "    # check if the Rs_val is smaller than the min_Rs until now\n",
    "    if Rs_val < min_Rs:\n",
    "        # if yes, updates the lowest index\n",
    "        indx_lowest_Rs = indx\n",
    "        # also updete the min_Rs\n",
    "        min_Rs = Rs_val\n",
    "        \n",
    "# find the corresponding input resistance value\n",
    "Rin[indx_lowest_Rs]\n"
   ]
  },
  {
   "cell_type": "code",
   "execution_count": null,
   "metadata": {},
   "outputs": [],
   "source": [
    "# very fast way to solve, using functions from the numpy package\n",
    "indx_low_Rs = np.where(Rs == np.amin(Rs))[0][0]\n",
    "print(Rin[indx_low_Rs])\n",
    "\n",
    "# broken down version \n",
    "# find the minimum\n",
    "min_Rs = np.amin(Rs)\n",
    "# find where Rs is equal to the minimum\n",
    "# we are using [0][0] to get the index\n",
    "indx_low_Rs = np.where(Rs == min_Rs)[0][0]\n",
    "\n",
    "print(Rin[indx_low_Rs])"
   ]
  },
  {
   "cell_type": "markdown",
   "metadata": {},
   "source": [
    "Summary of what solution strategies were proposed in class. Illustration that there's more than one way to skin a cat. Many roads lead to Rome. Idioms are great.\n",
    "\n",
    "All solutions start with finding the maximum. Then (options)\n",
    "1. find the maximum; find the second maximum in a for loop with the condition that the value should not be equal the first max value\n",
    "2. find the maximum; createa new array where this value is removed, find the maximum in the same way. this will be the second biggest value\n",
    "3. sort the values, create max_val and max_val2 by indexing the sorted value, loop over the orignial array with enumerate to find the indices of those values\n",
    "4. (too advanced) create a matrix with all cell parameters and work with this and \n",
    "\n",
    "Solutions 1 to 3 are illustrated below. Break them apart. Play with the code and make sure you understand what each line is doing."
   ]
  },
  {
   "cell_type": "code",
   "execution_count": null,
   "metadata": {},
   "outputs": [],
   "source": [
    "# solution 2.1\n",
    "# find max \n",
    "max_RMP = np.amax(RMPs)\n",
    "# loop to find the index of max values\n",
    "for i, val in enumerate(RMPs):\n",
    "    # if the value is equal to found max \n",
    "    if val == max_RMP:\n",
    "        # update index of max value\n",
    "        indx_max = i\n",
    "\n",
    "# finding the  2nd max value\n",
    "second_max_indx = 0\n",
    "second_max_RMP = RMPs[second_max_indx]\n",
    "\n",
    "for i, RMP_val in enumerate(RMPs):\n",
    "    # condition that it's not \n",
    "    if RMP_val > second_max_RMP and RMP_val != max_RMP:\n",
    "        second_max_indx = i\n",
    "        second_max_RMP = RMP_val\n",
    "        "
   ]
  },
  {
   "cell_type": "code",
   "execution_count": null,
   "metadata": {},
   "outputs": [],
   "source": [
    "# execute this cell \n",
    "A = [2,3,4,5]\n",
    "A[:-1]\n",
    "# what does this notation do A[:-1]?"
   ]
  },
  {
   "cell_type": "code",
   "execution_count": null,
   "metadata": {},
   "outputs": [],
   "source": [
    "# solution 2.2 \n",
    "\n",
    "# find max \n",
    "max_RMP = np.amax(RMPs)\n",
    "# loop to find the index of max values\n",
    "for i, val in enumerate(RMPs):\n",
    "    # if the value is equal to found max \n",
    "    if val == max_RMP:\n",
    "        # update index of max value\n",
    "        indx_max = i\n",
    "\n",
    "# removing the max_val\n",
    "# if indx_max is last, then we keep RMPs from 0 to len(RMPs) - 1 - this is done like this RMPs[:-1]\n",
    "if indx_max + 1 == len(RMPs) - 1: # if last\n",
    "    RMPs_no_max = RMPs[:-1]\n",
    "elif indx_max == 0: # if the max value is in position 0\n",
    "    RMPs_no_max = RMPs[1:] # RMPs without first value\n",
    "else: # if max value is somewhere inside the array\n",
    "    RMPs_no_max = np.concat([RMPs[:indx_max], RMPs[indx_max+1:]]) # concatinate RMPs up to the max index and the ones after\n",
    "\n",
    "print(RMPs_no_max)\n",
    "\n",
    "# do the same as before to find the max in RMPs_no_max\n",
    "max_RMP2 = np.amax(RMPs_no_max)\n",
    "for i, val in enumerate(RMPs_no_max):\n",
    "    if val == max_RMP2:\n",
    "        indx_max_2 = i\n",
    "\n",
    "# see whether we need to add 1 to the indx_max_2\n",
    "if indx_max < indx_max_2: # if the max_val is before max_val2, then to index max_val2 in the original array, \n",
    "    # we'd need to add 1 to it, correcting for the RMP_max val that we removed\n",
    "    indx_max_2 = indx_max_2 + 1 \n"
   ]
  },
  {
   "cell_type": "code",
   "execution_count": null,
   "metadata": {},
   "outputs": [],
   "source": [
    "# solutions 3 - sorting \n",
    "\n",
    "RMPs_sorted = sorted(RMPs) # sorts the list from smallest to biggest \n",
    "RMP_max, RMP_max_2 = RMPs_sorted[-1], RMPs_sorted[-2] # take last and for-to-last value\n",
    "\n",
    "for i, resting in enumerate(RMPs):\n",
    "    if resting == RMP_max:\n",
    "        indx_max = i\n",
    "    if resting == RMP_max_2:\n",
    "        indx_max_2 = i"
   ]
  },
  {
   "cell_type": "code",
   "execution_count": null,
   "metadata": {},
   "outputs": [],
   "source": [
    "# alternative and preffered way instead of a for loop\n",
    "# remember those are only exxercises in real life we would like to use functions that already exist\n",
    "# they are faster and there's no need for us to reinvent the wheel\n",
    "\n",
    "RMPs_sorted = sorted(RMPs) # sorts the list from smallest to biggest \n",
    "RMP_max, RMP_max2 = RMPs_sorted[-1], RMPs_sorted[-2]\n",
    "\n",
    "indx_max = np.where(RMPs == RMP_max)[0][0]\n",
    "indx_max_2 = np.where(RMPs == RMP_max2)[0][0]\n",
    "\n",
    "# using or | and two conditions at the same time\n",
    "# indx_max, indx_max_2 = np.where((RMPs == RMP_max) | (RMPs == RMP_max2))[0][0]\n"
   ]
  },
  {
   "cell_type": "code",
   "execution_count": null,
   "metadata": {},
   "outputs": [],
   "source": [
    "indx_max, indx_max_2 = np.where((RMPs == RMP_max) | (RMPs == RMP_max2))[0]"
   ]
  },
  {
   "cell_type": "code",
   "execution_count": null,
   "metadata": {},
   "outputs": [],
   "source": [
    "# very clean solution \n",
    "\n",
    "min_to_max_indices = np.argsort(RMPs)\n",
    "TH1, TH2 = AP_THs[min_to_max_indices[-1]], AP_THs[min_to_max_indices[-2]]"
   ]
  },
  {
   "cell_type": "markdown",
   "metadata": {},
   "source": [
    "What does np.argsort do? Explain in your own words."
   ]
  },
  {
   "cell_type": "markdown",
   "metadata": {},
   "source": [
    "### Solution for 3. \n",
    "\n",
    "Find a list of indices of cells to exclude. QC criteria: \n",
    "    \n",
    "    - Rs < 30 MOhm and\n",
    "    - RMPs > -45 mV"
   ]
  },
  {
   "cell_type": "code",
   "execution_count": 42,
   "metadata": {},
   "outputs": [],
   "source": [
    "# now it's your turn. solve the last remaining problem in the cell below\n",
    "\n"
   ]
  },
  {
   "cell_type": "code",
   "execution_count": null,
   "metadata": {},
   "outputs": [],
   "source": []
  },
  {
   "cell_type": "markdown",
   "metadata": {},
   "source": [
    "## break and continue"
   ]
  },
  {
   "cell_type": "markdown",
   "metadata": {},
   "source": [
    "- break - immediately terminates the loop\n",
    "- continue - skips whatever is after it in the for loop and continues with the next iteration\n",
    "    - mostly used after a conditional statement"
   ]
  },
  {
   "cell_type": "code",
   "execution_count": null,
   "metadata": {},
   "outputs": [],
   "source": [
    "# break statement\n",
    " \n",
    "fruits = ['apple', 'peach', 'tomato', 'grape', 'pear', 'apricot']\n",
    "\n",
    "not_the_best_fruit = []\n",
    "for indx, fruit in enumerate(fruits):\n",
    "    if fruit == 'pear':\n",
    "        print('we have found the tastiest fruit. It is', fruit)\n",
    "        break\n",
    "    \n",
    "    not_the_best_fruit.append(fruit)\n",
    "\n",
    "print('The not so tasty fruit are:', not_the_best_fruit)"
   ]
  },
  {
   "cell_type": "code",
   "execution_count": null,
   "metadata": {},
   "outputs": [],
   "source": [
    "# continue statement        \n",
    "\n",
    "fruits = ['apple', 'peach', 'tomato', 'grape', 'pear', 'apricot']\n",
    "\n",
    "not_the_best_fruit = []\n",
    "for indx, fruit in enumerate(fruits):\n",
    "    if fruit == 'tomato':\n",
    "        print('we have found the tastiest fruit. It is', fruit)\n",
    "        continue\n",
    "    not_the_best_fruit.append(fruit)\n",
    "\n",
    "print('The not so tasty fruit are:', not_the_best_fruit)"
   ]
  },
  {
   "cell_type": "markdown",
   "metadata": {},
   "source": [
    "### Exercise with break and continue statements"
   ]
  },
  {
   "cell_type": "markdown",
   "metadata": {},
   "source": [
    "Given: a dictionary with slice names and the recordings that were performed. Some times recordings were repeated. You would like to keep only the first instances of those recordings and expand the dictionary with the indices of the recordings to keep. Use a continue statement to solve this problem."
   ]
  },
  {
   "cell_type": "code",
   "execution_count": 144,
   "metadata": {},
   "outputs": [],
   "source": [
    "# Given\n",
    "\n",
    "recordings_dictionary = {\n",
    "        'S1': ['vc', 'ramp', 'resting', 'resting', 'connectivity_screen', 'spontan', 'vc_end'],\n",
    "        'S2': ['vc', 'ramp', 'resting', 'connectivity_screen', 'connectivity_screen' ,'spontan', 'vc_end'],\n",
    "        'S3': ['vc', 'ramp', 'resting', 'resting', 'connectivity_screen', 'spontan', 'spontan', 'vc_end'],\n",
    "        'S4': ['vc', 'ramp', 'ramp', 'ramp', 'resting', 'connectivity_screen', 'spontan', 'vc_end']\n",
    "}"
   ]
  },
  {
   "cell_type": "code",
   "execution_count": 1,
   "metadata": {},
   "outputs": [],
   "source": [
    "# solution should look like this\n",
    "\n",
    "recordings_dictionary_solution = {\n",
    "        'S1': [['vc', 'ramp', 'resting', 'connectivity_screen', 'spontan', 'vc_end'], [0,1,2,4,5,6]],\n",
    "        'S2': [['vc', 'ramp', 'resting', 'connectivity_screen', 'spontan', 'vc_end'], [0,1,2,3,5,6]],\n",
    "        'S3': [['vc', 'ramp', 'resting', 'connectivity_screen', 'spontan', 'vc_end'], [0,1,2,4,5,7]],\n",
    "        'S4': [['vc', 'ramp', 'resting', 'connectivity_screen', 'spontan', 'vc_end'], [0,1,4,5,6,7]]\n",
    "}"
   ]
  },
  {
   "cell_type": "code",
   "execution_count": 146,
   "metadata": {},
   "outputs": [],
   "source": [
    "# your solution here\n"
   ]
  },
  {
   "cell_type": "markdown",
   "metadata": {},
   "source": [
    "## Homework"
   ]
  },
  {
   "cell_type": "markdown",
   "metadata": {},
   "source": [
    "Objectives:\n",
    "- Play with python. There will be quite a few new things. We try to recreate a real-life situation, when someone else has given you their code that you need to use.\n",
    "- try to understand someone else's code. Don't worry, we've provided comments\n",
    "- Practice with for loops\n",
    "\n",
    "required packages: matplotlib, json, numpy\n",
    "\n",
    "We will be working with a dictionary containing data from two days. 'D1' and 'D2' are the dictionary keys (look at lesson 1, for a refresher on dictionaries). \n",
    "\n",
    "For each day there are cell characterization traces in response to current injections steps (in pA) -300, -200, -150, -100, -50, 0, 50, 100, 150, 200, 250, 300, stored in the *inj* variable. There are 12 sweeps, meaning also 12 injection steps."
   ]
  },
  {
   "cell_type": "code",
   "execution_count": 5,
   "metadata": {},
   "outputs": [],
   "source": [
    "# importing packages\n",
    "import matplotlib.pyplot as plt\n",
    "import json\n",
    "import numpy as np"
   ]
  },
  {
   "cell_type": "code",
   "execution_count": null,
   "metadata": {},
   "outputs": [],
   "source": [
    "# Run this cell, required so that you are able to load the data. no need to understand them for now\n",
    "\n",
    "# Custom JSON decoder to handle lists and convert them back to NumPy arrays\n",
    "def json_numpy_obj_hook(dct):\n",
    "    '''\n",
    "    Decodes a JSON object and converts lists back to NumPy arrays.\n",
    "\n",
    "    Args:\n",
    "        dct (dict): The JSON object.\n",
    "\n",
    "    Returns:\n",
    "        dict: The decoded JSON object with lists converted to NumPy arrays.\n",
    "    '''\n",
    "    for key, value in dct.items():\n",
    "        if isinstance(value, list):\n",
    "            try:\n",
    "                dct[key] = np.array(value)\n",
    "            except ValueError:\n",
    "                pass\n",
    "    return dct\n",
    "\n",
    "# Function to read a JSON file and convert lists back to NumPy arrays\n",
    "def read_dict_from_text_file(file_path: str):\n",
    "    '''\n",
    "    Reads a JSON file and converts lists back to NumPy arrays.\n",
    "\n",
    "    Args:\n",
    "        file_path (str): The path to the input JSON file.\n",
    "\n",
    "    Returns:\n",
    "        dict: The dictionary with lists converted to NumPy arrays.\n",
    "    '''\n",
    "    with open(file_path, 'r') as file:\n",
    "        dictionary = json.load(file, object_hook=json_numpy_obj_hook)\n",
    "    return dictionary"
   ]
  },
  {
   "cell_type": "markdown",
   "metadata": {},
   "source": [
    "Loading the characterization dictionary. They keys of the dictionary are 'D1' and 'D2'. Try to access the data from the dictionary.\n",
    "Do you have any idea what it is?"
   ]
  },
  {
   "cell_type": "code",
   "execution_count": 7,
   "metadata": {},
   "outputs": [],
   "source": [
    "# change the file path to where your charact_dict is located\n",
    "\n",
    "file_path = '/Users/verjim/laptop_D_17.01.2022/Schmitz_lab/code/schmitzlab_python/charact_data.json'\n",
    "# load your characterization dictionary\n",
    "charact_dict = read_dict_from_text_file(file_path)\n",
    "\n",
    "inj = [-300, -200, -150, -100, -50, 0, 50, 100, 150, 200, 250, 300]"
   ]
  },
  {
   "cell_type": "code",
   "execution_count": 8,
   "metadata": {},
   "outputs": [],
   "source": [
    "# play field"
   ]
  },
  {
   "cell_type": "markdown",
   "metadata": {},
   "source": [
    "Let's try to inspect the data.\n",
    "\n",
    "What type is it?\n",
    "\n",
    "How is it structured?\n",
    "\n",
    "What do the rows and the columns correspond to?"
   ]
  },
  {
   "cell_type": "code",
   "execution_count": null,
   "metadata": {},
   "outputs": [],
   "source": [
    "# what is the type of the data\n",
    "type(charact_dict)"
   ]
  },
  {
   "cell_type": "code",
   "execution_count": null,
   "metadata": {},
   "outputs": [],
   "source": [
    "# how to access the data and what is its shape\n",
    "# separate by days\n",
    "data_day1 = charact_dict['D1']\n",
    "data_day2 = charact_dict['D1']\n",
    "\n",
    "# type of date inside the dictionary\n",
    "print(type(data_day1))\n",
    "\n",
    "# what's the shape of the data?\n",
    "# the output gives (number of rows, number of columns)\n",
    "# the number of rows corresponds to the number of sweeps and the columns are the number of datapoints\n",
    "print(np.shape(data_day1))"
   ]
  },
  {
   "cell_type": "markdown",
   "metadata": {},
   "source": [
    "Now that we have some more information, in your own words, try to explain the data structure. \n",
    "- What is charact_dict?\n",
    "- What type of data does it contain?\n",
    "- How is the data structured?"
   ]
  },
  {
   "cell_type": "markdown",
   "metadata": {},
   "source": [
    "##### Let's visualize it. \n",
    "\n",
    "No need to understand the code for plotting. You just have to understand how to apply functions. Again material from lecture 1."
   ]
  },
  {
   "cell_type": "code",
   "execution_count": 12,
   "metadata": {},
   "outputs": [],
   "source": [
    "# plotting the all the sweeps. No need to understand this function\n",
    "\n",
    "def plot_all_sweeps(charact_dict):\n",
    "    '''\n",
    "    Plots all sweeps for two recordings (D1 and D2) from a given characteristic dictionary.\n",
    "    Arguments:\n",
    "    charact_dict (dict): A dictionary containing two keys 'D1' and 'D2', each associated with a 2D numpy array.\n",
    "                         The arrays should have sweeps as rows and data points as columns.\n",
    "    The function creates a figure with two subplots:\n",
    "    - left subplot shows the sweeps for 'D1', right subplot shows the sweeps for 'D2'\n",
    "    '''\n",
    "    \n",
    "    sampling_rate = 20 # in kHz\n",
    "    all_swps = np.shape(charact_dict['D1'])[0]\n",
    "    swp_len_ms = np.shape(charact_dict['D1'])[1] / sampling_rate\n",
    "    x = np.linspace(0, swp_len_ms, len(charact_dict['D1'][0,:]))\n",
    "    fig, ax = plt.subplots(1, 2, figsize = (12,5))\n",
    "\n",
    "    for i in range(all_swps):\n",
    "        ax[0].plot(x, charact_dict['D1'][i,:], color = plt.cm.Oranges(np.linspace(1, 0.25, all_swps))[i])\n",
    "        ax[1].plot(x, charact_dict['D2'][i,:], color = plt.cm.Greens(np.linspace(1, 0.25, all_swps))[i])\n",
    "\n",
    "    ax[0].set_title('Recording D1')\n",
    "    ax[0].set_xlabel('ms')\n",
    "    ax[0].set_ylabel('mV')\n",
    "\n",
    "    ax[1].set_title('Recording D2')\n",
    "    ax[1].set_xlabel('ms')\n",
    "    ax[1].set_ylabel('mV')\n",
    "    plt.show()"
   ]
  },
  {
   "cell_type": "code",
   "execution_count": null,
   "metadata": {},
   "outputs": [],
   "source": [
    "plot_all_sweeps(charact_dict)"
   ]
  },
  {
   "cell_type": "markdown",
   "metadata": {},
   "source": [
    "##### some more plotting and a reminder about functions and doc strings\n",
    "\n",
    "Below we've provided a function that plots a specific sweep number from D1 and D2\n",
    "\n",
    "- What are the functions' parameters?\n",
    "- which one is predefined?\n",
    "\n",
    "Below apply the function to plot different sweeps. \n",
    "Read the docstring. \n",
    "- How can you break this function?\n",
    "- what type of error did you receive?"
   ]
  },
  {
   "cell_type": "code",
   "execution_count": 19,
   "metadata": {},
   "outputs": [],
   "source": [
    "def plot_specific_swp_num(charact_dict, swp_num1, swp_num2,\n",
    "                           inj = [-300, -200, -150, -100, -50, 0, 50, 100, 150, 200, 250, 300]):\n",
    "    '''\n",
    "    Plots a sweep from day 1 and day 2.\n",
    "\n",
    "    Arguments:\n",
    "    charact_dict (dict): Dictionary with cell characterization data from 2 days.\n",
    "                         Should contain keys 'D1' and 'D2' with corresponding data.\n",
    "    swp_num1 (int): Sweep number, ranging from 0 to 11, from day 1 to plot\n",
    "    swp_num2 (int): Sweep number, ranging from 0 to 11, from day 2 to plot.\n",
    "    inj (list, optional): List of current steps in pA. Default is \n",
    "                          [-300, -200, -150, -100, -50, 0, 50, 100, 150, 200, 250, 300].\n",
    "\n",
    "    Returns:\n",
    "    None\n",
    "    '''\n",
    "\n",
    "    if not isinstance(swp_num1, int) or not isinstance(swp_num2, int) or \\\n",
    "        not isinstance(charact_dict, dict):\n",
    "        return 'Not possible. Are you trying to break me?'\n",
    "\n",
    "    if swp_num1 > 11 or swp_num2 > 11:\n",
    "        return 'Not possible. Only 12 sweep available'\n",
    "    \n",
    "    sampling_rate = 20 # in kHz\n",
    "    all_swps = np.shape(charact_dict['D1'])[0]\n",
    "    swp_len_ms = np.shape(charact_dict['D1'])[1] / sampling_rate\n",
    "    x = np.linspace(0, swp_len_ms, len(charact_dict['D1'][0,:]))\n",
    "    fig, ax = plt.subplots(1, 2, sharey = True, figsize = (12,5))\n",
    "\n",
    "    ax[0].plot(x, charact_dict['D1'][swp_num1,:], color = plt.cm.Oranges(np.linspace(1, 0.25, all_swps))[swp_num1])\n",
    "    ax[1].plot(x, charact_dict['D2'][swp_num2,:], color = plt.cm.Greens(np.linspace(1, 0.25, all_swps))[swp_num2])\n",
    "\n",
    "    ax[0].set_title('Sweep number '+ str(swp_num1) +' from D1\\n'\\\n",
    "                    'current step of ' + str(inj[swp_num1]) + ' pA')\n",
    "    ax[0].set_xlabel('ms')\n",
    "    ax[0].set_ylabel('mV')\n",
    "\n",
    "    ax[1].set_title('Sweep number '+ str(swp_num2) +' from D2\\n'\\\n",
    "                    'current step of ' + str(inj[swp_num2]) + ' pA')\n",
    "    ax[1].set_xlabel('ms')\n",
    "    ax[1].set_ylabel('mV')\n",
    "    ax[1].yaxis.set_tick_params(labelleft=True)\n",
    "\n",
    "    plt.show()"
   ]
  },
  {
   "cell_type": "code",
   "execution_count": null,
   "metadata": {},
   "outputs": [],
   "source": [
    "# try out the function with different sweeps\n",
    "\n",
    "plot_specific_swp_num(charact_dict, 3, 6)"
   ]
  },
  {
   "cell_type": "code",
   "execution_count": 14,
   "metadata": {},
   "outputs": [],
   "source": [
    "# try to break the function without changing it"
   ]
  },
  {
   "cell_type": "code",
   "execution_count": 24,
   "metadata": {},
   "outputs": [],
   "source": [
    "# take a look at the function. Do you have an idea what you could change in the first 10 lines so that it is breakable?"
   ]
  },
  {
   "cell_type": "markdown",
   "metadata": {},
   "source": [
    "Apply the function to plot the first sweep, with injection -300 pA. Plot the last sweeps for both days."
   ]
  },
  {
   "cell_type": "code",
   "execution_count": null,
   "metadata": {},
   "outputs": [],
   "source": [
    "# your code here "
   ]
  },
  {
   "cell_type": "markdown",
   "metadata": {},
   "source": [
    "### Play with the data"
   ]
  },
  {
   "cell_type": "markdown",
   "metadata": {},
   "source": [
    "Find the membrane potentials for both day's, when the injected current is 0. \n",
    "\n",
    "First, we need to find when the injection is 0. Then 'isolate' this sweep from the data, then calcualte the mean or the median of that sweep."
   ]
  },
  {
   "cell_type": "code",
   "execution_count": 26,
   "metadata": {},
   "outputs": [],
   "source": [
    "# find the index when the injected current is 0. Use a for loop and a break statement\n",
    "inj = [-300, -200, -150, -100, -50, 0, 50, 100, 150, 200, 250, 300]\n",
    "\n"
   ]
  },
  {
   "cell_type": "code",
   "execution_count": null,
   "metadata": {},
   "outputs": [],
   "source": [
    "# This is how you access the data for sweep 10\n",
    "# first give the key for the day you are inteerested in\n",
    "# then index the sweep number (from 0 to 11), which you want to 'isolate'\n",
    "# this is called indexing\n",
    "# you are telling the computer give me the data from row 10, over all columns (:)\n",
    "# : - means all. translates to from 0 to len-1\n",
    "# if you index [10, 300:4000], they you are plotting sweep 10 from datapo\n",
    "\n",
    "data_D1_sweep_10 = charact_dict['D1'][10, :]"
   ]
  },
  {
   "cell_type": "code",
   "execution_count": null,
   "metadata": {},
   "outputs": [],
   "source": [
    "# easiest way to visualize\n",
    "plt.plot(charact_dict['D1'][10, 300:14000])\n",
    "plt.show()\n",
    "\n",
    "# what is plotted below\n",
    "# can you plot sweep 3, from datapint 4000 to 23000\n"
   ]
  },
  {
   "cell_type": "code",
   "execution_count": null,
   "metadata": {},
   "outputs": [],
   "source": [
    "# take the data from sweep where the injected current is 0 \n",
    "\n",
    "data_D1_0_current = \n",
    "data_D2_0_current = \n",
    "\n",
    "resting_D1 = np.mean(data_D1_0_current)\n",
    "resting_D2 = np.mean(data_D2_0_current)\n",
    "\n",
    "# using the median\n",
    "resting_D1 = np.median(data_D1_0_current)\n",
    "resting_D2 = np.median(data_D2_0_current)"
   ]
  },
  {
   "cell_type": "markdown",
   "metadata": {},
   "source": [
    "#### Find the first spiking sweep"
   ]
  },
  {
   "cell_type": "markdown",
   "metadata": {},
   "source": [
    "Think about what do you need to loop over to find the first spiking sweep. What condition would you put, to call a sweep spiking? Plot the traces and observe the signal."
   ]
  },
  {
   "cell_type": "code",
   "execution_count": null,
   "metadata": {},
   "outputs": [],
   "source": [
    "# your code here\n",
    "\n",
    "for i, sweeep in ...:\n",
    "    # code\n",
    "    if ..."
   ]
  },
  {
   "cell_type": "code",
   "execution_count": null,
   "metadata": {},
   "outputs": [],
   "source": []
  },
  {
   "cell_type": "markdown",
   "metadata": {},
   "source": [
    "#### Think about errors\n",
    "\n",
    "You've reached the end. Congratulations!\n",
    "\n",
    "What were some errors that you encountered while completing the homework? How did you deal with them?"
   ]
  }
 ],
 "metadata": {
  "kernelspec": {
   "display_name": ".venv",
   "language": "python",
   "name": "python3"
  },
  "language_info": {
   "codemirror_mode": {
    "name": "ipython",
    "version": 3
   },
   "file_extension": ".py",
   "mimetype": "text/x-python",
   "name": "python",
   "nbconvert_exporter": "python",
   "pygments_lexer": "ipython3",
   "version": "3.10.12"
  }
 },
 "nbformat": 4,
 "nbformat_minor": 2
}
