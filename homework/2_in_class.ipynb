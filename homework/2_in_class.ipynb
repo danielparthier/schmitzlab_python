{
 "cells": [
  {
   "cell_type": "markdown",
   "metadata": {},
   "source": [
    "# In class and HW - 2"
   ]
  },
  {
   "cell_type": "code",
   "execution_count": 58,
   "metadata": {},
   "outputs": [],
   "source": [
    "import timeit"
   ]
  },
  {
   "cell_type": "markdown",
   "metadata": {},
   "source": [
    "### Local vs Global variables"
   ]
  },
  {
   "cell_type": "code",
   "execution_count": 1,
   "metadata": {},
   "outputs": [
    {
     "name": "stdout",
     "output_type": "stream",
     "text": [
      "Inside Function: I love Python\n"
     ]
    }
   ],
   "source": [
    "def func1():\n",
    "    # local variable\n",
    "    s = \"I love Python\"\n",
    "    print(\"Inside Function:\", s)\n",
    "\n",
    "func1()\n",
    "# print(s) #nothing"
   ]
  },
  {
   "cell_type": "code",
   "execution_count": 3,
   "metadata": {},
   "outputs": [
    {
     "name": "stdout",
     "output_type": "stream",
     "text": [
      "Outside Function great\n"
     ]
    }
   ],
   "source": [
    "# Global scope\n",
    "def func2():\n",
    "    # not defining s in this function\n",
    "    print(\"Inside Function:\", s)\n",
    "\n",
    "s = \"great\"\n",
    "print(\"Outside Function\", s)\n",
    "# func2() # error? no because s is a global variable"
   ]
  },
  {
   "cell_type": "code",
   "execution_count": 4,
   "metadata": {},
   "outputs": [
    {
     "name": "stdout",
     "output_type": "stream",
     "text": [
      "Inside Function: great\n"
     ]
    }
   ],
   "source": [
    "func2()"
   ]
  },
  {
   "cell_type": "code",
   "execution_count": 6,
   "metadata": {},
   "outputs": [
    {
     "name": "stdout",
     "output_type": "stream",
     "text": [
      "Me too.\n",
      "I love variables\n"
     ]
    }
   ],
   "source": [
    "# mixing them up\n",
    "\n",
    "def func3():\n",
    "    s = \"Me too.\"\n",
    "    print(s)\n",
    "\n",
    "# Global scope\n",
    "s = \"I love variables\"\n",
    "func3()\n",
    "print(s)"
   ]
  },
  {
   "cell_type": "code",
   "execution_count": 7,
   "metadata": {},
   "outputs": [
    {
     "name": "stdout",
     "output_type": "stream",
     "text": [
      "Inside Function [1, 2, 5, 3]\n"
     ]
    }
   ],
   "source": [
    "# you can modify global variables in functions\n",
    "# Global scope\n",
    "S = [1, 2, 5]\n",
    "\n",
    "def fail():\n",
    "    s.append(3)\n",
    "    print(\"Inside Function\", s)\n",
    "\n",
    "fail()\n",
    "\n",
    "print(S)\n",
    "# solution?"
   ]
  },
  {
   "cell_type": "markdown",
   "metadata": {},
   "source": [
    "## for loops\n",
    "\n",
    "Used to perform a repeated procedure on every iteration"
   ]
  },
  {
   "cell_type": "code",
   "execution_count": 8,
   "metadata": {},
   "outputs": [
    {
     "name": "stdout",
     "output_type": "stream",
     "text": [
      "12\n",
      "11\n",
      "34\n",
      "25\n",
      "12\n"
     ]
    }
   ],
   "source": [
    "# numpy arrays are iterable\n",
    "import numpy as np\n",
    "\n",
    "V = np.random.randint(10, 40, 5)\n",
    "\n",
    "for val in V:\n",
    "    print(val)"
   ]
  },
  {
   "cell_type": "code",
   "execution_count": 9,
   "metadata": {},
   "outputs": [
    {
     "name": "stdout",
     "output_type": "stream",
     "text": [
      "H\n",
      "A\n",
      "L\n",
      "L\n",
      "O\n",
      "!\n"
     ]
    }
   ],
   "source": [
    "# Strings are iterable\n",
    "file_path = 'HALLO!'\n",
    "\n",
    "for char in file_path:\n",
    "    print(char)"
   ]
  },
  {
   "cell_type": "code",
   "execution_count": 14,
   "metadata": {},
   "outputs": [
    {
     "name": "stdout",
     "output_type": "stream",
     "text": [
      "adding 2 to 0\n",
      "adding 3 to 2\n",
      "adding 4 to 5\n",
      "adding 5 to 9\n",
      "adding 7 to 14\n",
      "adding 45 to 21\n"
     ]
    }
   ],
   "source": [
    "# lists (and tuples) are iterable \n",
    "list_to_sum = [2,3,4,5,7,45]\n",
    "# write a for loop that sums the numbers in the list\n",
    "\n",
    "num_sum = 0\n",
    "for num in list_to_sum:\n",
    "#   num_sum = num_sum + num \n",
    "    print('adding', num, 'to', num_sum)\n",
    "    num_sum += num\n",
    "    # num_sum = num_sum + num\n",
    "    #print(num_sum)"
   ]
  },
  {
   "cell_type": "code",
   "execution_count": 11,
   "metadata": {},
   "outputs": [
    {
     "name": "stdout",
     "output_type": "stream",
     "text": [
      "66\n"
     ]
    }
   ],
   "source": [
    "print(num_sum)"
   ]
  },
  {
   "cell_type": "markdown",
   "metadata": {},
   "source": [
    "### In-class Exercise 1\n",
    "\n",
    "Given: \n",
    "A = [3, 4, 5, 9, 12, 87, -65, 300, 450, -32]\n",
    "\n",
    "Use *for loops* to:\n",
    "1. Add 3 to each element of the list\n",
    "2. Calculate the average of the list, but negative values are calcualted as 0s\n",
    "3. Find the maximum value\n",
    "4. Find the index (position) of the max value"
   ]
  },
  {
   "cell_type": "code",
   "execution_count": 15,
   "metadata": {},
   "outputs": [],
   "source": [
    "A = [3, 4, 5, 9, 12, 87, -65, 300, 450, -32]\n",
    "\n",
    "# your solutions here"
   ]
  },
  {
   "cell_type": "code",
   "execution_count": 2,
   "metadata": {},
   "outputs": [],
   "source": [
    "# calcualte the average but if an element is negative --> make this element 0\n"
   ]
  },
  {
   "cell_type": "code",
   "execution_count": 20,
   "metadata": {},
   "outputs": [
    {
     "name": "stdout",
     "output_type": "stream",
     "text": [
      "checking for  3\n",
      "last big value 3\n",
      "not replacing the big value\n",
      "checking for  -65\n",
      "last big value 3\n",
      "not replacing the big value\n",
      "checking for  87\n",
      "last big value 3\n",
      "true big value 87\n",
      "87\n"
     ]
    }
   ],
   "source": [
    "# find the maximum value\n",
    "\n",
    "A = [3, -65, 87]\n",
    "\n",
    "# count = -1\n",
    "big_value = A[0]\n",
    "\n",
    "for GG in A:\n",
    "    print('checking for ', GG)\n",
    "    print('last big value', big_value)\n",
    "    # count += 1\n",
    "    if GG > big_value:\n",
    "        big_value = GG\n",
    "        print('true big value', big_value)\n",
    "    else:\n",
    "        print('not replacing the big value')\n",
    "    # indx_max = count  \n",
    "\n",
    "print(big_value)\n",
    "\n",
    "print(GG)"
   ]
  },
  {
   "cell_type": "code",
   "execution_count": 23,
   "metadata": {},
   "outputs": [
    {
     "name": "stdout",
     "output_type": "stream",
     "text": [
      "3\n",
      "-65\n",
      "87\n",
      "67\n"
     ]
    }
   ],
   "source": [
    "A = [3, -65, 87, 67]\n",
    "max_value = A[0]\n",
    "\n",
    "max_value = A[0]\n",
    "for Verji in A:\n",
    "    \n",
    "\n",
    "\n",
    "\n",
    "Verji = A[0]\n",
    "if Verji > max_value:\n",
    "    max_value = Verji\n",
    "\n",
    "Verji = A[1]\n",
    "\n",
    "if Verji > max_value:\n",
    "    max_value = Verji\n",
    "else:\n",
    "    max_value = max_value\n",
    "\n",
    "Verji = A[2]\n",
    "if Verji > max_value:\n",
    "    max_value = Verji\n",
    "\n",
    "Verji = A[3]\n",
    "if Verji > max_value:\n",
    "    max_value = Verji\n",
    "\n"
   ]
  },
  {
   "cell_type": "code",
   "execution_count": 38,
   "metadata": {},
   "outputs": [
    {
     "name": "stdout",
     "output_type": "stream",
     "text": [
      "counting 0\n",
      "counting 1\n",
      "counting 2\n",
      "counting 3\n",
      "count_max 2\n"
     ]
    }
   ],
   "source": [
    "# position of max value\n",
    "\n",
    "A = [3, 4, 5, 3]\n",
    "\n",
    "count = 0\n",
    "big_value = A[count]\n",
    "indx_max = count\n",
    "\n",
    "for GG in A:\n",
    "    count = count + 1\n",
    "    print('counting', count)\n",
    "    # print('checking for ', GG)\n",
    "    # print('last big value', big_value)\n",
    "    if GG > big_value:\n",
    "        big_value = GG\n",
    "        indx_max = count\n",
    "        #print('true big value', big_value)\n",
    "        \n",
    "\n",
    "\n",
    "print('count_max', indx_max)"
   ]
  },
  {
   "cell_type": "markdown",
   "metadata": {},
   "source": [
    "Sometimes for loops are not needed! Can you come up with a solution for the last point where you are not using a for loop?"
   ]
  },
  {
   "cell_type": "code",
   "execution_count": 26,
   "metadata": {},
   "outputs": [
    {
     "name": "stdout",
     "output_type": "stream",
     "text": [
      "2\n"
     ]
    }
   ],
   "source": [
    "# with a built-in functions\n",
    "\n",
    "maxA = max(A)\n",
    "\n",
    "print(A.index(maxA))"
   ]
  },
  {
   "cell_type": "markdown",
   "metadata": {},
   "source": [
    "### Index-based for loops\n",
    "\n",
    "#### range()"
   ]
  },
  {
   "cell_type": "code",
   "execution_count": null,
   "metadata": {},
   "outputs": [],
   "source": [
    "B = [1, 4, 6, 7, 89, 54]\n",
    "big_indx = 0\n",
    "\n",
    "for i in range(len(B)):\n",
    "    if B[i] > B[big_indx]:\n",
    "        big_indx = i\n",
    "\n",
    "print('The max value in B is', B[big_indx], 'found on position' , big_indx)"
   ]
  },
  {
   "cell_type": "code",
   "execution_count": null,
   "metadata": {},
   "outputs": [],
   "source": [
    "# percentage of time spent in center\n",
    "\n",
    "double_measurements = [30, 40, 50, 48, 23, 19, 60, 54, 39, 27] # 5 animals\n",
    "\n",
    "for indx in range(0, len(double_measurements), 2):\n",
    "    print(double_measurements[indx])"
   ]
  },
  {
   "cell_type": "markdown",
   "metadata": {},
   "source": [
    "#### enumerate()"
   ]
  },
  {
   "cell_type": "code",
   "execution_count": null,
   "metadata": {},
   "outputs": [],
   "source": [
    "import numpy as np\n",
    "\n",
    "array_a = np.arange(20, 25)\n",
    "for indx, val in enumerate(array_a):\n",
    "    print('the index is', indx)\n",
    "    print('the value is ', val)"
   ]
  },
  {
   "cell_type": "code",
   "execution_count": null,
   "metadata": {},
   "outputs": [],
   "source": [
    "fruits = ['apple', 'peach', 'tomato', 'grape']\n",
    "\n",
    "for indx, fruit in enumerate(fruits):\n",
    "    print(indx)\n",
    "    print(fruit)"
   ]
  },
  {
   "cell_type": "code",
   "execution_count": null,
   "metadata": {},
   "outputs": [],
   "source": [
    "print(type(range(20)))\n",
    "\n",
    "print(type(enumerate(fruits)))"
   ]
  },
  {
   "cell_type": "markdown",
   "metadata": {},
   "source": [
    "### In-class exercise 2\n",
    "\n",
    "Given:\n",
    "4 measurements of intrinsic properties of 12 cells <br>\n",
    "4 numpy arrays Rin (input resistance), Rs (series resistance), RMPs (resting membrane potential), AP_THs (action potential threshold)\n",
    "\n",
    "Find:\n",
    "1. The input resistance of the cell with the lowest series resistance\n",
    "2. The AP thresholds of the 2 cell with highest RMPs\n",
    "3. A list of indices of cells to exclude. QC criteria: \n",
    "    - Rs < 30 MOhm\n",
    "    - RMPs > -45 mV\n"
   ]
  },
  {
   "cell_type": "code",
   "execution_count": 84,
   "metadata": {},
   "outputs": [],
   "source": [
    "Rin = np.array([26.38, 67.84, 63.05, 58.88, 57.51, 57.88, 43.68, 64.03, 139.82, 60.39, 62.13, 63.04])\n",
    "Rs = np.array([19.61, 28.40, 13.71, 16.26, 9.78, 10.51, 12.41, 8.94, 12.29, 11.92, 15.66, 16.32])\n",
    "RMPs = np.array([-68.93, -72.71, -55.55, -58.70, -44.18, -75.16, -43.82, -80.47, -63.30, -39.27, -46.08, -32.97])\n",
    "AP_THs = np.array([-47.45, -28.71, -36.14, -44.54, -38.67, -41.49, -41.99, -43.81, -44.21, -46.93, -42.58, -27.12])"
   ]
  },
  {
   "cell_type": "code",
   "execution_count": null,
   "metadata": {},
   "outputs": [],
   "source": [
    "# solution 1.\n"
   ]
  },
  {
   "cell_type": "code",
   "execution_count": null,
   "metadata": {},
   "outputs": [],
   "source": [
    "# solution 2\n"
   ]
  },
  {
   "cell_type": "code",
   "execution_count": null,
   "metadata": {},
   "outputs": [],
   "source": [
    "# solution 3\n",
    "\n",
    "\n"
   ]
  },
  {
   "cell_type": "markdown",
   "metadata": {},
   "source": [
    "## break and continue"
   ]
  },
  {
   "cell_type": "markdown",
   "metadata": {},
   "source": [
    "- break - immediately terminates the loop\n",
    "- continue - skips whatever is after it and continues with the next iteration\n",
    "    - mostly used after a conditional statement"
   ]
  },
  {
   "cell_type": "code",
   "execution_count": null,
   "metadata": {},
   "outputs": [],
   "source": [
    "# breat statement\n",
    " \n",
    "fruits = ['apple', 'peach', 'tomato', 'grape', 'pear', 'apricot']\n",
    "\n",
    "not_the_best_fruit = []\n",
    "for indx, fruit in enumerate(fruits):\n",
    "    if fruit == 'pear':\n",
    "        print('we have found the tastiest fruit. It is', fruit)\n",
    "        break\n",
    "    \n",
    "    not_the_best_fruit.append(fruit)\n",
    "\n",
    "print('The not so tasty fruit are:', not_the_best_fruit)"
   ]
  },
  {
   "cell_type": "code",
   "execution_count": null,
   "metadata": {},
   "outputs": [],
   "source": [
    "# continue statement\n",
    "\n",
    "fruits = ['apple', 'peach', 'tomato', 'grape', 'pear', 'apricot']\n",
    "\n",
    "not_the_best_fruit = []\n",
    "for indx, fruit in enumerate(fruits):\n",
    "    if fruit == 'pear':\n",
    "        print('we have found the tastiest fruit. It is', fruit)\n",
    "        continue\n",
    "    \n",
    "    not_the_best_fruit.append(fruit)\n",
    "\n",
    "print('The not so tasty fruit are:', not_the_best_fruit)"
   ]
  },
  {
   "cell_type": "markdown",
   "metadata": {},
   "source": [
    "### Exercise with break and continue statements"
   ]
  },
  {
   "cell_type": "markdown",
   "metadata": {},
   "source": [
    "Given: a dictionary with slice names and the recordings that were performed. Some times recordings were repeated. You would like to keep only the first instances of those recordings and expand the dictionary with the indices of the recordings to keep."
   ]
  },
  {
   "cell_type": "code",
   "execution_count": 144,
   "metadata": {},
   "outputs": [],
   "source": [
    "# Given\n",
    "\n",
    "recordings_dictionary = {\n",
    "        'S1': ['vc', 'ramp', 'resting', 'resting', 'connectivity_screen', 'spontan', 'vc_end'],\n",
    "        'S2': ['vc', 'ramp', 'resting', 'connectivity_screen', 'connectivity_screen' ,'spontan', 'vc_end'],\n",
    "        'S3': ['vc', 'ramp', 'resting', 'resting', 'connectivity_screen', 'spontan', 'spontan', 'vc_end'],\n",
    "        'S4': ['vc', 'ramp', 'ramp', 'ramp', 'resting', 'connectivity_screen', 'spontan', 'vc_end']\n",
    "}"
   ]
  },
  {
   "cell_type": "code",
   "execution_count": 1,
   "metadata": {},
   "outputs": [],
   "source": [
    "# solution should look like this"
   ]
  },
  {
   "cell_type": "code",
   "execution_count": 146,
   "metadata": {},
   "outputs": [],
   "source": [
    "# your solution here\n"
   ]
  }
 ],
 "metadata": {
  "kernelspec": {
   "display_name": ".lab_python",
   "language": "python",
   "name": "python3"
  },
  "language_info": {
   "codemirror_mode": {
    "name": "ipython",
    "version": 3
   },
   "file_extension": ".py",
   "mimetype": "text/x-python",
   "name": "python",
   "nbconvert_exporter": "python",
   "pygments_lexer": "ipython3",
   "version": "3.12.7"
  }
 },
 "nbformat": 4,
 "nbformat_minor": 2
}
