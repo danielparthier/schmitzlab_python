{
 "cells": [
  {
   "cell_type": "markdown",
   "metadata": {},
   "source": [
    "# In class - 7"
   ]
  },
  {
   "cell_type": "code",
   "execution_count": null,
   "metadata": {},
   "outputs": [],
   "source": [
    "import numpy as np\n",
    "from scipy import signal\n",
    "import matplotlib.pyplot as plt\n",
    "import json"
   ]
  },
  {
   "cell_type": "markdown",
   "metadata": {},
   "source": [
    "## Making a class for events\n",
    "Today we will focus on making a specialised class to detect action potentials and allow us some plotting and analysis. These classes could be extended in their functionality depending on your requirements."
   ]
  },
  {
   "cell_type": "markdown",
   "metadata": {},
   "source": [
    "### Load json file with characterisation\n",
    "The file we will use is the same experiment you used before. The data can be loaded as dictionary from the json file. With this code snipped we also convert the traces which are originally a list to a numpy array."
   ]
  },
  {
   "cell_type": "code",
   "execution_count": null,
   "metadata": {},
   "outputs": [],
   "source": [
    "# check that you have the right path to the data\n",
    "with open('/home/daniel/Work/Teaching/schmitzlab_python/data/charact_data.json') as f:\n",
    "    data = json.load(f)\n",
    "data = {key: np.array(data[key]) for key in data.keys()}\n",
    "# get the time vector\n",
    "time = np.arange(len(data['D1'][0])) / 20000\n",
    "plt.plot(time, data['D1'][10])\n",
    "plt.title('Plot of D1 Data')\n",
    "plt.xlabel('Time (s)')\n",
    "plt.ylabel('Amplitude (mV)')\n",
    "plt.show()"
   ]
  },
  {
   "cell_type": "markdown",
   "metadata": {},
   "source": [
    "Another piece of information we might be interested is the injected current (today optional)."
   ]
  },
  {
   "cell_type": "code",
   "execution_count": null,
   "metadata": {},
   "outputs": [],
   "source": [
    "current_inj = [-300, -200, -150, -100, -50, 0, 50, 100, 150, 200, 250, 300]"
   ]
  },
  {
   "cell_type": "markdown",
   "metadata": {},
   "source": [
    "Let's take a look at what the `find_peaks` function does."
   ]
  },
  {
   "cell_type": "code",
   "execution_count": null,
   "metadata": {},
   "outputs": [],
   "source": [
    "peaks_location, peak_properties = signal.find_peaks(data['D1'][10], height=0)\n",
    "peaks_location, peak_properties"
   ]
  },
  {
   "cell_type": "markdown",
   "metadata": {},
   "source": [
    "Make a new class which takes the sweep and sampling rate to be initiated but then extracts the action potentials into an array with dimenstions (AP count, 80). This array should be filled with action potentials from the sweep. We also want the difference of the action potentials in time to make a polar plot. "
   ]
  },
  {
   "cell_type": "code",
   "execution_count": null,
   "metadata": {},
   "outputs": [],
   "source": [
    "class APs:\n",
    "    def __init__(self, sweep, sampling_rate=20000):\n",
    "        self.sweep = sweep\n",
    "        self.sampling_rate = sampling_rate\n",
    "        self.time = np.arange(len(sweep)) / sampling_rate\n",
    "\n",
    "    def find_peaks(self):\n",
    "\n",
    "    def plot(self):\n",
    "\n",
    "    def plot_polar(self):\n",
    "ap_from_sweep = APs(data['D1'][10])\n",
    "ap_from_sweep.plot()"
   ]
  },
  {
   "cell_type": "markdown",
   "metadata": {},
   "source": [
    "Now use your class in a loop to add append `action_potentials`.\n",
    "Then plot the polar plot of the sweep with the most action potentials."
   ]
  },
  {
   "cell_type": "code",
   "execution_count": null,
   "metadata": {},
   "outputs": [],
   "source": [
    "action_potentials = []\n",
    "\n"
   ]
  },
  {
   "cell_type": "markdown",
   "metadata": {},
   "source": [
    "Bonus:\n",
    "Can you imagine to make a new class for the whole current injection? What could be used and how would you add the extracted action potentials to your new class."
   ]
  },
  {
   "cell_type": "code",
   "execution_count": null,
   "metadata": {},
   "outputs": [],
   "source": []
  }
 ],
 "metadata": {
  "kernelspec": {
   "display_name": ".venv",
   "language": "python",
   "name": "python3"
  },
  "language_info": {
   "codemirror_mode": {
    "name": "ipython",
    "version": 3
   },
   "file_extension": ".py",
   "mimetype": "text/x-python",
   "name": "python",
   "nbconvert_exporter": "python",
   "pygments_lexer": "ipython3",
   "version": "3.10.12"
  }
 },
 "nbformat": 4,
 "nbformat_minor": 2
}
