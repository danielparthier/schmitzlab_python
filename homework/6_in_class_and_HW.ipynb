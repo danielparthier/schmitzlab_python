{
 "cells": [
  {
   "cell_type": "markdown",
   "metadata": {},
   "source": [
    "# In class and HW - 6\n",
    "\n",
    "Goals: Be able to confidently produce simple plots with Matplotlib. Explore plotting options."
   ]
  },
  {
   "cell_type": "markdown",
   "metadata": {},
   "source": [
    "### In class examples"
   ]
  },
  {
   "cell_type": "code",
   "execution_count": 1,
   "metadata": {},
   "outputs": [],
   "source": [
    "import json\n",
    "import numpy as np\n",
    "import matplotlib.pyplot as plt\n",
    "import os"
   ]
  },
  {
   "cell_type": "code",
   "execution_count": null,
   "metadata": {},
   "outputs": [],
   "source": [
    "# implicid plotting\n",
    "data1 = [1, 2, 3, 45, 6, 6]\n",
    "plt.plot(data1)"
   ]
  },
  {
   "cell_type": "code",
   "execution_count": null,
   "metadata": {},
   "outputs": [],
   "source": [
    "# add x data\n",
    "x = [1,-3,3,9,5,5]\n",
    "\n",
    "plt.plot(x,data1)"
   ]
  },
  {
   "cell_type": "code",
   "execution_count": null,
   "metadata": {},
   "outputs": [],
   "source": [
    "# change the plot type\n",
    "\n",
    "plt.scatter(x, data1)\n",
    "plt.bar(x, data1)\n",
    "plt.show()"
   ]
  },
  {
   "cell_type": "code",
   "execution_count": null,
   "metadata": {},
   "outputs": [],
   "source": [
    "# change default colors\n",
    "\n",
    "plt.scatter(x, data1, c = 'red')"
   ]
  },
  {
   "cell_type": "code",
   "execution_count": null,
   "metadata": {},
   "outputs": [],
   "source": [
    "# change the lines and shapes\n",
    "\n",
    "plt.plot(x, data1, c = 'pink')\n",
    "plt.scatter(x, data1, c = 'green', marker = 'x')"
   ]
  },
  {
   "cell_type": "code",
   "execution_count": null,
   "metadata": {},
   "outputs": [],
   "source": [
    "# add axis labels and title\n",
    "\n",
    "plt.plot(x, data1, c = 'pink')\n",
    "plt.scatter(x, data1, c = 'green', marker = 'x')\n",
    "plt.xlabel('X axis label')\n",
    "plt.ylabel('Y axis label')\n",
    "plt.title('Title of the plot')\n"
   ]
  },
  {
   "cell_type": "code",
   "execution_count": null,
   "metadata": {},
   "outputs": [],
   "source": [
    "# remove the spines\n",
    "\n",
    "plt.plot(x, data1, c = 'pink')\n",
    "plt.scatter(x, data1, c = 'green', marker = 'x')\n",
    "plt.xlabel('X axis label')\n",
    "plt.ylabel('Y axis label')\n",
    "plt.title('Title of the plot')\n",
    "\n"
   ]
  },
  {
   "cell_type": "code",
   "execution_count": null,
   "metadata": {},
   "outputs": [],
   "source": [
    "# everything as above but object oriented\n",
    "# subplots\n",
    "\n",
    "fig, ax = plt.subplots(2,1)\n",
    "\n",
    "ax[0].plot(data1)\n",
    "ax[1].scatter(x, data1)\n",
    "ax[1].spines[\"top\"].set_visible(False)\n",
    "ax[1].spines[\"right\"].set_visible(False)\n",
    "plt.show()"
   ]
  },
  {
   "cell_type": "code",
   "execution_count": null,
   "metadata": {},
   "outputs": [],
   "source": [
    "# change the axis and use a grid\n",
    "\n",
    "fig, ax = plt.subplots(2,2)\n",
    "\n",
    "ax[0,0].plot(data1)\n",
    "ax[0,1].scatter(x, data1)\n",
    "ax[1,0].spines[\"top\"].set_visible(False)\n",
    "ax[1,1].spines[\"right\"].set_visible(False)\n",
    "# ax[1].set_xlabel('X axis label')\n",
    "plt.show()"
   ]
  },
  {
   "cell_type": "code",
   "execution_count": null,
   "metadata": {},
   "outputs": [],
   "source": [
    "# rotate the labels 45 degrees\n",
    "\n",
    "fig, ax = plt.subplots(2,2)\n",
    "\n",
    "ax[0,0].plot(data1)\n",
    "ax[0,1].scatter(x, data1)\n",
    "ax[1,0].spines[\"top\"].set_visible(False)\n",
    "ax[1,1].spines[\"right\"].set_visible(False)\n",
    "\n",
    "plt.show()"
   ]
  },
  {
   "cell_type": "code",
   "execution_count": null,
   "metadata": {},
   "outputs": [],
   "source": [
    "# change the style\n",
    "\n",
    "with plt.style.context('Solarize_Light2'):\n",
    "    \n",
    "    fig, ax = plt.subplots(2,1)\n",
    "\n",
    "    ax[0].plot(data1)\n",
    "    ax[1].scatter(x, data1)\n",
    "    plt.show()"
   ]
  },
  {
   "cell_type": "code",
   "execution_count": null,
   "metadata": {},
   "outputs": [],
   "source": [
    "# change the ticks labels\n",
    "# rotation \n",
    "\n",
    "fig, ax = plt.subplots(2,2)\n",
    "\n",
    "ax[0,0].plot(data1)\n",
    "ax[0,1].scatter(x, data1)\n",
    "ax[1,0].spines[\"top\"].set_visible(False)\n",
    "ax[1,1].scatter(x, data1)\n",
    "ax[1,1].spines[\"right\"].set_visible(False)\n",
    "\n",
    "ax[0,1].set_xticks(ticks = [-2, 6], labels = ['A', 'B'])\n",
    "ax[1,1].set_xticks(ticks = [-2, 6], labels = ['A', 'B'], rotation = 45)\n"
   ]
  },
  {
   "cell_type": "code",
   "execution_count": null,
   "metadata": {},
   "outputs": [],
   "source": [
    "# save the figure\n",
    "\n",
    "save_path = '/Users/verjim/Desktop/'\n",
    "fig.savefig( save_path + 'my_first_figure.svg', \\\n",
    "            format = 'svg', bbox_inches = 'tight', dpi = 1000)"
   ]
  },
  {
   "cell_type": "markdown",
   "metadata": {},
   "source": [
    "### Exercise 1. Plotting Interfaces\n",
    "\n",
    "The code below was written by someone who was a little unfamiliar with how matplotlib works.\n",
    "\n",
    "Question 1. Why are the lines and labels only appearing in the second plot?\n",
    "\n",
    "Question 2. Change the code so that it uses the object-oriented interface. Does the plot now look like what you'd expect?"
   ]
  },
  {
   "cell_type": "code",
   "execution_count": null,
   "metadata": {},
   "outputs": [],
   "source": [
    "# generating some data\n",
    "\n",
    "X = np.linspace( -np.pi, np.pi, 257, endpoint = True)\n",
    "C, S = np.cos(X), np.sin(X)\n",
    "\n",
    "# same as above but with fewer data points\n",
    "Xfew = np.linspace( -np.pi, np.pi, 8, endpoint = True)\n",
    "Cfew, Sfew = np.cos(Xfew), np.sin(Xfew)"
   ]
  },
  {
   "cell_type": "code",
   "execution_count": null,
   "metadata": {},
   "outputs": [],
   "source": [
    "fig, axs = plt.subplots(2, 1, num = 1, figsize=(9, 4), clear = True)\n",
    "\n",
    "ax = axs[0]\n",
    "plt.plot(X, C)\n",
    "plt.plot(X, S)\n",
    "plt.xlabel('Angle')\n",
    "plt.ylabel('Trig (fine)')\n",
    "plt.xlim([-np.pi, np.pi])\n",
    "\n",
    "ax = axs[1]\n",
    "plt.plot(Xfew, Cfew)\n",
    "plt.plot(Xfew, Sfew)\n",
    "plt.xlabel('Angle')\n",
    "plt.ylabel('Trig (fine)')\n",
    "plt.xlim([-np.pi, np.pi])"
   ]
  },
  {
   "cell_type": "code",
   "execution_count": null,
   "metadata": {},
   "outputs": [],
   "source": [
    "# solution cell\n",
    "\n",
    "fig, axs = plt.subplots(2, 1, num = 1, figsize=(9, 4), clear = True)\n",
    "\n",
    "ax = axs[0]\n",
    "axs[0].plot(X, C)\n",
    "axs[0].plot(X, S)\n",
    "axs[0].set_xlabel('Angle')\n",
    "axs[0].set_ylabel('Trig (fine)')\n",
    "axs[0].set_xlim([-np.pi, np.pi])\n",
    "\n",
    "ax = axs[1]\n",
    "axs[1].plot(Xfew, Cfew)\n",
    "axs[1].plot(Xfew, Sfew)\n",
    "axs[1].set_xlabel('Angle')\n",
    "axs[1].set_ylabel('Trig (fine)')\n",
    "axs[1].set_xlim([-np.pi, np.pi])\n",
    "\n",
    "plt.show()"
   ]
  },
  {
   "cell_type": "markdown",
   "metadata": {},
   "source": [
    "### Exercise 2. Time dependency plot"
   ]
  },
  {
   "cell_type": "code",
   "execution_count": null,
   "metadata": {},
   "outputs": [],
   "source": [
    "# load the data\n",
    "with open('../data/time_dependency_AP_TH.json') as f:\n",
    "    time_dep_data = json.load(f)"
   ]
  },
  {
   "cell_type": "code",
   "execution_count": null,
   "metadata": {},
   "outputs": [],
   "source": [
    "# explore the data\n",
    "\n",
    "print(type(time_dep_data))\n",
    "print(time_dep_data.keys())\n",
    "\n",
    "print(type(time_dep_data['Ctrl']))\n",
    "\n",
    "print(time_dep_data['Ctrl'].keys())\n",
    "print(time_dep_data['Ctrl']['Rin'])"
   ]
  },
  {
   "cell_type": "code",
   "execution_count": null,
   "metadata": {},
   "outputs": [],
   "source": [
    "x_c = np.array(time_dep_data['Ctrl']['hrs_after_OP'])\n",
    "y_c = np.array(time_dep_data['Ctrl']['TH'])\n",
    "\n",
    "x_h = np.array(time_dep_data['high K']['hrs_after_OP'])\n",
    "y_h = np.array(time_dep_data['high K']['TH'])"
   ]
  },
  {
   "cell_type": "code",
   "execution_count": null,
   "metadata": {},
   "outputs": [],
   "source": [
    "# create a figure object\n",
    "fig, ax = plt.subplots(figsize = (8,6), sharex = True, sharey = True)\n",
    "\n",
    "# scatter the data\n",
    "ax.scatter(x_c, y_c, c = 'orange', label = 'Ctrl', alpha = 0.45)\n",
    "ax.scatter(x_h, y_h, c = 'green', label = 'high K', alpha = 0.45)\n",
    "\n",
    "# regression lines with polynomic fit\n",
    "slope_c, intercept_c = np.polyfit(x_c, y_c, 1)\n",
    "y_est_c = slope_c * x_c  + intercept_c\n",
    "y_err_c = x_c.std() * np.sqrt(1/len(x_c) + (x_c - x_c.mean())**2 / np.sum((x_c - x_c.mean())**2))\n",
    "\n",
    "# plot regression line\n",
    "ax.plot(x_c, slope_c * x_c + intercept_c, \\\n",
    "        color = 'orange', linestyle = '--', linewidth = 2)\n",
    "# plots the error band\n",
    "ax.fill_between(x_c, y_est_c - y_err_c, y_est_c + y_err_c, alpha = 0.2, color = 'orange')\n",
    "\n",
    "slope_h, intercept_h = np.polyfit(x_h, y_h, 1)\n",
    "y_est_h = slope_h * x_h  + intercept_h\n",
    "y_err_h = x_h.std() * np.sqrt(1/len(x_h) + (x_h - x_h.mean())**2 / np.sum((x_h - x_h.mean())**2))\n",
    "ax.plot(x_h, slope_h * x_h + intercept_h, \\\n",
    "        color='green', linestyle = '--', linewidth = 2)\n",
    "ax.fill_between(x_h, y_est_h - y_err_h, y_est_h + y_err_h, alpha = 0.2, color = 'green')\n",
    "\n",
    "ax.set_title('small title')\n",
    "ax.set_xlabel('Hours after OP')\n",
    "ax.set_ylabel('mV')\n",
    "\n",
    "fig.legend(loc='upper right', fontsize='small')\n",
    "fig.suptitle('AP Threshold')\n",
    "\n",
    "save_path = '/Users/verjim/Desktop/'\n",
    "# make the directory, if it doens't exist\n",
    "os.makedirs(save_path, exist_ok = True)\n",
    "# fig.savefig(dest_dir + data_type + param + '.png')\n",
    "fig.savefig(save_path + 'fig_name.svg', format = 'svg', bbox_inches = 'tight', dpi = 100)\n",
    "plt.show()\n",
    "plt.close()"
   ]
  },
  {
   "cell_type": "markdown",
   "metadata": {},
   "source": [
    "\n",
    "For homework, using the data from above, plot the time dependency of the Rin (Input resistance)\n",
    "\n",
    "- change the colors. It's always nice to consider colors that are suitable for colorblind people : )\n",
    "- plot the median of the Rin over time, binning at 0-10, 11-20, 21-30, etc. Use the diamond shape in bigger size than the dots\n",
    "- add a legend in the top left corner\n",
    "- think about what you could change in the code to make it less repetitive. This is mainly a styling issue. Try a few options. Is your code more readable?\n",
    "\n",
    "How the solutions should look like can be found in /img/solution_exercise2.png on Github."
   ]
  },
  {
   "cell_type": "markdown",
   "metadata": {},
   "source": [
    "<img src=\"../img/solution_exercise2.png\" style=\"width:700px;\"/>"
   ]
  },
  {
   "cell_type": "code",
   "execution_count": 8,
   "metadata": {},
   "outputs": [],
   "source": [
    "# solution cell"
   ]
  },
  {
   "cell_type": "markdown",
   "metadata": {},
   "source": [
    "### Exercise 3. Line plots and Subplots"
   ]
  },
  {
   "cell_type": "markdown",
   "metadata": {},
   "source": [
    "We worked with this data and code in the HW for lesson 3.\n",
    "\n",
    "Start by going over the code line by line and understanding what it does. It's useful to add commented to it so that the chances of remembering are higher.\n",
    "\n",
    "Try to reproduce the plots from the image below (if not displaying, it's on GitHub called solution_3.png in img\\ folder img\\solution_3.png). The written instructions might not be clear enough. Don't worry about the black background.\n",
    "In a new code cell, change the code so that:\n",
    "1. all sweeps for D1 are plotted on top of each other in the left plot. D2 sweeps are plotted in the same way on the right.\n",
    "2. add two subplots to the figure below and two above that are plotting the previous and the next sweep.\n",
    "3. add a legend to the plot.\n",
    "4. pack the whole thing in a function. What are its arguments? Does it makes sense to use two functions? What would they be?"
   ]
  },
  {
   "cell_type": "markdown",
   "metadata": {},
   "source": [
    "![solution](../img/solution_3.png)"
   ]
  },
  {
   "cell_type": "code",
   "execution_count": null,
   "metadata": {},
   "outputs": [],
   "source": [
    "# Load the data\n",
    "\n",
    "with open('../data/charact_data.json') as f:\n",
    "     charact_data = json.load(f)\n",
    "charact_data = {key: np.array(charact_data[key]) for key in charact_data.keys()}\n",
    "inj = [-300, -200, -150, -100, -50, 0, 50, 100, 150, 200, 250, 300]"
   ]
  },
  {
   "cell_type": "code",
   "execution_count": null,
   "metadata": {},
   "outputs": [],
   "source": [
    "# defining the parameters \n",
    "\n",
    "inj = [-300, -200, -150, -100, -50, 0, 50, 100, 150, 200, 250, 300]\n",
    "swp_num1 = 5\n",
    "swp_num2 = 5\n",
    "sampling_rate = 20 # in kHz"
   ]
  },
  {
   "cell_type": "code",
   "execution_count": null,
   "metadata": {},
   "outputs": [],
   "source": [
    "all_swps = np.shape(charact_data['D1'])[0]\n",
    "swp_len_ms = np.shape(charact_data['D1'])[1] / sampling_rate\n",
    "x = np.linspace(0, swp_len_ms, len(charact_data['D1'][0,:]))\n",
    "fig, ax = plt.subplots(1, 2, sharey = True, figsize = (12,5))\n",
    "\n",
    "ax[0].plot(x, charact_data['D1'][swp_num1,:], color = plt.cm.Oranges(np.linspace(1, 0.25, all_swps))[swp_num1])\n",
    "ax[1].plot(x, charact_data['D2'][swp_num2,:], color = plt.cm.Greens(np.linspace(1, 0.25, all_swps))[swp_num2])\n",
    "\n",
    "ax[0].set_title('Sweep number '+ str(swp_num1) +' from D1\\n'\\\n",
    "                'current step of ' + str(inj[swp_num1]) + ' pA')\n",
    "ax[0].set_xlabel('ms')\n",
    "ax[0].set_ylabel('mV')\n",
    "\n",
    "ax[1].set_title('Sweep number '+ str(swp_num2) +' from D2\\n'\\\n",
    "                'current step of ' + str(inj[swp_num2]) + ' pA')\n",
    "ax[1].set_xlabel('ms')\n",
    "ax[1].set_ylabel('mV')\n",
    "ax[1].yaxis.set_tick_params(labelleft=True)\n",
    "\n",
    "plt.show()"
   ]
  },
  {
   "cell_type": "markdown",
   "metadata": {},
   "source": [
    "### Exercise 4 Scatterplots with Boxplots\n",
    "\n",
    "Explore the code for the plot below. Try to understand it and comment it. You'll need it for the next exercise."
   ]
  },
  {
   "cell_type": "code",
   "execution_count": null,
   "metadata": {},
   "outputs": [],
   "source": [
    "# load the data\n",
    "with open('../data/time_dependency_AP_TH.json') as f:\n",
    "    time_dep_data = json.load(f)"
   ]
  },
  {
   "cell_type": "code",
   "execution_count": null,
   "metadata": {},
   "outputs": [],
   "source": [
    "param = 'Rin'\n",
    "treatments = ['Ctrl', 'high K']\n",
    "colors = {\n",
    "    'CtrlD1': '#c875c4', #'#dede00', 'MediumPurple2'\n",
    "    'CtrlD2': '#ff7f00',\n",
    "    'high KD1': '#c875c4', # '#dede00',\n",
    "    'high KD2': '#4daf4a'\n",
    "}\n",
    "\n",
    "day_labels = ['D1', 'D2']\n",
    "\n",
    "titles_dict = {\n",
    "    'Rin': ['Input resistance', 'MΩ', [0,100,200,300,400]],   \n",
    "    'TH': ['AP threshold', 'mV', [-50, -40, -30, -20, -10 ]]\n",
    " }"
   ]
  },
  {
   "cell_type": "code",
   "execution_count": null,
   "metadata": {},
   "outputs": [],
   "source": [
    "fig2 = plt.figure(figsize=(9,7))\n",
    "ax = plt.subplot(1,1,1)\n",
    "\n",
    "label_ = []\n",
    "num_cels = {}\n",
    "\n",
    "\n",
    "for i, tr in enumerate(treatments):\n",
    "    data_tr = time_dep_data[tr]\n",
    "    # make numpy arrays\n",
    "    data_tr = {key: np.array(data_tr[key]) for key in data_tr.keys()}\n",
    "\n",
    "    # separate on D1 and D2\n",
    "    indx_d1 = np.where(data_tr['hrs_inc'] == 0) # D1 no inccubation\n",
    "    indx_d2 = np.where(data_tr['hrs_inc'] != 0)\n",
    "    indx_days = (indx_d1, indx_d2)\n",
    "\n",
    "    for j, day_indx in enumerate(indx_days):\n",
    "        k = j + 2*i\n",
    "        day = day_labels[j]\n",
    "        \n",
    "        day_tr_data = data_tr[param][day_indx]\n",
    "\n",
    "        median_d1 = np.median(day_tr_data)\n",
    "        x = np.linspace(0.65 + k, 1.35 + k, len(day_tr_data))\n",
    "    \n",
    "        ax.boxplot(day_tr_data, positions = [k + 0.5], notch = True, patch_artist=True, \\\n",
    "                   boxprops=dict(facecolor=colors[tr + day], alpha = 0.75), \\\n",
    "            medianprops = dict(linewidth=2.3, color = 'k'))\n",
    "        ax.scatter(x, day_tr_data, c = colors[tr + day], s = 80, alpha = 0.75)\n",
    "            \n",
    "        label_.append(day + '\\n' + tr)\n",
    "        num_cels[tr + ' ' + day] = len(day_tr_data)\n",
    "    \n",
    "        # ax.text(1 + 2*i, int(np.max(df[param])), tr, size = 17, c = colors[tr + day])\n",
    "        ax.text(k + 0.65, int((1 - 0.15) * np.max(data_tr[param])), 'n = ' + str(len(day_tr_data)), size = 12, c = colors[tr + day])\n",
    "\n",
    "    #plt.boxplot(data_boxplot, showbox = False)\n",
    "ax.tick_params(axis='y', labelsize=22)\n",
    "ax.set_xticks(ticks = [0.7, 1.7, 2.7, 3.7], labels = label_, size = 20)\n",
    "\n",
    "plt.title(titles_dict[param][0], fontsize = 19, x = 0.5, y = 1)\n",
    "ax.set_ylabel(titles_dict[param][1], fontsize = 24)\n",
    "ax.set_yticks(ticks = titles_dict[param][2])\n",
    "\n",
    "# plt.subplots_adjust(hspace=0.35)\n",
    "# fig2.patch.set_facecolor('white')\n",
    "# fig2.tight_layout()\n",
    "\n",
    "# date = str(datetime.date.today())\n",
    "# os.makedirs(destination_dir, exist_ok=True)\n",
    "# # plt.savefig(destination_dir  + date + '_plot_' + param + '.pdf')\n",
    "# plt.savefig(destination_dir  + date + '_plot_' + param + '.svg', \\\n",
    "#     format = 'svg', bbox_inches = 'tight', dpi = 1000)\n",
    "# plt.close(fig2)\n"
   ]
  },
  {
   "cell_type": "markdown",
   "metadata": {},
   "source": [
    "#### Exercise 4 \n",
    "\n",
    "Create a plotting function using the code above. Pack the code into a funcion.\n",
    "\n",
    "Consider carefully what would be the variabels that you'd pass to the functon?\n",
    "What would be the default parameters?\n",
    "How will you create the name of the plot so that you are not overwriting the previous one?"
   ]
  },
  {
   "cell_type": "code",
   "execution_count": null,
   "metadata": {},
   "outputs": [],
   "source": [
    "# solution cell"
   ]
  },
  {
   "cell_type": "markdown",
   "metadata": {},
   "source": [
    "### Exercise 5. Styling sheets\n",
    "\n",
    "*Following section was creted by Guillermo and me for ASPP 2023 DataViz Lecture*"
   ]
  },
  {
   "cell_type": "markdown",
   "metadata": {},
   "source": [
    "Sometimes, there are some plotting settings that we want to apply to all of our plots. (E.g., a new color cycle, changing the axes spines to dark grey, etc.) The easiest way to do that is to use [style sheets](https://matplotlib.org/stable/tutorials/introductory/customizing.html). Matplotlib has [several built in](https://matplotlib.org/stable/gallery/style_sheets/style_sheets_reference.html), or you can make your own once you know which values in `plt.rcParams` you want to update."
   ]
  },
  {
   "cell_type": "markdown",
   "metadata": {},
   "source": [
    "To use a style sheet for all plots in a session:\n",
    "```python\n",
    "plt.style.use(<sheet_name>)\n",
    "```\n",
    "If you want to use a style sheet on just a single plot without changing the default plot settings you can use a context manager:\n",
    "```python\n",
    "with plt.style.context(<sheet_name>):\n",
    "    plt.plot(...)\n",
    "```\n",
    "\n",
    "**Explore** the ones that start with 'seaborn', like **'poster'**, **'talk'**, **paper'** and **'notebook'**. What is different between them?"
   ]
  },
  {
   "cell_type": "code",
   "execution_count": null,
   "metadata": {},
   "outputs": [],
   "source": [
    "# playground"
   ]
  },
  {
   "cell_type": "markdown",
   "metadata": {},
   "source": [
    "### Exercise 6. Super extra\n",
    "\n",
    "Find some data to plot. It could be your own or somthing found on the internet. Play around with it and try different plotting options. Using for loops, if statements. Writing your own functions."
   ]
  },
  {
   "cell_type": "code",
   "execution_count": 1,
   "metadata": {},
   "outputs": [],
   "source": [
    "# your data here "
   ]
  },
  {
   "cell_type": "markdown",
   "metadata": {},
   "source": []
  }
 ],
 "metadata": {
  "kernelspec": {
   "display_name": ".lab_python",
   "language": "python",
   "name": "python3"
  },
  "language_info": {
   "codemirror_mode": {
    "name": "ipython",
    "version": 3
   },
   "file_extension": ".py",
   "mimetype": "text/x-python",
   "name": "python",
   "nbconvert_exporter": "python",
   "pygments_lexer": "ipython3",
   "version": "3.12.7"
  }
 },
 "nbformat": 4,
 "nbformat_minor": 2
}
