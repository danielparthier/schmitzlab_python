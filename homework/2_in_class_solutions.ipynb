{
 "cells": [
  {
   "cell_type": "markdown",
   "metadata": {},
   "source": [
    "# In class and HW - 2"
   ]
  },
  {
   "cell_type": "code",
   "execution_count": 58,
   "metadata": {},
   "outputs": [],
   "source": [
    "import timeit"
   ]
  },
  {
   "cell_type": "markdown",
   "metadata": {},
   "source": [
    "### Local vs Global variables"
   ]
  },
  {
   "cell_type": "code",
   "execution_count": null,
   "metadata": {},
   "outputs": [],
   "source": [
    "def func1():\n",
    "    # local variable\n",
    "    s = \"I love Python\"\n",
    "    print(\"Inside Function:\", s)\n",
    "\n",
    "func1()\n",
    "print(s) #nothing"
   ]
  },
  {
   "cell_type": "code",
   "execution_count": null,
   "metadata": {},
   "outputs": [],
   "source": [
    "# Global scope\n",
    "def func2():\n",
    "    # not defining s in this function\n",
    "    print(\"Inside Function:\", s)\n",
    "\n",
    "s = \"great\"\n",
    "print(\"Outside Function\", s)\n",
    "func2() # error? no because s is a global variable"
   ]
  },
  {
   "cell_type": "code",
   "execution_count": null,
   "metadata": {},
   "outputs": [],
   "source": [
    "# mixing them up\n",
    "\n",
    "def func3():\n",
    "    s = \"Me too.\"\n",
    "    print(s)\n",
    "\n",
    "# Global scope\n",
    "s = \"I love variables\"\n",
    "func3()\n",
    "print(s)"
   ]
  },
  {
   "cell_type": "code",
   "execution_count": null,
   "metadata": {},
   "outputs": [],
   "source": [
    "# you can't modify global variables in functions\n",
    "def fail():\n",
    "    s.append(3)\n",
    "    print(\"Inside Function\", s)\n",
    "\n",
    "\n",
    "# Global scope\n",
    "s = [1, 2, 5]\n",
    "fail()\n",
    "\n",
    "# solution?"
   ]
  },
  {
   "cell_type": "markdown",
   "metadata": {},
   "source": [
    "## for loops\n",
    "\n",
    "Used to perform a repeated procedure on every iteration"
   ]
  },
  {
   "cell_type": "code",
   "execution_count": null,
   "metadata": {},
   "outputs": [],
   "source": [
    "# numpy arrays are iterable\n",
    "import numpy as np\n",
    "\n",
    "V = np.random.randint(10, 40, 5)\n",
    "\n",
    "for val in V:\n",
    "    print(val)"
   ]
  },
  {
   "cell_type": "code",
   "execution_count": null,
   "metadata": {},
   "outputs": [],
   "source": [
    "# Strings are iterable\n",
    "file_path = 'HALLO!'\n",
    "\n",
    "for char in file_path:\n",
    "    print(char)"
   ]
  },
  {
   "cell_type": "code",
   "execution_count": null,
   "metadata": {},
   "outputs": [],
   "source": [
    "# lists (and tuples) are iterable \n",
    "list_to_sum = [2,3,4,5,7,45]\n",
    "# write a for loop that sums the numbers in the list\n",
    "\n",
    "num_sum = 0\n",
    "for num in list_to_sum:\n",
    "    num_sum = num_sum + num # num_sum += num # alternative"
   ]
  },
  {
   "cell_type": "markdown",
   "metadata": {},
   "source": [
    "### In-class Exercise 1\n",
    "\n",
    "Given: \n",
    "A = [3, 4, 5, 9, 12, 87, -65, 300, 450, -32]\n",
    "\n",
    "Use *for loops* to:\n",
    "1. Add 3 to each element of the list\n",
    "2. Calculate the average of the list, but negative values are calcualted as 0s\n",
    "3. Find the maximum value\n",
    "4. Find the index (position) of the max value"
   ]
  },
  {
   "cell_type": "code",
   "execution_count": null,
   "metadata": {},
   "outputs": [],
   "source": [
    "A = [3, 4, 5, 9, 12, 87, -65, 300, 450, -32]\n",
    "\n",
    "# clean solution\n",
    "B = []\n",
    "for val in A:\n",
    "    val += 3\n",
    "    B.append(val)\n",
    "print(B)\n",
    "\n",
    "# one line solution\n",
    "B = []\n",
    "for val in A:\n",
    "    B.append(val + 3)\n",
    "print(B)"
   ]
  },
  {
   "cell_type": "code",
   "execution_count": null,
   "metadata": {},
   "outputs": [],
   "source": [
    "# calcualte the average but if an element is negative --> make this element 0\n",
    "sum_num = 0\n",
    "for val in A:\n",
    "    if val < 0:\n",
    "        val = 0\n",
    "    sum_num += val\n",
    "print(sum_num / len(A))"
   ]
  },
  {
   "cell_type": "code",
   "execution_count": null,
   "metadata": {},
   "outputs": [],
   "source": [
    "# find the maximum value\n",
    "biggest = A[0]\n",
    "for val in A:\n",
    "    if val > biggest:\n",
    "        biggest = val"
   ]
  },
  {
   "cell_type": "code",
   "execution_count": null,
   "metadata": {},
   "outputs": [],
   "source": [
    "# position of max value - better but not perfect\n",
    "biggest = A[0]\n",
    "count = -1\n",
    "for val in A:\n",
    "    count += 1\n",
    "    if val > biggest:\n",
    "        biggest = val\n",
    "        indx_max = count\n",
    "\n",
    "print('the max value is ', biggest)\n",
    "print('its position is ', indx_max)\n",
    "print(A[indx_max])"
   ]
  },
  {
   "cell_type": "markdown",
   "metadata": {},
   "source": [
    "Sometimes for loops are not needed!"
   ]
  },
  {
   "cell_type": "code",
   "execution_count": null,
   "metadata": {},
   "outputs": [],
   "source": [
    "# with a built-in functions\n",
    "A.index(max(A))"
   ]
  }
 ],
 "metadata": {
  "kernelspec": {
   "display_name": ".lab_python",
   "language": "python",
   "name": "python3"
  },
  "language_info": {
   "codemirror_mode": {
    "name": "ipython",
    "version": 3
   },
   "file_extension": ".py",
   "mimetype": "text/x-python",
   "name": "python",
   "nbconvert_exporter": "python",
   "pygments_lexer": "ipython3",
   "version": "3.12.7"
  }
 },
 "nbformat": 4,
 "nbformat_minor": 2
}
