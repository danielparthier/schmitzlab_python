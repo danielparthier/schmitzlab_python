{
 "cells": [
  {
   "cell_type": "markdown",
   "metadata": {},
   "source": [
    "# In class 3"
   ]
  },
  {
   "cell_type": "markdown",
   "metadata": {},
   "source": [
    "### Index-based for loops\n",
    "\n",
    "#### range()"
   ]
  },
  {
   "cell_type": "code",
   "execution_count": null,
   "metadata": {},
   "outputs": [],
   "source": [
    "word = 'BERLINALE'\n",
    "\n",
    "for i in range(len(word)):\n",
    "    print(i, word[i])"
   ]
  },
  {
   "cell_type": "code",
   "execution_count": null,
   "metadata": {},
   "outputs": [],
   "source": [
    "B = [1, 4, 6, 7, 89, 54]\n",
    "big_indx = 0\n",
    "\n",
    "for i in range(len(B)):\n",
    "    if B[i] > B[big_indx]:\n",
    "        big_indx = i\n",
    "\n",
    "print('The max value in B is', B[big_indx], 'found on position' , big_indx)"
   ]
  },
  {
   "cell_type": "code",
   "execution_count": null,
   "metadata": {},
   "outputs": [],
   "source": [
    "# percentage of time spent in center\n",
    "\n",
    "double_measurements = [30, 40, 50, 48, 23, 19, 60, 54, 39, 27] # 5 animals\n",
    "\n",
    "for indx in range(0, len(double_measurements), 2):\n",
    "    print(double_measurements[indx])"
   ]
  },
  {
   "cell_type": "markdown",
   "metadata": {},
   "source": [
    "#### enumerate()"
   ]
  },
  {
   "cell_type": "code",
   "execution_count": null,
   "metadata": {},
   "outputs": [],
   "source": [
    "import numpy as np\n",
    "\n",
    "array_a = np.arange(20, 25)\n",
    "for indx, val in enumerate(array_a):\n",
    "    print('the index is', indx)\n",
    "    print('the value is ', val)"
   ]
  },
  {
   "cell_type": "code",
   "execution_count": null,
   "metadata": {},
   "outputs": [],
   "source": [
    "fruits = ['apple', 'peach', 'tomato', 'grape']\n",
    "\n",
    "for indx, fruit in enumerate(fruits):\n",
    "    print(indx)\n",
    "    print(fruit)"
   ]
  },
  {
   "cell_type": "code",
   "execution_count": null,
   "metadata": {},
   "outputs": [],
   "source": [
    "print(type(range(20)))\n",
    "\n",
    "print(type(enumerate(fruits)))"
   ]
  },
  {
   "cell_type": "markdown",
   "metadata": {},
   "source": [
    "### In-class exercise 2\n",
    "\n",
    "Given:\n",
    "4 measurements of intrinsic properties of 12 cells <br>\n",
    "4 numpy arrays Rin (input resistance), Rs (series resistance), RMPs (resting membrane potential), AP_THs (action potential threshold)\n",
    "\n",
    "Find:\n",
    "1. The input resistance of the cell with the lowest series resistance\n",
    "2. The AP thresholds of the 2 cell with highest RMPs\n",
    "3. A list of indices of cells to exclude. QC criteria: \n",
    "    - Rs < 30 MOhm\n",
    "    - RMPs > -45 mV\n"
   ]
  },
  {
   "cell_type": "code",
   "execution_count": 84,
   "metadata": {},
   "outputs": [],
   "source": [
    "Rin = np.array([26.38, 67.84, 63.05, 58.88, 57.51, 57.88, 43.68, 64.03, 139.82, 60.39, 62.13, 63.04])\n",
    "Rs = np.array([19.61, 28.40, 13.71, 16.26, 9.78, 10.51, 12.41, 8.94, 12.29, 11.92, 15.66, 16.32])\n",
    "RMPs = np.array([-68.93, -72.71, -55.55, -58.70, -44.18, -75.16, -43.82, -80.47, -63.30, -39.27, -46.08, -32.97])\n",
    "AP_THs = np.array([-47.45, -28.71, -36.14, -44.54, -38.67, -41.49, -41.99, -43.81, -44.21, -46.93, -42.58, -27.12])"
   ]
  },
  {
   "cell_type": "code",
   "execution_count": null,
   "metadata": {},
   "outputs": [],
   "source": [
    "# solution cell\n"
   ]
  },
  {
   "cell_type": "code",
   "execution_count": null,
   "metadata": {},
   "outputs": [],
   "source": [
    "# try out code cell\n",
    "\n",
    "\n"
   ]
  },
  {
   "cell_type": "markdown",
   "metadata": {},
   "source": [
    "## break and continue"
   ]
  },
  {
   "cell_type": "markdown",
   "metadata": {},
   "source": [
    "- break - immediately terminates the loop\n",
    "- continue - skips whatever is after it and continues with the next iteration\n",
    "    - mostly used after a conditional statement"
   ]
  },
  {
   "cell_type": "code",
   "execution_count": null,
   "metadata": {},
   "outputs": [],
   "source": [
    "# breat statement\n",
    " \n",
    "fruits = ['apple', 'peach', 'tomato', 'grape', 'pear', 'apricot']\n",
    "\n",
    "not_the_best_fruit = []\n",
    "for indx, fruit in enumerate(fruits):\n",
    "    if fruit == 'pear':\n",
    "        print('we have found the tastiest fruit. It is', fruit)\n",
    "        break\n",
    "    \n",
    "    not_the_best_fruit.append(fruit)\n",
    "\n",
    "print('The not so tasty fruit are:', not_the_best_fruit)"
   ]
  },
  {
   "cell_type": "code",
   "execution_count": null,
   "metadata": {},
   "outputs": [],
   "source": [
    "# continue statement\n",
    "\n",
    "fruits = ['apple', 'peach', 'tomato', 'grape', 'pear', 'apricot']\n",
    "\n",
    "not_the_best_fruit = []\n",
    "for indx, fruit in enumerate(fruits):\n",
    "    if fruit == 'pear':\n",
    "        print('we have found the tastiest fruit. It is', fruit)\n",
    "        continue\n",
    "    \n",
    "    not_the_best_fruit.append(fruit)\n",
    "\n",
    "print('The not so tasty fruit are:', not_the_best_fruit)"
   ]
  },
  {
   "cell_type": "markdown",
   "metadata": {},
   "source": [
    "### Exercise with break and continue statements"
   ]
  },
  {
   "cell_type": "markdown",
   "metadata": {},
   "source": [
    "Given: a dictionary with slice names and the recordings that were performed. Some times recordings were repeated. You would like to keep only the first instances of those recordings and expand the dictionary with the indices of the recordings to keep. Use a continue statement to solve this problem."
   ]
  },
  {
   "cell_type": "code",
   "execution_count": 144,
   "metadata": {},
   "outputs": [],
   "source": [
    "# Given\n",
    "\n",
    "recordings_dictionary = {\n",
    "        'S1': ['vc', 'ramp', 'resting', 'resting', 'connectivity_screen', 'spontan', 'vc_end'],\n",
    "        'S2': ['vc', 'ramp', 'resting', 'connectivity_screen', 'connectivity_screen' ,'spontan', 'vc_end'],\n",
    "        'S3': ['vc', 'ramp', 'resting', 'resting', 'connectivity_screen', 'spontan', 'spontan', 'vc_end'],\n",
    "        'S4': ['vc', 'ramp', 'ramp', 'ramp', 'resting', 'connectivity_screen', 'spontan', 'vc_end']\n",
    "}"
   ]
  },
  {
   "cell_type": "code",
   "execution_count": 1,
   "metadata": {},
   "outputs": [],
   "source": [
    "# solution should look like this\n",
    "\n",
    "recordings_dictionary_solution = {\n",
    "        'S1': [['vc', 'ramp', 'resting', 'connectivity_screen', 'spontan', 'vc_end'], [0,1,2,4,5,6]],\n",
    "        'S2': [['vc', 'ramp', 'resting', 'connectivity_screen', 'spontan', 'vc_end'], [0,1,2,3,5,6]],\n",
    "        'S3': [['vc', 'ramp', 'resting', 'connectivity_screen', 'spontan', 'vc_end'], [0,1,2,4,5,7]],\n",
    "        'S4': [['vc', 'ramp', 'resting', 'connectivity_screen', 'spontan', 'vc_end'], [0,1,4,5,6,7]]\n",
    "}"
   ]
  },
  {
   "cell_type": "code",
   "execution_count": 146,
   "metadata": {},
   "outputs": [],
   "source": [
    "# your solution here\n"
   ]
  }
 ],
 "metadata": {
  "kernelspec": {
   "display_name": ".lab_python",
   "language": "python",
   "name": "python3"
  },
  "language_info": {
   "codemirror_mode": {
    "name": "ipython",
    "version": 3
   },
   "file_extension": ".py",
   "mimetype": "text/x-python",
   "name": "python",
   "nbconvert_exporter": "python",
   "pygments_lexer": "ipython3",
   "version": "3.12.7"
  }
 },
 "nbformat": 4,
 "nbformat_minor": 2
}
