{
 "cells": [
  {
   "cell_type": "markdown",
   "metadata": {},
   "source": [
    "# In class 3"
   ]
  },
  {
   "cell_type": "markdown",
   "metadata": {},
   "source": [
    "### Index-based for loops\n",
    "\n",
    "#### range()"
   ]
  },
  {
   "cell_type": "code",
   "execution_count": 26,
   "metadata": {},
   "outputs": [
    {
     "name": "stdout",
     "output_type": "stream",
     "text": [
      "0 B\n",
      "1 E\n",
      "2 R\n",
      "3 L\n",
      "4 I\n",
      "5 N\n",
      "6 A\n",
      "7 L\n",
      "8 E\n",
      "0 B\n",
      "1 E\n",
      "2 R\n",
      "3 L\n",
      "4 I\n",
      "5 N\n",
      "6 A\n",
      "7 L\n",
      "8 E\n"
     ]
    }
   ],
   "source": [
    "word = 'BERLINALE'\n",
    "\n",
    "for i in range(len(word)):\n",
    "    print(i, word[i])\n",
    "\n",
    "for i, letter in enumerate(word):\n",
    "    print(i, letter)"
   ]
  },
  {
   "cell_type": "code",
   "execution_count": 10,
   "metadata": {},
   "outputs": [
    {
     "ename": "TypeError",
     "evalue": "'float' object cannot be interpreted as an integer",
     "output_type": "error",
     "traceback": [
      "\u001b[0;31m---------------------------------------------------------------------------\u001b[0m",
      "\u001b[0;31mTypeError\u001b[0m                                 Traceback (most recent call last)",
      "Cell \u001b[0;32mIn[10], line 1\u001b[0m\n\u001b[0;32m----> 1\u001b[0m \u001b[38;5;28mlist\u001b[39m(\u001b[38;5;28;43mrange\u001b[39;49m\u001b[43m(\u001b[49m\u001b[38;5;241;43m5\u001b[39;49m\u001b[43m,\u001b[49m\u001b[43m \u001b[49m\u001b[38;5;241;43m-\u001b[39;49m\u001b[38;5;241;43m14\u001b[39;49m\u001b[43m,\u001b[49m\u001b[43m \u001b[49m\u001b[38;5;241;43m-\u001b[39;49m\u001b[38;5;241;43m2.4\u001b[39;49m\u001b[43m)\u001b[49m)\n",
      "\u001b[0;31mTypeError\u001b[0m: 'float' object cannot be interpreted as an integer"
     ]
    }
   ],
   "source": [
    "list(range(5, -14, -2.4))"
   ]
  },
  {
   "cell_type": "code",
   "execution_count": 11,
   "metadata": {},
   "outputs": [
    {
     "name": "stdout",
     "output_type": "stream",
     "text": [
      "The max value in B is 89 found on position 4\n"
     ]
    }
   ],
   "source": [
    "B = [1, 4, 6, 7, 89, 54]\n",
    "big_indx = 0\n",
    "\n",
    "for i in range(len(B)):\n",
    "    if B[i] > B[big_indx]:\n",
    "        big_indx = i\n",
    "\n",
    "print('The max value in B is', B[big_indx], 'found on position' , big_indx)"
   ]
  },
  {
   "cell_type": "code",
   "execution_count": 19,
   "metadata": {},
   "outputs": [
    {
     "name": "stdout",
     "output_type": "stream",
     "text": [
      "[40, 48, 19, 54, 27]\n"
     ]
    }
   ],
   "source": [
    "# percentage of time spent in center\n",
    "\n",
    "double_measurements = [30, 40, 50, 48, 23, 19, 60, 54, 39, 27] # 5 animals\n",
    "one_measurement_per_animal = []\n",
    "for indx in range(1, len(double_measurements), 2): \n",
    "    one_measurement_per_animal.append(double_measurements[indx])\n",
    "\n",
    "print(one_measurement_per_animal)\n"
   ]
  },
  {
   "cell_type": "code",
   "execution_count": 20,
   "metadata": {},
   "outputs": [
    {
     "name": "stdout",
     "output_type": "stream",
     "text": [
      "[0, 1, 2, 3, 4, 5, 6, 7, 8, 9, 10, 11]\n",
      "[3, 4, 5, 6, 7, 8, 9, 10, 11]\n",
      "[3, 5, 7, 9, 11]\n"
     ]
    }
   ],
   "source": [
    "print(list(range(12))) # one argument \n",
    "print(list(range(3, 12))) # start, stop \n",
    "print(list(range(3, 12, 2))) # start, stop, step"
   ]
  },
  {
   "cell_type": "markdown",
   "metadata": {},
   "source": [
    "#### enumerate()"
   ]
  },
  {
   "cell_type": "code",
   "execution_count": 23,
   "metadata": {},
   "outputs": [
    {
     "name": "stdout",
     "output_type": "stream",
     "text": [
      "Our starting array is: [20 21 22 23 24]\n",
      "the index is 0\n",
      "the value is  20\n",
      "the index is 1\n",
      "the value is  21\n",
      "the index is 2\n",
      "the value is  22\n",
      "the index is 3\n",
      "the value is  23\n",
      "the index is 4\n",
      "the value is  24\n"
     ]
    }
   ],
   "source": [
    "import array\n",
    "import numpy as np\n",
    "\n",
    "array_a = np.arange(20, 25)\n",
    "print('Our starting array is:', array_a)\n",
    "\n",
    "for indx, val in enumerate(array_a):\n",
    "    print('the index is', indx)\n",
    "    print('the value is ', val)"
   ]
  },
  {
   "cell_type": "code",
   "execution_count": 24,
   "metadata": {},
   "outputs": [
    {
     "data": {
      "text/plain": [
       "[(0, np.int64(20)),\n",
       " (1, np.int64(21)),\n",
       " (2, np.int64(22)),\n",
       " (3, np.int64(23)),\n",
       " (4, np.int64(24))]"
      ]
     },
     "execution_count": 24,
     "metadata": {},
     "output_type": "execute_result"
    }
   ],
   "source": [
    "list(enumerate(array_a))"
   ]
  },
  {
   "cell_type": "code",
   "execution_count": null,
   "metadata": {},
   "outputs": [],
   "source": []
  },
  {
   "cell_type": "code",
   "execution_count": 27,
   "metadata": {},
   "outputs": [
    {
     "name": "stdout",
     "output_type": "stream",
     "text": [
      "0\n",
      "apple\n",
      "1\n",
      "peach\n",
      "2\n",
      "tomato\n",
      "3\n",
      "grape\n"
     ]
    }
   ],
   "source": [
    "fruits = ['apple', 'peach', 'tomato', 'grape']\n",
    "\n",
    "for indx, fruit in enumerate(fruits):\n",
    "    print(indx)\n",
    "    print(fruit)"
   ]
  },
  {
   "cell_type": "code",
   "execution_count": 32,
   "metadata": {},
   "outputs": [
    {
     "data": {
      "text/plain": [
       "<enumerate at 0x11549d120>"
      ]
     },
     "execution_count": 32,
     "metadata": {},
     "output_type": "execute_result"
    }
   ],
   "source": [
    "enumerate(word)"
   ]
  },
  {
   "cell_type": "code",
   "execution_count": 28,
   "metadata": {},
   "outputs": [
    {
     "name": "stdout",
     "output_type": "stream",
     "text": [
      "<class 'range'>\n",
      "<class 'enumerate'>\n"
     ]
    }
   ],
   "source": [
    "print(type(range(20)))\n",
    "\n",
    "print(type(enumerate(fruits)))"
   ]
  },
  {
   "cell_type": "code",
   "execution_count": null,
   "metadata": {},
   "outputs": [],
   "source": [
    "# "
   ]
  },
  {
   "cell_type": "markdown",
   "metadata": {},
   "source": [
    "### In-class exercise 2\n",
    "\n",
    "Given:\n",
    "4 measurements of intrinsic properties of 12 cells <br>\n",
    "4 numpy arrays Rin (input resistance), Rs (series resistance), RMPs (resting membrane potential), AP_THs (action potential threshold)\n",
    "\n",
    "Find:\n",
    "1. The input resistance of the cell with the lowest series resistance\n",
    "2. The AP thresholds of the 2 cell with highest RMPs\n",
    "3. A list of indices of cells to exclude. QC criteria: \n",
    "    - Rs < 30 MOhm\n",
    "    - RMPs > -45 mV\n"
   ]
  },
  {
   "cell_type": "code",
   "execution_count": 84,
   "metadata": {},
   "outputs": [],
   "source": [
    "Rin = np.array([26.38, 67.84, 63.05, 58.88, 57.51, 57.88, 43.68, 64.03, 139.82, 60.39, 62.13, 63.04])\n",
    "Rs = np.array([19.61, 28.40, 13.71, 16.26, 9.78, 10.51, 12.41, 8.94, 12.29, 11.92, 15.66, 16.32])\n",
    "RMPs = np.array([-68.93, -72.71, -55.55, -58.70, -44.18, -75.16, -43.82, -80.47, -63.30, -39.27, -46.08, -32.97])\n",
    "AP_THs = np.array([-47.45, -28.71, -36.14, -44.54, -38.67, -41.49, -41.99, -43.81, -44.21, -46.93, -42.58, -27.12])"
   ]
  },
  {
   "cell_type": "code",
   "execution_count": null,
   "metadata": {},
   "outputs": [],
   "source": [
    "# solution cell\n"
   ]
  },
  {
   "cell_type": "code",
   "execution_count": null,
   "metadata": {},
   "outputs": [],
   "source": [
    "# try out code cell\n",
    "\n",
    "\n"
   ]
  },
  {
   "cell_type": "markdown",
   "metadata": {},
   "source": [
    "## break and continue"
   ]
  },
  {
   "cell_type": "markdown",
   "metadata": {},
   "source": [
    "- break - immediately terminates the loop\n",
    "- continue - skips whatever is after it and continues with the next iteration\n",
    "    - mostly used after a conditional statement"
   ]
  },
  {
   "cell_type": "code",
   "execution_count": null,
   "metadata": {},
   "outputs": [],
   "source": [
    "# breat statement\n",
    " \n",
    "fruits = ['apple', 'peach', 'tomato', 'grape', 'pear', 'apricot']\n",
    "\n",
    "not_the_best_fruit = []\n",
    "for indx, fruit in enumerate(fruits):\n",
    "    if fruit == 'pear':\n",
    "        print('we have found the tastiest fruit. It is', fruit)\n",
    "        break\n",
    "    \n",
    "    not_the_best_fruit.append(fruit)\n",
    "\n",
    "print('The not so tasty fruit are:', not_the_best_fruit)"
   ]
  },
  {
   "cell_type": "code",
   "execution_count": null,
   "metadata": {},
   "outputs": [],
   "source": [
    "# continue statement\n",
    "\n",
    "fruits = ['apple', 'peach', 'tomato', 'grape', 'pear', 'apricot']\n",
    "\n",
    "not_the_best_fruit = []\n",
    "for indx, fruit in enumerate(fruits):\n",
    "    if fruit == 'pear':\n",
    "        print('we have found the tastiest fruit. It is', fruit)\n",
    "        continue\n",
    "    \n",
    "    not_the_best_fruit.append(fruit)\n",
    "\n",
    "print('The not so tasty fruit are:', not_the_best_fruit)"
   ]
  },
  {
   "cell_type": "markdown",
   "metadata": {},
   "source": [
    "### Exercise with break and continue statements"
   ]
  },
  {
   "cell_type": "markdown",
   "metadata": {},
   "source": [
    "Given: a dictionary with slice names and the recordings that were performed. Some times recordings were repeated. You would like to keep only the first instances of those recordings and expand the dictionary with the indices of the recordings to keep. Use a continue statement to solve this problem."
   ]
  },
  {
   "cell_type": "code",
   "execution_count": 144,
   "metadata": {},
   "outputs": [],
   "source": [
    "# Given\n",
    "\n",
    "recordings_dictionary = {\n",
    "        'S1': ['vc', 'ramp', 'resting', 'resting', 'connectivity_screen', 'spontan', 'vc_end'],\n",
    "        'S2': ['vc', 'ramp', 'resting', 'connectivity_screen', 'connectivity_screen' ,'spontan', 'vc_end'],\n",
    "        'S3': ['vc', 'ramp', 'resting', 'resting', 'connectivity_screen', 'spontan', 'spontan', 'vc_end'],\n",
    "        'S4': ['vc', 'ramp', 'ramp', 'ramp', 'resting', 'connectivity_screen', 'spontan', 'vc_end']\n",
    "}"
   ]
  },
  {
   "cell_type": "code",
   "execution_count": 1,
   "metadata": {},
   "outputs": [],
   "source": [
    "# solution should look like this\n",
    "\n",
    "recordings_dictionary_solution = {\n",
    "        'S1': [['vc', 'ramp', 'resting', 'connectivity_screen', 'spontan', 'vc_end'], [0,1,2,4,5,6]],\n",
    "        'S2': [['vc', 'ramp', 'resting', 'connectivity_screen', 'spontan', 'vc_end'], [0,1,2,3,5,6]],\n",
    "        'S3': [['vc', 'ramp', 'resting', 'connectivity_screen', 'spontan', 'vc_end'], [0,1,2,4,5,7]],\n",
    "        'S4': [['vc', 'ramp', 'resting', 'connectivity_screen', 'spontan', 'vc_end'], [0,1,4,5,6,7]]\n",
    "}"
   ]
  },
  {
   "cell_type": "code",
   "execution_count": 146,
   "metadata": {},
   "outputs": [],
   "source": [
    "# your solution here\n"
   ]
  }
 ],
 "metadata": {
  "kernelspec": {
   "display_name": ".lab_python",
   "language": "python",
   "name": "python3"
  },
  "language_info": {
   "codemirror_mode": {
    "name": "ipython",
    "version": 3
   },
   "file_extension": ".py",
   "mimetype": "text/x-python",
   "name": "python",
   "nbconvert_exporter": "python",
   "pygments_lexer": "ipython3",
   "version": "3.12.7"
  }
 },
 "nbformat": 4,
 "nbformat_minor": 2
}
