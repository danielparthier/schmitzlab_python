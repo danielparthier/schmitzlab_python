{
 "cells": [
  {
   "cell_type": "markdown",
   "metadata": {},
   "source": [
    "# In class - 5"
   ]
  },
  {
   "cell_type": "code",
   "execution_count": null,
   "metadata": {},
   "outputs": [],
   "source": [
    "import numpy as np\n",
    "import matplotlib.pyplot as plt\n",
    "from scipy import signal\n",
    "from scipy import optimize\n",
    "import json"
   ]
  },
  {
   "cell_type": "markdown",
   "metadata": {},
   "source": [
    "## Detect signals in data\n",
    "\n",
    "Use predefined functions to detect peaks in data. Most of the time we don't want to reinvent the wheel. There are very good and efficient libraries available which will do a great job helping is with our task and save time. Today we will use the `find_peaks` function which is part of the `signal` module in the `scipy` package. "
   ]
  },
  {
   "cell_type": "markdown",
   "metadata": {},
   "source": [
    "### Load json file with characterisation\n",
    "The file we will use is the same experiment you used before. The data can be loaded as dictionary from the json file. With this code snipped we also convert the traces which are originally a list to a numpy array.\n",
    "Is there something you notice in the code?"
   ]
  },
  {
   "cell_type": "code",
   "execution_count": null,
   "metadata": {},
   "outputs": [],
   "source": [
    "# check that you have the right path to the data\n",
    "with open('/home/daniel/Work/Teaching/schmitzlab_python/data/charact_data.json') as f:\n",
    "    data = json.load(f)\n",
    "data = {key: np.array(data[key]) for key in data.keys()}\n",
    "plt.plot(data['D1'][10])\n",
    "plt.show()"
   ]
  },
  {
   "cell_type": "markdown",
   "metadata": {},
   "source": [
    "Another piece of information we need is the injected current. It is important to note that not all the current steps have the same step size."
   ]
  },
  {
   "cell_type": "code",
   "execution_count": null,
   "metadata": {},
   "outputs": [],
   "source": [
    "current_inj = [-300, -200, -150, -100, -50, 0, 50, 100, 150, 200, 250, 300]"
   ]
  },
  {
   "cell_type": "markdown",
   "metadata": {},
   "source": [
    "Let's take a look at what the `find_peaks` function does."
   ]
  },
  {
   "cell_type": "code",
   "execution_count": null,
   "metadata": {},
   "outputs": [],
   "source": [
    "peaks_location, peak_properties = signal.find_peaks(data['D1'][10], height=0)\n",
    "peaks_location, peak_properties"
   ]
  },
  {
   "cell_type": "markdown",
   "metadata": {},
   "source": [
    "Now find all the peak locations in the data set for D1 and D2. For each day make a list which has for every sweep the location of detected APs."
   ]
  },
  {
   "cell_type": "code",
   "execution_count": null,
   "metadata": {},
   "outputs": [],
   "source": [
    "def find_all_peaks(data, height=0):\n",
    "    peaks = []\n",
    "    # your code\n",
    "\n",
    "    return peaks"
   ]
  },
  {
   "cell_type": "markdown",
   "metadata": {},
   "source": [
    "Count for every sweep the number of APs detected and make a list containing the counts. Then plot the AP count vs. the current injected."
   ]
  },
  {
   "cell_type": "code",
   "execution_count": null,
   "metadata": {},
   "outputs": [],
   "source": [
    "# count and plot the number of APs"
   ]
  },
  {
   "cell_type": "markdown",
   "metadata": {},
   "source": [
    "Bonus:\n",
    "Get all the APs from the trace with 20 data points before and 40 after the detected peak. Put this data into an array. Fill the initial array with `np.nan`. Calculate for every AP in our array the difference over time as a separate array. These arrays will be appended to a list each called `AP_extracted` and `AP_extracted_diff`. In the end take a sweep from your list and plot the AP vs. the difference to get a polar plot.\n",
    "\n",
    "Hint:\n",
    "\n",
    "For plotting you might have to change the orientation of the array by transposing `array_name.T`."
   ]
  },
  {
   "cell_type": "code",
   "execution_count": null,
   "metadata": {},
   "outputs": [],
   "source": [
    "# AP extraction\n",
    "# extract the APs from the data with -10 data points and +40 data points\n",
    "# around the peak\n",
    "AP_extracted = []\n",
    "AP_extracted_diff = []\n",
    "\n",
    "# you code"
   ]
  },
  {
   "cell_type": "code",
   "execution_count": null,
   "metadata": {},
   "outputs": [],
   "source": [
    "# plot the APs vs. the AP_diff"
   ]
  }
 ],
 "metadata": {
  "kernelspec": {
   "display_name": ".lab_python",
   "language": "python",
   "name": "python3"
  },
  "language_info": {
   "codemirror_mode": {
    "name": "ipython",
    "version": 3
   },
   "file_extension": ".py",
   "mimetype": "text/x-python",
   "name": "python",
   "nbconvert_exporter": "python",
   "pygments_lexer": "ipython3",
   "version": "3.12.7"
  }
 },
 "nbformat": 4,
 "nbformat_minor": 2
}
