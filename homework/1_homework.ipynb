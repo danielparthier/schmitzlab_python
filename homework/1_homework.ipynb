{
 "cells": [
  {
   "cell_type": "markdown",
   "metadata": {},
   "source": [
    "# Homework"
   ]
  },
  {
   "cell_type": "markdown",
   "metadata": {},
   "source": [
    "Before starting with the homework, work in VSCode terminal to:\n",
    "1. create an environment for your project\n",
    "2. start python in the terminal by typing ***python***\n",
    "   -  **>>>**    indicates that you are using python\n",
    "2. *pip install* json, numpy, ipykernel\n",
    "    - install the packages one by one\n",
    "3. check if the installation worked\n",
    "    - type numpy.__version__\n",
    "\n",
    "\n",
    "Now you are ready to open the homework.ipynb and work throught it."
   ]
  },
  {
   "cell_type": "markdown",
   "metadata": {},
   "source": [
    "## Assigning variables\n",
    "\n",
    "In the lecture you witnessed the most common ways of assigning variables."
   ]
  },
  {
   "cell_type": "code",
   "execution_count": 1,
   "metadata": {},
   "outputs": [],
   "source": [
    "A = 300\n",
    "B = 450\n",
    "C = A * 2\n",
    "D = A / C"
   ]
  },
  {
   "cell_type": "code",
   "execution_count": 2,
   "metadata": {},
   "outputs": [],
   "source": [
    "#  assign multiple values to multiple variables\n",
    "X, Y, Z, K = 100, 300, 450, 999"
   ]
  },
  {
   "cell_type": "markdown",
   "metadata": {},
   "source": [
    "What do you expect the output to be?\n",
    "\n",
    "Y = ? \\\n",
    "K = ? \\\n",
    "K / Z = ? \n",
    "\n",
    "What are the types of those variables?"
   ]
  },
  {
   "cell_type": "code",
   "execution_count": 30,
   "metadata": {},
   "outputs": [],
   "source": [
    "# Solution cell\n",
    "# print the values of the variable and check it your predictions were correct\n",
    "\n",
    "# print the types of the varaibles using hte type() function\n",
    "\n",
    "# transform floats to integers\n",
    "\n",
    "# can A = K/Z be an integer?"
   ]
  },
  {
   "cell_type": "markdown",
   "metadata": {},
   "source": [
    "## Functions"
   ]
  },
  {
   "cell_type": "markdown",
   "metadata": {},
   "source": [
    "you are given a list with resting membrane potentials called RMPs\n",
    "Using build in python functions, the ones that you don't need to import,find the lowest and highest RMP. Assumimng each value corresponds to a cell, how many cells were recorded?\n",
    "\n",
    "By doing this you probably notice that some of the values need to be excluded. Let's create quality control criteria and apply them to our list of RMPs."
   ]
  },
  {
   "cell_type": "code",
   "execution_count": 31,
   "metadata": {},
   "outputs": [],
   "source": [
    "RMPs = [-74.28, -69.57, -54.95, -69.26, -60.99 ,-70.55, -67.92, -69.54, -42.53, \n",
    "        -75.38, -39.63, -130.38 ,-45.55 ,-70.0, -69.79, -56.93, -70.74, -45.67, \n",
    "        -68.51, -61.5, -64.09, -39.14, -60.99, -63.01, -30.32]"
   ]
  },
  {
   "cell_type": "code",
   "execution_count": null,
   "metadata": {},
   "outputs": [
    {
     "ename": "SyntaxError",
     "evalue": "invalid syntax (3852310953.py, line 6)",
     "output_type": "error",
     "traceback": [
      "\u001b[0;36m  Cell \u001b[0;32mIn[32], line 6\u001b[0;36m\u001b[0m\n\u001b[0;31m    max_RMP =\u001b[0m\n\u001b[0m              ^\u001b[0m\n\u001b[0;31mSyntaxError\u001b[0m\u001b[0;31m:\u001b[0m invalid syntax\n"
     ]
    }
   ],
   "source": [
    "# solutions cell\n",
    "\n",
    "min_RMP = min(RMPs)\n",
    "\n",
    "# complete the rest \n",
    "max_RMP = \n",
    "num_cells = \n",
    "\n",
    "print('the min_RMP is', min_RMP)\n",
    "print('the max_RMP is', max_RMP)\n",
    "print(\"we've recorded\", num_cells)"
   ]
  },
  {
   "cell_type": "code",
   "execution_count": null,
   "metadata": {},
   "outputs": [],
   "source": [
    "# solution cell\n",
    "# without importing another library, find the mean RMP value\n",
    "\n"
   ]
  },
  {
   "cell_type": "markdown",
   "metadata": {},
   "source": [
    "## Use the numpy library to do the same and more"
   ]
  },
  {
   "cell_type": "markdown",
   "metadata": {},
   "source": [
    "You saw that to calcualte the mean value of a build in python list, one needs to apply mathematical functions. This seems difficult especially when we want to perform more complicated operations, like computing the sine.\n",
    "\n",
    "Let's practice with numpy. Do the same as above, this time using the numpy library."
   ]
  },
  {
   "cell_type": "code",
   "execution_count": 33,
   "metadata": {},
   "outputs": [],
   "source": [
    "# import the library\n",
    "import numpy as np\n",
    "\n",
    "# transform the python list to a numpy array\n",
    "RMPs_np = np.array(RMPs)\n",
    "\n",
    "# check the data type \n",
    "\n",
    "\n"
   ]
  },
  {
   "cell_type": "code",
   "execution_count": null,
   "metadata": {},
   "outputs": [
    {
     "name": "stdout",
     "output_type": "stream",
     "text": [
      "the min recored RMP value is  -75.38\n"
     ]
    }
   ],
   "source": [
    "# solutions cell\n",
    "# fill in the gaps\n",
    "\n",
    "print('the min recored RMP value is ', np.min(RMPs_np))\n",
    "print('the max recored RMP value is ',  ...)\n",
    "print('the mean recored RMP value is ', ...)\n",
    "print('the median recored RMP value is ', ...)"
   ]
  },
  {
   "cell_type": "markdown",
   "metadata": {},
   "source": [
    "QC criteria\n",
    "ideally we would want to include only healthy cells in our analysis. One way to judge the cell's health is to look at it's resting membrane potential. By our definition healthy cells would ahve RMP between -85 mV mV and -55 mV."
   ]
  },
  {
   "cell_type": "code",
   "execution_count": null,
   "metadata": {},
   "outputs": [],
   "source": [
    "# solution cell\n",
    "\n",
    "max_allowed_RMP = -55\n",
    "min_allowed_RMP = -85\n",
    "\n",
    "# take the RMPs_np values that are smaller than a pre-defined max_allowed_RMP value\n",
    "max_filter = RMPs_np[RMPs_np < max_allowed_RMP]\n",
    "\n",
    "# continue with the min_filter\n",
    "# pay attention to what you are filtring \n",
    "# the QC checked array contains 16 values\n",
    "\n"
   ]
  },
  {
   "cell_type": "markdown",
   "metadata": {},
   "source": [
    "write a function that takes three arguments: RMP_list, min_allowed_RMP, and max_allowed_RMP and returns a list whose values fall between min_allower_RMP and max_allowed_RMP\n",
    "\n",
    "the docstring has already been added for you"
   ]
  },
  {
   "cell_type": "code",
   "execution_count": null,
   "metadata": {},
   "outputs": [],
   "source": [
    "# solution cell\n",
    "\n",
    "def get_healthy_cells():\n",
    "    '''\n",
    "    Returns a filtered list of RMPs\n",
    "\n",
    "    Args:\n",
    "        RMPs: a numpy array with RMP values\n",
    "        min_allowed_RMP: the minimum allowed value of the RMP to consider a cell healthy\n",
    "        max_allowed_RMP: the maximum allowed value of the RMP to consider a cell healthy\n",
    "\n",
    "    Returns:\n",
    "        healthy_cells: a list of RMPs, where only healthy cells are included\n",
    "    '''\n",
    "...\n",
    "\n",
    "    return healthy_cells\n"
   ]
  },
  {
   "cell_type": "markdown",
   "metadata": {},
   "source": [
    "apply your function on the next list of RMPs.\n",
    "How many cells were excluded?"
   ]
  },
  {
   "cell_type": "code",
   "execution_count": null,
   "metadata": {},
   "outputs": [],
   "source": [
    "RMPs = np.array([-74.9, -72.8, -62.5, -61.8, 0.164, -3.61, -60.8, -69.2, -45.1, -9.03, \n",
    "                  -76.1, -16.6, -73.9, -44.0, -78.2, -12.5, -72.8, -72.3, -75.8, -66.9, \n",
    "                  -76.2, -73.1, -72.4, -66.8, -17.2, -14.9, -65.2, -554.0, -1.34, -77.6, \n",
    "                  -74.3, -65.0, -49.3, -75.1])\n",
    "\n",
    "QC_RMPs_2 = get_healthy_cells(RMPs_2, -75, -40)\n",
    "\n",
    "print(QC_RMPs_2)"
   ]
  },
  {
   "cell_type": "code",
   "execution_count": 27,
   "metadata": {},
   "outputs": [],
   "source": [
    "# how many cells were excluded? (solve in one line)"
   ]
  },
  {
   "cell_type": "markdown",
   "metadata": {},
   "source": [
    "## Methods vs functions"
   ]
  },
  {
   "cell_type": "code",
   "execution_count": null,
   "metadata": {},
   "outputs": [
    {
     "data": {
      "text/plain": [
       "[-35.2, -32.0, -29.8, -29.6, -33.0, -27.7]"
      ]
     },
     "execution_count": 3,
     "metadata": {},
     "output_type": "execute_result"
    }
   ],
   "source": [
    "# thanks for the docstrings\n",
    "# keep the mouse above the function/ method and check the documentation\n",
    "\n",
    "ap_thresholds = [-35.2, -32.0, -29.8, -29.6, -33.0, -27.7]"
   ]
  },
  {
   "cell_type": "code",
   "execution_count": null,
   "metadata": {},
   "outputs": [],
   "source": [
    "# use a method to sort the list\n",
    "\n"
   ]
  },
  {
   "cell_type": "code",
   "execution_count": null,
   "metadata": {},
   "outputs": [],
   "source": [
    "# sort the list with a function\n",
    "\n"
   ]
  },
  {
   "cell_type": "markdown",
   "metadata": {},
   "source": [
    "which way of sorting the list would you use if you don't want to change the order of the original variable, for example, because it's matched with the order of other values?"
   ]
  },
  {
   "cell_type": "markdown",
   "metadata": {},
   "source": [
    "## Put it all together\n",
    "\n",
    "You are given more metadata that you have to add to an already existing metadata file. \n",
    "\n",
    "Let's start with the code from class that you should be familiar with. Use it to create a metadata file with RMPs and other metadata associated with them."
   ]
  },
  {
   "cell_type": "code",
   "execution_count": 41,
   "metadata": {},
   "outputs": [],
   "source": [
    "import json\n",
    "import numpy as np\n",
    "\n",
    "def create_meta_data_json(patcher, date_of_rec, RMPs, save_path, save_filename):\n",
    "    '''\n",
    "    Returns and saves a dictionary with metadata.\n",
    "\n",
    "    Args:       patcher (str): name of experimenter\n",
    "                date_of_rec (str): date of experiment\n",
    "                RMPs (list): list of recorded resting membrane potentials\n",
    "                save_path (str): destination folder\n",
    "                save_filename (str): name of the file\n",
    "\n",
    "    Returns:    output_data (dictionary): containing the metadata\n",
    "    '''\n",
    "    avg_RMP = np.mean(RMPs)\n",
    "    num_sweeps = len(RMPs) # have as many sweeps as values\n",
    "    \n",
    "    # define metadata dictionary\n",
    "    output_data = {\n",
    "    'author': patcher,\n",
    "    'date': date_of_rec,\n",
    "    'resting_membrane_avg': avg_RMP,\n",
    "    'unit': 'mV', # always mV for RMP\n",
    "    'sweep_count': num_sweeps}\n",
    "\n",
    "    # confirmation to user\n",
    "    print('saving the file ', save_filename, 'in', save_path)\n",
    "\n",
    "    with open(save_path + save_filename, 'w') as f:\n",
    "        json.dump(output_data, f)\n",
    "        \n",
    "    # return output_data"
   ]
  },
  {
   "cell_type": "code",
   "execution_count": null,
   "metadata": {},
   "outputs": [],
   "source": [
    "# solution cell\n",
    "# create a dictioanry those RMP values and add yout own other info\n",
    "\n",
    "RMPs = np.array([-74.9, -72.8, -62.5, -61.8, 0.164, -3.61, -60.8, -69.2, -45.1, -9.03, \n",
    "                  -76.1, -16.6, -73.9, -44.0, -78.2, -12.5, -72.8, -72.3, -75.8, -66.9, \n",
    "                  -76.2, -73.1, -72.4, -66.8, -17.2, -14.9, -65.2, -554.0, -1.34, -77.6, \n",
    "                  -74.3, -65.0, -49.3, -75.1])\n",
    "\n",
    "\n",
    "meta_dict = # apply the function"
   ]
  },
  {
   "cell_type": "code",
   "execution_count": null,
   "metadata": {},
   "outputs": [],
   "source": [
    "# display the average RMP using the meta_dict "
   ]
  },
  {
   "cell_type": "markdown",
   "metadata": {},
   "source": [
    "Tasks:\n",
    "- read the metadata that you've created\n",
    "- filter the RMPs so that only values between -50mV and -85 mV are included\n",
    "- include the minimum and the maximum RMP values in the output dictionary\n",
    "- write a new, updated create_meta_data_json function\n",
    "\n",
    "Advanced task: \n",
    "you are also given a list of action potential threshold values AP_THs\n",
    "you want to only include the TH values for the healthy cells <br>\n",
    "How do you do it?  <br>\n",
    "(hint) look up the function **np.where**, it's another method to filter values  <br>\n",
    "it returns an index that could be of use <br>"
   ]
  },
  {
   "cell_type": "code",
   "execution_count": null,
   "metadata": {},
   "outputs": [],
   "source": [
    "# read the metadata\n",
    "# you might need to change the name and the location\n",
    "\n",
    "data_path = 'data/data_info.json'\n",
    "with open(data_path) as f:\n",
    "    d = json.load(f)\n",
    "\n",
    "# display it\n",
    "\n",
    "# write a function to read .json files\n",
    "# what would be meaningful input?\n",
    "def read_json():\n",
    "\n",
    "\n",
    "    return data\n"
   ]
  },
  {
   "cell_type": "code",
   "execution_count": null,
   "metadata": {},
   "outputs": [],
   "source": [
    "# filter RMP values between -50 and -85 mV\n",
    "# use a function?"
   ]
  },
  {
   "cell_type": "code",
   "execution_count": null,
   "metadata": {},
   "outputs": [
    {
     "data": {
      "text/plain": [
       "np.float64(-12.4)"
      ]
     },
     "execution_count": 55,
     "metadata": {},
     "output_type": "execute_result"
    }
   ],
   "source": [
    "# metadata to add]\n",
    "\n",
    "AP_THs = np.array([-39.9, -38.8, -39.9, -36.9, -12.4, -38.4, -38.7, -35.6, -36.9, -34.8, -39.6, \n",
    "          -39.5, -45.0, -36.7, -38.5, -37.1, -35.9, -34.1, -40.7, -32.4, -46.8, -38.7, \n",
    "          -3.64, -36.4, -36.6, -30.8, -29.4, -34.1, -39.5, 5.95, -35.5, -34.1, -32.5, -37.9])\n",
    "\n",
    "\n",
    "# hint \n",
    "print(AP_THs[4]) # displays the 5th element in the AP_THs array\n",
    "\n",
    "# take only the AP_THs values of the healthy cells\n",
    "\n",
    "# add them as well as the average AP_TH to the metadata_dictionary"
   ]
  },
  {
   "cell_type": "code",
   "execution_count": null,
   "metadata": {},
   "outputs": [],
   "source": [
    "# might be time to redefine the function from the begining\n"
   ]
  },
  {
   "cell_type": "code",
   "execution_count": null,
   "metadata": {},
   "outputs": [],
   "source": [
    "# write a new, updated metadata file containing also the AP_TH info"
   ]
  }
 ],
 "metadata": {
  "kernelspec": {
   "display_name": ".lab_python",
   "language": "python",
   "name": "python3"
  },
  "language_info": {
   "codemirror_mode": {
    "name": "ipython",
    "version": 3
   },
   "file_extension": ".py",
   "mimetype": "text/x-python",
   "name": "python",
   "nbconvert_exporter": "python",
   "pygments_lexer": "ipython3",
   "version": "3.12.7"
  }
 },
 "nbformat": 4,
 "nbformat_minor": 2
}
