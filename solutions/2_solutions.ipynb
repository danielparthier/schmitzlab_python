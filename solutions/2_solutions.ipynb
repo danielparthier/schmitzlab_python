{
 "cells": [
  {
   "cell_type": "markdown",
   "metadata": {},
   "source": [
    "# Homework\n",
    "\n",
    "For this homework you will need `numpy` and at the end `matplotlib`. Remember from day 1 how to install packages which are missing."
   ]
  },
  {
   "cell_type": "markdown",
   "metadata": {},
   "source": [
    "## Local vs. Global"
   ]
  },
  {
   "cell_type": "markdown",
   "metadata": {},
   "source": [
    "In this part of the homework we will explore the difference between global and local variables. Local variables are either defined or assigned in the function or are a function input. Global variables exist outside and can be modified from within a function."
   ]
  },
  {
   "cell_type": "markdown",
   "metadata": {},
   "source": [
    "Make a new RMPs list with `-80` as first element local so that the global `RMPs` is not changed and stays with `-81`.\n",
    "\n",
    "Hint:\n",
    "\n",
    "Think about the placement of the list."
   ]
  },
  {
   "cell_type": "code",
   "execution_count": null,
   "metadata": {},
   "outputs": [],
   "source": [
    "RMPs = [-81, -76, -71, -78]\n",
    "# have a local RMPs = [-80, -76, -71, -78]\n",
    "\n",
    "def rmp_change_local():\n",
    "    # add code\n",
    "    RMPs = [-80, -76, -71, -78]\n",
    "    print(RMPs)\n",
    "\n",
    "rmp_change_local()\n",
    "print(RMPs)"
   ]
  },
  {
   "cell_type": "markdown",
   "metadata": {},
   "source": [
    "Write a function called `rmp_change` that changes the global variable `RMPs` and changes the first position from `-81` to `-80`"
   ]
  },
  {
   "cell_type": "code",
   "execution_count": 16,
   "metadata": {},
   "outputs": [
    {
     "name": "stdout",
     "output_type": "stream",
     "text": [
      "[-81, -76, -71, -78]\n"
     ]
    }
   ],
   "source": [
    "RMPs = [-81, -76, -71, -78]\n",
    "\n",
    "# modify the function to change the RMPs list\n",
    "def rmp_change_global():\n",
    "    RMPs[0] = -80\n",
    "\n",
    "rmp_change_global()\n",
    "print(RMPs)"
   ]
  },
  {
   "cell_type": "markdown",
   "metadata": {},
   "source": [
    "Now we want to avoid that the global `RMPs` are changed and only a local change should be performed. Write the function so that the global list stays the same and the first element in the list is only changed locally.\n",
    "\n",
    "Hint:\n",
    "\n",
    "Assigning a list a new variable does not copy the variable, however, lists have an attribute `mylist.copy()` which makes a copy."
   ]
  },
  {
   "cell_type": "code",
   "execution_count": null,
   "metadata": {},
   "outputs": [],
   "source": [
    "RMPs = [-81, -76, -71, -78]\n",
    "\n",
    "# modify the function to change the RMPs list inside the function\n",
    "# print the the local modified list additionally to the global list\n",
    "# after the function\n",
    "def rmp_change_local_modification():\n",
    "    # add the code here\n",
    "    RMPs_local = RMPs.copy()\n",
    "    RMPs_local[0] = -80\n",
    "    print(RMPs_local)\n",
    "\n",
    "rmp_change_local_modification()\n",
    "\n",
    "# global list\n",
    "print(RMPs)"
   ]
  },
  {
   "cell_type": "code",
   "execution_count": null,
   "metadata": {},
   "outputs": [],
   "source": [
    "# Second possible solution\n",
    "RMPs = [-81, -76, -71, -78]\n",
    "def rmp_change_local_modification():\n",
    "    # add the code here\n",
    "    RMPs = [-80, -76, -71, -78]\n",
    "    print(RMPs)\n",
    "\n",
    "rmp_change_local_modification()\n",
    "\n",
    "# global list\n",
    "print(RMPs)"
   ]
  },
  {
   "cell_type": "markdown",
   "metadata": {},
   "source": [
    "This part of the homework we will work through the different \"control flows\" which were discussed on day 2. Control flows are procedures which enable you to process information sequentially."
   ]
  },
  {
   "cell_type": "markdown",
   "metadata": {},
   "source": [
    "## Conditional statements\n",
    "\n",
    "The simplest statement one can use is the `if` statement. It can be extended by `elif` or `else`, but can also exist by itself."
   ]
  },
  {
   "cell_type": "code",
   "execution_count": 11,
   "metadata": {},
   "outputs": [],
   "source": [
    "RMP = -30\n",
    "threshold = -34"
   ]
  },
  {
   "cell_type": "markdown",
   "metadata": {},
   "source": [
    "Write an if statement that checks if the `RMP` is larger than the `threshold` and set the `RMP` to `10`. Print the new `RMP` after the statement."
   ]
  },
  {
   "cell_type": "code",
   "execution_count": 12,
   "metadata": {},
   "outputs": [
    {
     "name": "stdout",
     "output_type": "stream",
     "text": [
      "-30\n"
     ]
    }
   ],
   "source": [
    "#  write if statement\n",
    "if RMP > threshold:\n",
    "    RMP = 10\n",
    "print(RMP)"
   ]
  },
  {
   "cell_type": "markdown",
   "metadata": {},
   "source": [
    "Write a function called `spike_simulation` using the same if statement you just wrote.\n",
    "\n",
    "Expand it:\n",
    "- also check if `RMP` is `10`\n",
    "    - if `RMP` is `10` it should be reset to `-70`\n",
    "- should the `RMP` be something else the new `RMP` should be the old `RMP`\n",
    "- finally the function should return the new `RMP`\n",
    "\n",
    "Hint:\n",
    "\n",
    "Think about the order if statements. The first element will always have the priority and might skip your second statement."
   ]
  },
  {
   "cell_type": "code",
   "execution_count": 9,
   "metadata": {},
   "outputs": [
    {
     "name": "stdout",
     "output_type": "stream",
     "text": [
      "10\n",
      "-70\n"
     ]
    }
   ],
   "source": [
    "RMP = -30\n",
    "def spike_simulation(RMP, threshold):\n",
    "    # add your code\n",
    "    if RMP == 10:\n",
    "        RMP = -70    \n",
    "    elif RMP > threshold:\n",
    "        RMP = 10\n",
    "    else:\n",
    "        RMP = RMP\n",
    "    return RMP\n",
    "\n",
    "RMP = spike_simulation(RMP, threshold)\n",
    "\n",
    "print(RMP) # should be 10\n",
    "\n",
    "RMP = spike_simulation(RMP, threshold)\n",
    "\n",
    "print(RMP) # should be -70"
   ]
  },
  {
   "cell_type": "markdown",
   "metadata": {},
   "source": [
    "## For loops"
   ]
  },
  {
   "cell_type": "markdown",
   "metadata": {},
   "source": [
    "Here we will take a look at how loops can be useful. They let you repeat procedures for every element in your *iterable*.\n",
    "Check in the next box if all the elements are `True`."
   ]
  },
  {
   "cell_type": "code",
   "execution_count": 1,
   "metadata": {},
   "outputs": [
    {
     "data": {
      "text/plain": [
       "False"
      ]
     },
     "execution_count": 1,
     "metadata": {},
     "output_type": "execute_result"
    }
   ],
   "source": [
    "# note: the \"*4\" at the end of the list repeats the list 4 times\n",
    "input_list = [True, False, False, False, True, False, True, False, True, False] * 4\n",
    "\n",
    "# are all of the elements in the list True? write your answer as a boolean\n",
    "all(input_list)"
   ]
  },
  {
   "cell_type": "markdown",
   "metadata": {},
   "source": [
    "Write a `for` loop which runs over the `input_list` and print \"input\" for every element that is `True`. At the same time count the number of inputs inside the loop and print them at the end.\n",
    "\n",
    "Hint:\n",
    "\n",
    "Add up counts inside a for loop."
   ]
  },
  {
   "cell_type": "code",
   "execution_count": 2,
   "metadata": {},
   "outputs": [
    {
     "name": "stdout",
     "output_type": "stream",
     "text": [
      "input\n",
      "input\n",
      "input\n",
      "input\n",
      "input\n",
      "input\n",
      "input\n",
      "input\n",
      "input\n",
      "input\n",
      "input\n",
      "input\n",
      "input\n",
      "input\n",
      "input\n",
      "input\n",
      "The number of inputs is 16\n"
     ]
    }
   ],
   "source": [
    "# write your loop here\n",
    "number_of_inputs = 0\n",
    "for input in input_list:\n",
    "    if input:\n",
    "        number_of_inputs += 1\n",
    "        print(\"input\")\n",
    "\n",
    "print('The number of inputs is', number_of_inputs)\n",
    "# expected output: The number of inputs is 16"
   ]
  },
  {
   "cell_type": "markdown",
   "metadata": {},
   "source": [
    "For the next step we want to simulate the input size. numpy offers some functions we can use to generate a random number. In this example we generate a number and then convert it to a `float`"
   ]
  },
  {
   "cell_type": "code",
   "execution_count": 5,
   "metadata": {},
   "outputs": [
    {
     "data": {
      "text/plain": [
       "4.907609822659935"
      ]
     },
     "execution_count": 5,
     "metadata": {},
     "output_type": "execute_result"
    }
   ],
   "source": [
    "import numpy as np\n",
    "\n",
    "# set the seed to 2025 so that we all get the same numbers\n",
    "np.random.seed(2025)\n",
    "\n",
    "# the normal() function generates a random number\n",
    "# the first element is the mean, the second the standard deviation\n",
    "\n",
    "np.random.normal(5, 1)"
   ]
  },
  {
   "cell_type": "markdown",
   "metadata": {},
   "source": [
    "Using the same approach as before we want to generate a random number if an input is detected and add it to the `RMP`. This will be our new resting membrane potential. The random number should follow the same mean and standard deviation as before `np.random.normal(5, 1)`. For every non-existing input (`False`) add a `0` to the list.\n"
   ]
  },
  {
   "cell_type": "code",
   "execution_count": 7,
   "metadata": {},
   "outputs": [
    {
     "name": "stdout",
     "output_type": "stream",
     "text": [
      "8.0976\n"
     ]
    }
   ],
   "source": [
    "np.random.seed(2025)\n",
    "\n",
    "RMP = -70\n",
    "for input in input_list:\n",
    "    # add your code here\n",
    "    if input:\n",
    "        RMP += np.random.normal(5, 1)\n",
    "    else:\n",
    "        RMP += 0\n",
    "\n",
    "# expected output: 8.0976\n",
    "print(np.round(RMP, 4))\n"
   ]
  },
  {
   "cell_type": "markdown",
   "metadata": {},
   "source": [
    "Use the same for loop you just wrote and modify it so that with every iteration you use your `spike_simulation` for the `RMP`.\n",
    "\n",
    "The new `RMP` should be appended to the output list (`RMP_list`).\n",
    "\n",
    "If the new `RMP` is over `0` you get a spike. Add a spike counter and return the number of spikes at the end."
   ]
  },
  {
   "cell_type": "code",
   "execution_count": 14,
   "metadata": {},
   "outputs": [
    {
     "name": "stdout",
     "output_type": "stream",
     "text": [
      "2\n"
     ]
    }
   ],
   "source": [
    "np.random.seed(2025)\n",
    "\n",
    "threshold = -34\n",
    "RMP = -70\n",
    "RMP_list = []\n",
    "spike_counter = 0\n",
    "\n",
    "for input in input_list:\n",
    "    # add your code here\n",
    "    if input:\n",
    "        RMP += np.random.normal(5, 1)\n",
    "    else:\n",
    "        RMP += 0\n",
    "    RMP = spike_simulation(RMP, threshold)\n",
    "    RMP_list.append(RMP)\n",
    "    if RMP > 0:\n",
    "        spike_counter += 1 # or spike_counter = spike_counter + 1\n",
    "\n",
    "\n",
    "print(spike_counter) # you should get 2 spikes"
   ]
  },
  {
   "cell_type": "code",
   "execution_count": 15,
   "metadata": {},
   "outputs": [
    {
     "name": "stdout",
     "output_type": "stream",
     "text": [
      "[-65.09239017734006, -65.09239017734006, -65.09239017734006, -65.09239017734006, -59.35810460552186, -59.35810460552186, -55.796986630659845, -55.796986630659845, -51.46040865560304, -51.46040865560304, -46.56113674389604, -46.56113674389604, -46.56113674389604, -46.56113674389604, -39.41415017061042, -39.41415017061042, 10, -70, -65.20737113206187, -65.20737113206187, -59.443783845988094, -59.443783845988094, -59.443783845988094, -59.443783845988094, -54.23873019572902, -54.23873019572902, -50.28022636977449, -50.28022636977449, -46.10830245914271, -46.10830245914271, -42.1620981442655, -42.1620981442655, -42.1620981442655, -42.1620981442655, -37.25085680896706, -37.25085680896706, 10, -70, -66.78932304725188, -66.78932304725188]\n",
      "-66.7893\n"
     ]
    }
   ],
   "source": [
    "print(RMP_list)\n",
    "\n",
    "# the last value in your list should be rounded to -66.7893\n",
    "print(np.round(RMP_list[-1], 4))"
   ]
  },
  {
   "cell_type": "markdown",
   "metadata": {},
   "source": [
    "Let's take a look at the activity.\n",
    "For this we can plot the list with `matplotlib`. We will learn more about this in the future."
   ]
  },
  {
   "cell_type": "code",
   "execution_count": 16,
   "metadata": {},
   "outputs": [
    {
     "data": {
      "text/plain": [
       "[<matplotlib.lines.Line2D at 0x755d80bcda50>]"
      ]
     },
     "execution_count": 16,
     "metadata": {},
     "output_type": "execute_result"
    },
    {
     "data": {
      "image/png": "[encoded data removed]",
      "text/plain": [
       "<Figure size 640x480 with 1 Axes>"
      ]
     },
     "metadata": {},
     "output_type": "display_data"
    }
   ],
   "source": [
    "import matplotlib.pyplot as plt\n",
    "plt.plot(RMP_list)"
   ]
  },
  {
   "cell_type": "markdown",
   "metadata": {},
   "source": [
    "Congratulations you simulated your first spike train!\n",
    "\n",
    "Now find the index of where you generated a spike. Don't forget a spike is a potential larger than 0. You can now write a for loop which looks for spikes in your new `RMP_list` and prints the index when you found a spike.\n",
    "\n",
    "\n",
    "Hint:\n",
    "\n",
    "Use a counter for the location."
   ]
  },
  {
   "cell_type": "code",
   "execution_count": 17,
   "metadata": {},
   "outputs": [
    {
     "name": "stdout",
     "output_type": "stream",
     "text": [
      "16\n",
      "36\n"
     ]
    }
   ],
   "source": [
    "# write the for loop to print the spike location\n",
    "spike_location = 0\n",
    "for RMP in RMP_list:\n",
    "    if RMP > 0:\n",
    "        print(spike_location)\n",
    "    spike_location += 1\n",
    "\n",
    "# expected output: 16 and 36"
   ]
  }
 ],
 "metadata": {
  "kernelspec": {
   "display_name": ".venv",
   "language": "python",
   "name": "python3"
  },
  "language_info": {
   "codemirror_mode": {
    "name": "ipython",
    "version": 3
   },
   "file_extension": ".py",
   "mimetype": "text/x-python",
   "name": "python",
   "nbconvert_exporter": "python",
   "pygments_lexer": "ipython3",
   "version": "3.10.12"
  }
 },
 "nbformat": 4,
 "nbformat_minor": 2
}
